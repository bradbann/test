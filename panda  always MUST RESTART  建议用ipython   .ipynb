{
 "cells": [
  {
   "cell_type": "code",
   "execution_count": 13,
   "metadata": {
    "collapsed": false
   },
   "outputs": [
    {
     "data": {
      "text/plain": [
       "14938.44701855365"
      ]
     },
     "execution_count": 13,
     "metadata": {},
     "output_type": "execute_result"
    }
   ],
   "source": [
    "%matplotlib inline\n",
    "import pandas as pd \n",
    "import numpy as np\n",
    "import matplotlib.pyplot as plt\n",
    "i=np.random.normal(27000,15000,10000)#正态分布\n",
    "i.std()#标准差"
   ]
  },
  {
   "cell_type": "code",
   "execution_count": 14,
   "metadata": {
    "collapsed": false
   },
   "outputs": [
    {
     "data": {
      "text/plain": [
       "223157199.32613441"
      ]
     },
     "execution_count": 14,
     "metadata": {},
     "output_type": "execute_result"
    }
   ],
   "source": [
    "i.var()#方差"
   ]
  },
  {
   "cell_type": "code",
   "execution_count": 15,
   "metadata": {
    "collapsed": false
   },
   "outputs": [
    {
     "data": {
      "text/plain": [
       "26942.856097402608"
      ]
     },
     "execution_count": 15,
     "metadata": {},
     "output_type": "execute_result"
    }
   ],
   "source": [
    "np.mean(i)#平均数"
   ]
  },
  {
   "cell_type": "code",
   "execution_count": 16,
   "metadata": {
    "collapsed": false
   },
   "outputs": [
    {
     "data": {
      "text/plain": [
       "26756.883212083452"
      ]
     },
     "execution_count": 16,
     "metadata": {},
     "output_type": "execute_result"
    }
   ],
   "source": [
    "np.median(i)#中位数"
   ]
  },
  {
   "cell_type": "code",
   "execution_count": 17,
   "metadata": {
    "collapsed": false
   },
   "outputs": [
    {
     "data": {
      "image/png": "[encoded data removed]",
      "text/plain": [
       "<matplotlib.figure.Figure at 0x11b46471320>"
      ]
     },
     "metadata": {},
     "output_type": "display_data"
    }
   ],
   "source": [
    "plt.hist(i,50)\n",
    "plt.show()"
   ]
  },
  {
   "cell_type": "code",
   "execution_count": 18,
   "metadata": {
    "collapsed": false
   },
   "outputs": [
    {
     "data": {
      "text/plain": [
       "array([81, 38, 64, 46, 55, 39, 42, 33, 58, 42, 53, 35, 75, 60, 27, 57, 80,\n",
       "       31, 58, 69, 45, 45, 83, 72, 42, 44, 81, 34, 52, 74, 60, 77, 27, 79,\n",
       "       36, 22, 37, 43, 69, 83, 68, 22, 64, 63, 71, 23, 79, 76, 79, 72, 67,\n",
       "       25, 52, 46, 48, 33, 37, 54, 75, 71, 26, 67, 54, 43, 26, 21, 53, 45,\n",
       "       49, 71, 38, 36, 44, 26, 64, 84, 59, 50, 58, 58, 59, 38, 51, 71, 64,\n",
       "       43, 49, 84, 25, 72, 30, 75, 25, 56, 29, 73, 31, 32, 80, 39])"
      ]
     },
     "execution_count": 18,
     "metadata": {},
     "output_type": "execute_result"
    }
   ],
   "source": [
    "age =np.random.randint(20,85,100)\n",
    "age"
   ]
  },
  {
   "cell_type": "code",
   "execution_count": 19,
   "metadata": {
    "collapsed": false,
    "scrolled": true
   },
   "outputs": [
    {
     "data": {
      "text/plain": [
       "ModeResult(mode=array([58]), count=array([4]))"
      ]
     },
     "execution_count": 19,
     "metadata": {},
     "output_type": "execute_result"
    }
   ],
   "source": [
    "from scipy import stats\n",
    "stats.mode(age) #统计最多的个数     语法正确   3.4的问题"
   ]
  },
  {
   "cell_type": "code",
   "execution_count": 20,
   "metadata": {
    "collapsed": false,
    "scrolled": true
   },
   "outputs": [
    {
     "data": {
      "image/png": "[encoded data removed]",
      "text/plain": [
       "<matplotlib.figure.Figure at 0x11b49703dd8>"
      ]
     },
     "metadata": {},
     "output_type": "display_data"
    }
   ],
   "source": [
    "e=np.random.randint(1,7,10000)#均匀分布\n",
    "plt.hist(e,6)\n",
    "plt.show()#语法正确   3.4的问题\n"
   ]
  },
  {
   "cell_type": "code",
   "execution_count": 21,
   "metadata": {
    "collapsed": false
   },
   "outputs": [
    {
     "data": {
      "text/plain": [
       "[<matplotlib.lines.Line2D at 0x11b497e0588>]"
      ]
     },
     "execution_count": 21,
     "metadata": {},
     "output_type": "execute_result"
    },
    {
     "data": {
      "image/png": "[encoded data removed]",
      "text/plain": [
       "<matplotlib.figure.Figure at 0x11b49793630>"
      ]
     },
     "metadata": {},
     "output_type": "display_data"
    }
   ],
   "source": [
    "from scipy.stats import norm #正态分布\n",
    "data2 =np.linspace(1.5,1.9,10000)#语法正确   3.4的问题\n",
    "plt.plot(data2,norm.pdf(data2,loc=1.7,scale=0.05))#pdf概率密度 loc 中间值scale 标准差\n",
    "#平均 1.7 +-0.05      1.65-1.7占比 plot(x,y) 原数据x norm.pdf()求出来的数 为y绘制\n"
   ]
  },
  {
   "cell_type": "code",
   "execution_count": 22,
   "metadata": {
    "collapsed": false
   },
   "outputs": [
    {
     "data": {
      "text/plain": [
       "[<matplotlib.lines.Line2D at 0x11b49851908>]"
      ]
     },
     "execution_count": 22,
     "metadata": {},
     "output_type": "execute_result"
    },
    {
     "data": {
      "image/png": "[encoded data removed]",
      "text/plain": [
       "<matplotlib.figure.Figure at 0x11b4978f1d0>"
      ]
     },
     "metadata": {},
     "output_type": "display_data"
    }
   ],
   "source": [
    "from scipy .stats import binom#二项分布\n",
    "n,p =10,0.5 #抛10个硬币 ，正面 反面 ，成功概率 0.5\n",
    "data3=np.arange(1,11)#期望1-10个\n",
    "plt.plot(data3,binom.pmf(data3,n,p),'bo')#pmf针对离散 ，用bo绘制\n",
    "#抛10个硬币 5个正面 概率0.25  10 个正面 概率0\n"
   ]
  },
  {
   "cell_type": "code",
   "execution_count": 23,
   "metadata": {
    "collapsed": false
   },
   "outputs": [
    {
     "data": {
      "text/plain": [
       "[<matplotlib.lines.Line2D at 0x11b498bb1d0>]"
      ]
     },
     "execution_count": 23,
     "metadata": {},
     "output_type": "execute_result"
    },
    {
     "data": {
      "image/png": "[encoded data removed]",
      "text/plain": [
       "<matplotlib.figure.Figure at 0x11b4985cd30>"
      ]
     },
     "metadata": {},
     "output_type": "display_data"
    }
   ],
   "source": [
    "from scipy.stats import poisson #泊松分布\n",
    "mu =20000#假设 非假期 日均流量 2万次\n",
    "data4 =np.arange(19000,21000)#出现19000-21000的概率\n",
    "plt.plot(data4,poisson.pmf(data4,mu),'bo')#pmf针对离散数据，用bo"
   ]
  },
  {
   "cell_type": "code",
   "execution_count": 24,
   "metadata": {
    "collapsed": false
   },
   "outputs": [
    {
     "data": {
      "text/plain": [
       "[<matplotlib.lines.Line2D at 0x11b49915cc0>]"
      ]
     },
     "execution_count": 24,
     "metadata": {},
     "output_type": "execute_result"
    },
    {
     "data": {
      "image/png": "[encoded data removed]",
      "text/plain": [
       "<matplotlib.figure.Figure at 0x11b49893780>"
      ]
     },
     "metadata": {},
     "output_type": "display_data"
    }
   ],
   "source": [
    "from scipy.stats import expon#指数发布\n",
    "data5 =np.linspace(0,7,10000)#双11 第一天-第7天\n",
    "plt.plot(data5,expon.pdf(data5)*100)#媒体成交额1-100亿"
   ]
  },
  {
   "cell_type": "code",
   "execution_count": 25,
   "metadata": {
    "collapsed": false
   },
   "outputs": [
    {
     "data": {
      "image/png": "[encoded data removed]",
      "text/plain": [
       "<matplotlib.figure.Figure at 0x11b4993c860>"
      ]
     },
     "metadata": {},
     "output_type": "display_data"
    }
   ],
   "source": [
    "data6 =np.random.normal(70,10,10000)#1万个考试分数\n",
    "plt.hist(data6,40)\n",
    "plt.show()"
   ]
  },
  {
   "cell_type": "code",
   "execution_count": 26,
   "metadata": {
    "collapsed": false
   },
   "outputs": [
    {
     "data": {
      "text/plain": [
       "70.121235440159751"
      ]
     },
     "execution_count": 26,
     "metadata": {},
     "output_type": "execute_result"
    }
   ],
   "source": [
    "np.percentile(data6,50)#中位数，Q2第二个4分位数"
   ]
  },
  {
   "cell_type": "code",
   "execution_count": 27,
   "metadata": {
    "collapsed": false
   },
   "outputs": [
    {
     "data": {
      "image/png": "[encoded data removed]",
      "text/plain": [
       "<matplotlib.figure.Figure at 0x11b48f5a208>"
      ]
     },
     "metadata": {},
     "output_type": "display_data"
    }
   ],
   "source": [
    "plt.boxplot(data6,40)\n",
    "plt.show()#箱型图"
   ]
  },
  {
   "cell_type": "code",
   "execution_count": 28,
   "metadata": {
    "collapsed": false
   },
   "outputs": [
    {
     "data": {
      "text/plain": [
       "63.295659834882066"
      ]
     },
     "execution_count": 28,
     "metadata": {},
     "output_type": "execute_result"
    }
   ],
   "source": [
    "np.percentile(data6,25)#第25位数 q3第3个四分位数   "
   ]
  },
  {
   "cell_type": "code",
   "execution_count": 29,
   "metadata": {
    "collapsed": false
   },
   "outputs": [
    {
     "data": {
      "text/plain": [
       "76.69786400384956"
      ]
     },
     "execution_count": 29,
     "metadata": {},
     "output_type": "execute_result"
    }
   ],
   "source": [
    "np.percentile(data6,75)#第75位数 q3第1个四分位数"
   ]
  },
  {
   "cell_type": "code",
   "execution_count": 30,
   "metadata": {
    "collapsed": false
   },
   "outputs": [
    {
     "data": {
      "image/png": "[encoded data removed]",
      "text/plain": [
       "<matplotlib.figure.Figure at 0x11b47f287b8>"
      ]
     },
     "metadata": {},
     "output_type": "display_data"
    }
   ],
   "source": [
    "data7 =np.random.normal(70,10,10000)#10000个考试分数\n",
    "data8 =np.random.normal(40,5,10000)#new no.\n",
    "data7 =np.append(data7,data8)#  append\n",
    "plt.hist(data7,40)\n",
    "plt.show()"
   ]
  },
  {
   "cell_type": "code",
   "execution_count": 31,
   "metadata": {
    "collapsed": false
   },
   "outputs": [
    {
     "data": {
      "text/plain": [
       "55.040603298648648"
      ]
     },
     "execution_count": 31,
     "metadata": {},
     "output_type": "execute_result"
    }
   ],
   "source": [
    "np.mean(data7)#一阶矩 平均值"
   ]
  },
  {
   "cell_type": "code",
   "execution_count": 32,
   "metadata": {
    "collapsed": false
   },
   "outputs": [
    {
     "data": {
      "text/plain": [
       "286.25853907210069"
      ]
     },
     "execution_count": 32,
     "metadata": {},
     "output_type": "execute_result"
    }
   ],
   "source": [
    "np.var(data7)#2阶矩 方差"
   ]
  },
  {
   "cell_type": "code",
   "execution_count": 33,
   "metadata": {
    "collapsed": false
   },
   "outputs": [
    {
     "data": {
      "text/plain": [
       "0.342368481053855"
      ]
     },
     "execution_count": 33,
     "metadata": {},
     "output_type": "execute_result"
    }
   ],
   "source": [
    "from scipy import stats\n",
    "stats.skew(data7)#3阶矩 偏度 正态分布  几乎对称"
   ]
  },
  {
   "cell_type": "code",
   "execution_count": 34,
   "metadata": {
    "collapsed": false
   },
   "outputs": [
    {
     "data": {
      "text/plain": [
       "-1.174466264641597"
      ]
     },
     "execution_count": 34,
     "metadata": {},
     "output_type": "execute_result"
    }
   ],
   "source": [
    "stats.kurtosis(data7)#4阶矩 峰度 正态分布  几乎是0"
   ]
  },
  {
   "cell_type": "code",
   "execution_count": 35,
   "metadata": {
    "collapsed": false
   },
   "outputs": [
    {
     "data": {
      "text/plain": [
       "array([[ 1.        , -0.06610711],\n",
       "       [-0.06610711,  1.        ]])"
      ]
     },
     "execution_count": 35,
     "metadata": {},
     "output_type": "execute_result"
    },
    {
     "data": {
      "image/png": "[encoded data removed]",
      "text/plain": [
       "<matplotlib.figure.Figure at 0x11b499f8128>"
      ]
     },
     "metadata": {},
     "output_type": "display_data"
    }
   ],
   "source": [
    "from pylab import scatter#散点图\n",
    "np.random.seed(0)#随机种子，每次随机都一样\n",
    "age =np.random.uniform(30,101,100)#100个人 年龄随机分布 30-100\n",
    "income =np.random.uniform(3000,10000,100)#收入 分布3000-10000之间\n",
    "scatter(age,income)\n",
    "np.cov(age,income)#协方差\n",
    "np.corrcoef(age,income)#相关系数 +-相关  0相关 \n",
    " "
   ]
  },
  {
   "cell_type": "code",
   "execution_count": 36,
   "metadata": {
    "collapsed": false,
    "scrolled": true
   },
   "outputs": [
    {
     "data": {
      "text/plain": [
       "array([[ 1.        , -0.97533526],\n",
       "       [-0.97533526,  1.        ]])"
      ]
     },
     "execution_count": 36,
     "metadata": {},
     "output_type": "execute_result"
    },
    {
     "data": {
      "image/png": "[encoded data removed]",
      "text/plain": [
       "<matplotlib.figure.Figure at 0x11b49eae9b0>"
      ]
     },
     "metadata": {},
     "output_type": "display_data"
    }
   ],
   "source": [
    "age =np.random.uniform(30,101,100)\n",
    "fhl=(100-age)*1.42*20 +2500 +np.random.uniform(0,500,100)\n",
    "#增加随机数  分布2500-4500ml 肺活量\n",
    "scatter(age,fhl)\n",
    "np.corrcoef(age,fhl)"
   ]
  },
  {
   "cell_type": "code",
   "execution_count": 37,
   "metadata": {
    "collapsed": false,
    "scrolled": true
   },
   "outputs": [
    {
     "ename": "AttributeError",
     "evalue": "module 'scipy.stats' has no attribute 'lineregree'",
     "output_type": "error",
     "traceback": [
      "\u001b[0;31m---------------------------------------------------------------------------\u001b[0m",
      "\u001b[0;31mAttributeError\u001b[0m                            Traceback (most recent call last)",
      "\u001b[0;32m<ipython-input-37-4613f0abbd47>\u001b[0m in \u001b[0;36m<module>\u001b[0;34m()\u001b[0m\n\u001b[1;32m      1\u001b[0m \u001b[1;32mfrom\u001b[0m \u001b[0mscipy\u001b[0m \u001b[1;32mimport\u001b[0m \u001b[0mstats\u001b[0m\u001b[1;33m\u001b[0m\u001b[0m\n\u001b[0;32m----> 2\u001b[0;31m \u001b[0mresult\u001b[0m\u001b[1;33m=\u001b[0m\u001b[0mstats\u001b[0m\u001b[1;33m.\u001b[0m\u001b[0mlineregree\u001b[0m\u001b[1;33m(\u001b[0m\u001b[0mage\u001b[0m\u001b[1;33m,\u001b[0m\u001b[0mfhl\u001b[0m\u001b[1;33m)\u001b[0m\u001b[1;33m\u001b[0m\u001b[0m\n\u001b[0m\u001b[1;32m      3\u001b[0m \u001b[1;31m#result#语法正确   3.5的问题\u001b[0m\u001b[1;33m\u001b[0m\u001b[1;33m\u001b[0m\u001b[0m\n",
      "\u001b[0;31mAttributeError\u001b[0m: module 'scipy.stats' has no attribute 'lineregree'"
     ]
    }
   ],
   "source": [
    "from scipy import stats\n",
    "result=stats.lineregree(age,fhl)\n",
    "#result#语法正确   3.5的问题"
   ]
  },
  {
   "cell_type": "code",
   "execution_count": 42,
   "metadata": {
    "collapsed": false,
    "scrolled": true
   },
   "outputs": [
    {
     "ename": "NameError",
     "evalue": "name 'result' is not defined",
     "output_type": "error",
     "traceback": [
      "\u001b[0;31m---------------------------------------------------------------------------\u001b[0m",
      "\u001b[0;31mNameError\u001b[0m                                 Traceback (most recent call last)",
      "\u001b[0;32m<ipython-input-42-36213d75aafa>\u001b[0m in \u001b[0;36m<module>\u001b[0;34m()\u001b[0m\n\u001b[0;32m----> 1\u001b[0;31m \u001b[0mresult\u001b[0m\u001b[1;33m.\u001b[0m\u001b[0mrvalue\u001b[0m\u001b[1;33m*\u001b[0m\u001b[1;36m2\u001b[0m\u001b[1;31m#R-squared 可决系数越接近1，匹配得越好\u001b[0m\u001b[1;33m\u001b[0m\u001b[0m\n\u001b[0m",
      "\u001b[0;31mNameError\u001b[0m: name 'result' is not defined"
     ]
    }
   ],
   "source": [
    "result.rvalue*2#R-squared 可决系数越接近1，匹配得越好"
   ]
  },
  {
   "cell_type": "code",
   "execution_count": 45,
   "metadata": {
    "collapsed": false
   },
   "outputs": [
    {
     "ename": "NameError",
     "evalue": "name 'result' is not defined",
     "output_type": "error",
     "traceback": [
      "\u001b[0;31m---------------------------------------------------------------------------\u001b[0m",
      "\u001b[0;31mNameError\u001b[0m                                 Traceback (most recent call last)",
      "\u001b[0;32m<ipython-input-45-670375b8fc2d>\u001b[0m in \u001b[0;36m<module>\u001b[0;34m()\u001b[0m\n\u001b[1;32m      1\u001b[0m \u001b[1;32mdef\u001b[0m \u001b[0mpredict_line\u001b[0m\u001b[1;33m(\u001b[0m\u001b[0mx\u001b[0m\u001b[1;33m,\u001b[0m\u001b[0ma\u001b[0m\u001b[1;33m,\u001b[0m\u001b[0mb\u001b[0m\u001b[1;33m)\u001b[0m\u001b[1;33m:\u001b[0m\u001b[1;33m\u001b[0m\u001b[0m\n\u001b[1;32m      2\u001b[0m     \u001b[1;32mreturn\u001b[0m \u001b[0ma\u001b[0m\u001b[1;33m*\u001b[0m\u001b[0mx\u001b[0m \u001b[1;33m+\u001b[0m\u001b[0mb\u001b[0m \u001b[1;31m#\u001b[0m\u001b[1;33m\u001b[0m\u001b[0m\n\u001b[0;32m----> 3\u001b[0;31m \u001b[0mpredict_line\u001b[0m\u001b[1;33m(\u001b[0m\u001b[1;36m120\u001b[0m\u001b[1;33m,\u001b[0m\u001b[0mresult\u001b[0m\u001b[1;33m.\u001b[0m\u001b[0mslope\u001b[0m\u001b[1;33m,\u001b[0m\u001b[0mresult\u001b[0m\u001b[1;33m.\u001b[0m\u001b[0mintercept\u001b[0m\u001b[1;33m)\u001b[0m\u001b[1;31m#预测120岁的肺活量\u001b[0m\u001b[1;33m\u001b[0m\u001b[0m\n\u001b[0m",
      "\u001b[0;31mNameError\u001b[0m: name 'result' is not defined"
     ]
    }
   ],
   "source": [
    "def predict_line(x,a,b):\n",
    "    return a*x +b #\n",
    "predict_line(120,result.slope,result.intercept)#预测120岁的肺活量"
   ]
  },
  {
   "cell_type": "code",
   "execution_count": 46,
   "metadata": {
    "collapsed": false
   },
   "outputs": [
    {
     "ename": "NameError",
     "evalue": "name 'result' is not defined",
     "output_type": "error",
     "traceback": [
      "\u001b[0;31m---------------------------------------------------------------------------\u001b[0m",
      "\u001b[0;31mNameError\u001b[0m                                 Traceback (most recent call last)",
      "\u001b[0;32m<ipython-input-46-e12a6950f824>\u001b[0m in \u001b[0;36m<module>\u001b[0;34m()\u001b[0m\n\u001b[0;32m----> 1\u001b[0;31m \u001b[0mplt\u001b[0m\u001b[1;33m.\u001b[0m\u001b[0mplot\u001b[0m\u001b[1;33m(\u001b[0m\u001b[0mage\u001b[0m\u001b[1;33m,\u001b[0m\u001b[0mpredict_line\u001b[0m\u001b[1;33m(\u001b[0m\u001b[0mresult\u001b[0m\u001b[1;33m.\u001b[0m\u001b[0mslope\u001b[0m\u001b[1;33m,\u001b[0m\u001b[0mresult\u001b[0m\u001b[1;33m.\u001b[0m\u001b[0mintercept\u001b[0m\u001b[1;33m)\u001b[0m\u001b[1;33m,\u001b[0m\u001b[0mc\u001b[0m\u001b[1;33m=\u001b[0m\u001b[1;34m'r'\u001b[0m\u001b[1;33m)\u001b[0m\u001b[1;33m\u001b[0m\u001b[0m\n\u001b[0m\u001b[1;32m      2\u001b[0m \u001b[0mplt\u001b[0m\u001b[1;33m.\u001b[0m\u001b[0mscatter\u001b[0m\u001b[1;33m(\u001b[0m\u001b[0mage\u001b[0m\u001b[1;33m,\u001b[0m\u001b[0mfhl\u001b[0m\u001b[1;33m)\u001b[0m\u001b[1;31m#散点图\u001b[0m\u001b[1;33m\u001b[0m\u001b[0m\n",
      "\u001b[0;31mNameError\u001b[0m: name 'result' is not defined"
     ]
    }
   ],
   "source": [
    "plt.plot(age,predict_line(result.slope,result.intercept),c='r')\n",
    "plt.scatter(age,fhl)#散点图"
   ]
  },
  {
   "cell_type": "code",
   "execution_count": 47,
   "metadata": {
    "collapsed": false
   },
   "outputs": [
    {
     "data": {
      "text/html": [
       "<div>\n",
       "<table border=\"1\" class=\"dataframe\">\n",
       "  <thead>\n",
       "    <tr style=\"text-align: right;\">\n",
       "      <th></th>\n",
       "      <th>open</th>\n",
       "      <th>high</th>\n",
       "      <th>low</th>\n",
       "      <th>close</th>\n",
       "      <th>vol</th>\n",
       "      <th>amount</th>\n",
       "      <th>str07</th>\n",
       "    </tr>\n",
       "    <tr>\n",
       "      <th>datetime</th>\n",
       "      <th></th>\n",
       "      <th></th>\n",
       "      <th></th>\n",
       "      <th></th>\n",
       "      <th></th>\n",
       "      <th></th>\n",
       "      <th></th>\n",
       "    </tr>\n",
       "  </thead>\n",
       "  <tbody>\n",
       "    <tr>\n",
       "      <th>1990-12-19</th>\n",
       "      <td>96</td>\n",
       "      <td>99.98</td>\n",
       "      <td>95.79</td>\n",
       "      <td>99.98</td>\n",
       "      <td>1260</td>\n",
       "      <td>494000.0</td>\n",
       "      <td>NaN</td>\n",
       "    </tr>\n",
       "    <tr>\n",
       "      <th>1990-12-20</th>\n",
       "      <td>104</td>\n",
       "      <td>104.39</td>\n",
       "      <td>99.98</td>\n",
       "      <td>104.39</td>\n",
       "      <td>197</td>\n",
       "      <td>84000.0</td>\n",
       "      <td>NaN</td>\n",
       "    </tr>\n",
       "    <tr>\n",
       "      <th>1990-12-21</th>\n",
       "      <td>109</td>\n",
       "      <td>109.13</td>\n",
       "      <td>103.73</td>\n",
       "      <td>109.13</td>\n",
       "      <td>28</td>\n",
       "      <td>16000.0</td>\n",
       "      <td>NaN</td>\n",
       "    </tr>\n",
       "    <tr>\n",
       "      <th>1990-12-24</th>\n",
       "      <td>113</td>\n",
       "      <td>114.55</td>\n",
       "      <td>109.13</td>\n",
       "      <td>114.55</td>\n",
       "      <td>32</td>\n",
       "      <td>31000.0</td>\n",
       "      <td>NaN</td>\n",
       "    </tr>\n",
       "    <tr>\n",
       "      <th>1990-12-25</th>\n",
       "      <td>120</td>\n",
       "      <td>120.25</td>\n",
       "      <td>114.55</td>\n",
       "      <td>120.25</td>\n",
       "      <td>15</td>\n",
       "      <td>6000.0</td>\n",
       "      <td>NaN</td>\n",
       "    </tr>\n",
       "  </tbody>\n",
       "</table>\n",
       "</div>"
      ],
      "text/plain": [
       "            open    high     low   close   vol    amount  str07\n",
       "datetime                                                       \n",
       "1990-12-19    96   99.98   95.79   99.98  1260  494000.0    NaN\n",
       "1990-12-20   104  104.39   99.98  104.39   197   84000.0    NaN\n",
       "1990-12-21   109  109.13  103.73  109.13    28   16000.0    NaN\n",
       "1990-12-24   113  114.55  109.13  114.55    32   31000.0    NaN\n",
       "1990-12-25   120  120.25  114.55  120.25    15    6000.0    NaN"
      ]
     },
     "execution_count": 47,
     "metadata": {},
     "output_type": "execute_result"
    }
   ],
   "source": [
    "sh =pd.read_csv('sh000001.csv',index_col=0,parse_dates=['datetime'])\n",
    "sh.head()"
   ]
  },
  {
   "cell_type": "code",
   "execution_count": 48,
   "metadata": {
    "collapsed": false
   },
   "outputs": [
    {
     "data": {
      "text/plain": [
       "1990"
      ]
     },
     "execution_count": 48,
     "metadata": {},
     "output_type": "execute_result"
    }
   ],
   "source": [
    "sh.index[0].year   #parse_dates  to  timestamp"
   ]
  },
  {
   "cell_type": "code",
   "execution_count": 49,
   "metadata": {
    "collapsed": false
   },
   "outputs": [
    {
     "data": {
      "text/html": [
       "<div>\n",
       "<table border=\"1\" class=\"dataframe\">\n",
       "  <thead>\n",
       "    <tr>\n",
       "      <th></th>\n",
       "      <th colspan=\"2\" halign=\"left\">open</th>\n",
       "      <th colspan=\"2\" halign=\"left\">high</th>\n",
       "      <th colspan=\"2\" halign=\"left\">low</th>\n",
       "      <th colspan=\"2\" halign=\"left\">close</th>\n",
       "      <th colspan=\"2\" halign=\"left\">vol</th>\n",
       "      <th colspan=\"2\" halign=\"left\">amount</th>\n",
       "      <th colspan=\"2\" halign=\"left\">str07</th>\n",
       "    </tr>\n",
       "    <tr>\n",
       "      <th></th>\n",
       "      <th>mean</th>\n",
       "      <th>std</th>\n",
       "      <th>mean</th>\n",
       "      <th>std</th>\n",
       "      <th>mean</th>\n",
       "      <th>std</th>\n",
       "      <th>mean</th>\n",
       "      <th>std</th>\n",
       "      <th>mean</th>\n",
       "      <th>std</th>\n",
       "      <th>mean</th>\n",
       "      <th>std</th>\n",
       "      <th>mean</th>\n",
       "      <th>std</th>\n",
       "    </tr>\n",
       "  </thead>\n",
       "  <tbody>\n",
       "    <tr>\n",
       "      <th>2014</th>\n",
       "      <td>2232.204082</td>\n",
       "      <td>282.839726</td>\n",
       "      <td>2251.033633</td>\n",
       "      <td>295.392374</td>\n",
       "      <td>2218.166531</td>\n",
       "      <td>274.605798</td>\n",
       "      <td>2238.214939</td>\n",
       "      <td>288.783022</td>\n",
       "      <td>1.730075e+08</td>\n",
       "      <td>1.280086e+08</td>\n",
       "      <td>1.527627e+11</td>\n",
       "      <td>1.297361e+11</td>\n",
       "      <td>NaN</td>\n",
       "      <td>NaN</td>\n",
       "    </tr>\n",
       "    <tr>\n",
       "      <th>2015</th>\n",
       "      <td>3712.069672</td>\n",
       "      <td>538.951993</td>\n",
       "      <td>3768.015492</td>\n",
       "      <td>542.945976</td>\n",
       "      <td>3657.852131</td>\n",
       "      <td>516.951386</td>\n",
       "      <td>3721.552090</td>\n",
       "      <td>534.069014</td>\n",
       "      <td>4.158621e+08</td>\n",
       "      <td>1.600050e+08</td>\n",
       "      <td>5.420882e+11</td>\n",
       "      <td>2.525199e+11</td>\n",
       "      <td>NaN</td>\n",
       "      <td>NaN</td>\n",
       "    </tr>\n",
       "    <tr>\n",
       "      <th>2016</th>\n",
       "      <td>3000.758197</td>\n",
       "      <td>138.352754</td>\n",
       "      <td>3023.206434</td>\n",
       "      <td>133.637271</td>\n",
       "      <td>2978.427582</td>\n",
       "      <td>139.861449</td>\n",
       "      <td>3003.684303</td>\n",
       "      <td>133.640466</td>\n",
       "      <td>1.829344e+08</td>\n",
       "      <td>4.997810e+07</td>\n",
       "      <td>2.029360e+11</td>\n",
       "      <td>5.334141e+10</td>\n",
       "      <td>NaN</td>\n",
       "      <td>NaN</td>\n",
       "    </tr>\n",
       "    <tr>\n",
       "      <th>2017</th>\n",
       "      <td>3244.807377</td>\n",
       "      <td>99.509330</td>\n",
       "      <td>3260.052746</td>\n",
       "      <td>98.026498</td>\n",
       "      <td>3232.696270</td>\n",
       "      <td>99.468767</td>\n",
       "      <td>3249.687049</td>\n",
       "      <td>97.965699</td>\n",
       "      <td>1.787203e+08</td>\n",
       "      <td>3.980584e+07</td>\n",
       "      <td>2.072487e+11</td>\n",
       "      <td>4.205288e+10</td>\n",
       "      <td>NaN</td>\n",
       "      <td>NaN</td>\n",
       "    </tr>\n",
       "    <tr>\n",
       "      <th>2018</th>\n",
       "      <td>3333.186441</td>\n",
       "      <td>120.325059</td>\n",
       "      <td>3356.116102</td>\n",
       "      <td>120.970295</td>\n",
       "      <td>3313.045763</td>\n",
       "      <td>123.586368</td>\n",
       "      <td>3338.138983</td>\n",
       "      <td>121.308992</td>\n",
       "      <td>1.930647e+08</td>\n",
       "      <td>4.143641e+07</td>\n",
       "      <td>2.276483e+11</td>\n",
       "      <td>4.751461e+10</td>\n",
       "      <td>NaN</td>\n",
       "      <td>NaN</td>\n",
       "    </tr>\n",
       "  </tbody>\n",
       "</table>\n",
       "</div>"
      ],
      "text/plain": [
       "             open                     high                      low  \\\n",
       "             mean         std         mean         std         mean   \n",
       "2014  2232.204082  282.839726  2251.033633  295.392374  2218.166531   \n",
       "2015  3712.069672  538.951993  3768.015492  542.945976  3657.852131   \n",
       "2016  3000.758197  138.352754  3023.206434  133.637271  2978.427582   \n",
       "2017  3244.807377   99.509330  3260.052746   98.026498  3232.696270   \n",
       "2018  3333.186441  120.325059  3356.116102  120.970295  3313.045763   \n",
       "\n",
       "                        close                       vol                \\\n",
       "             std         mean         std          mean           std   \n",
       "2014  274.605798  2238.214939  288.783022  1.730075e+08  1.280086e+08   \n",
       "2015  516.951386  3721.552090  534.069014  4.158621e+08  1.600050e+08   \n",
       "2016  139.861449  3003.684303  133.640466  1.829344e+08  4.997810e+07   \n",
       "2017   99.468767  3249.687049   97.965699  1.787203e+08  3.980584e+07   \n",
       "2018  123.586368  3338.138983  121.308992  1.930647e+08  4.143641e+07   \n",
       "\n",
       "            amount               str07      \n",
       "              mean           std  mean std  \n",
       "2014  1.527627e+11  1.297361e+11   NaN NaN  \n",
       "2015  5.420882e+11  2.525199e+11   NaN NaN  \n",
       "2016  2.029360e+11  5.334141e+10   NaN NaN  \n",
       "2017  2.072487e+11  4.205288e+10   NaN NaN  \n",
       "2018  2.276483e+11  4.751461e+10   NaN NaN  "
      ]
     },
     "execution_count": 49,
     "metadata": {},
     "output_type": "execute_result"
    }
   ],
   "source": [
    "key=lambda x:x.year #def key(x):return x.year\n",
    "sh.groupby(key).agg([np.mean,np.std]).tail()"
   ]
  },
  {
   "cell_type": "code",
   "execution_count": 50,
   "metadata": {
    "collapsed": false
   },
   "outputs": [
    {
     "data": {
      "text/html": [
       "<div>\n",
       "<table border=\"1\" class=\"dataframe\">\n",
       "  <thead>\n",
       "    <tr style=\"text-align: right;\">\n",
       "      <th></th>\n",
       "      <th>open</th>\n",
       "      <th>high</th>\n",
       "      <th>low</th>\n",
       "      <th>close</th>\n",
       "      <th>vol</th>\n",
       "      <th>amount</th>\n",
       "      <th>str07</th>\n",
       "    </tr>\n",
       "    <tr>\n",
       "      <th>datetime</th>\n",
       "      <th></th>\n",
       "      <th></th>\n",
       "      <th></th>\n",
       "      <th></th>\n",
       "      <th></th>\n",
       "      <th></th>\n",
       "      <th></th>\n",
       "    </tr>\n",
       "  </thead>\n",
       "  <tbody>\n",
       "    <tr>\n",
       "      <th>1990-12-19</th>\n",
       "      <td>-1.807016</td>\n",
       "      <td>-1.634879</td>\n",
       "      <td>-1.498206</td>\n",
       "      <td>-1.634879</td>\n",
       "      <td>2.640981</td>\n",
       "      <td>2.600217</td>\n",
       "      <td>NaN</td>\n",
       "    </tr>\n",
       "    <tr>\n",
       "      <th>1990-12-20</th>\n",
       "      <td>-1.084209</td>\n",
       "      <td>-1.211021</td>\n",
       "      <td>-1.141418</td>\n",
       "      <td>-1.211021</td>\n",
       "      <td>-0.031001</td>\n",
       "      <td>-0.133344</td>\n",
       "      <td>NaN</td>\n",
       "    </tr>\n",
       "    <tr>\n",
       "      <th>1990-12-21</th>\n",
       "      <td>-0.632456</td>\n",
       "      <td>-0.755447</td>\n",
       "      <td>-0.822098</td>\n",
       "      <td>-0.755447</td>\n",
       "      <td>-0.455804</td>\n",
       "      <td>-0.586716</td>\n",
       "      <td>NaN</td>\n",
       "    </tr>\n",
       "    <tr>\n",
       "      <th>1990-12-24</th>\n",
       "      <td>-0.271052</td>\n",
       "      <td>-0.234515</td>\n",
       "      <td>-0.362275</td>\n",
       "      <td>-0.234515</td>\n",
       "      <td>-0.445749</td>\n",
       "      <td>-0.486707</td>\n",
       "      <td>NaN</td>\n",
       "    </tr>\n",
       "    <tr>\n",
       "      <th>1990-12-25</th>\n",
       "      <td>0.361403</td>\n",
       "      <td>0.313328</td>\n",
       "      <td>0.099250</td>\n",
       "      <td>0.313328</td>\n",
       "      <td>-0.488481</td>\n",
       "      <td>-0.653388</td>\n",
       "      <td>NaN</td>\n",
       "    </tr>\n",
       "  </tbody>\n",
       "</table>\n",
       "</div>"
      ],
      "text/plain": [
       "                open      high       low     close       vol    amount  str07\n",
       "datetime                                                                     \n",
       "1990-12-19 -1.807016 -1.634879 -1.498206 -1.634879  2.640981  2.600217    NaN\n",
       "1990-12-20 -1.084209 -1.211021 -1.141418 -1.211021 -0.031001 -0.133344    NaN\n",
       "1990-12-21 -0.632456 -0.755447 -0.822098 -0.755447 -0.455804 -0.586716    NaN\n",
       "1990-12-24 -0.271052 -0.234515 -0.362275 -0.234515 -0.445749 -0.486707    NaN\n",
       "1990-12-25  0.361403  0.313328  0.099250  0.313328 -0.488481 -0.653388    NaN"
      ]
     },
     "execution_count": 50,
     "metadata": {},
     "output_type": "execute_result"
    }
   ],
   "source": [
    "zscore =lambda x:(x-x.mean())/x.std()\n",
    "transformed =sh.groupby(key).transform(zscore)\n",
    "transformed.head()#每个位置元素取值是data里“对应位置元素”按transform的“函数参数”运算"
   ]
  },
  {
   "cell_type": "code",
   "execution_count": 51,
   "metadata": {
    "collapsed": false,
    "scrolled": true
   },
   "outputs": [
    {
     "data": {
      "text/plain": [
       "<matplotlib.axes._subplots.AxesSubplot at 0x11b4ba790f0>"
      ]
     },
     "execution_count": 51,
     "metadata": {},
     "output_type": "execute_result"
    },
    {
     "data": {
      "image/png": "[encoded data removed]",
      "text/plain": [
       "<matplotlib.figure.Figure at 0x11b49a080b8>"
      ]
     },
     "metadata": {},
     "output_type": "display_data"
    }
   ],
   "source": [
    "sh['close'].plot()"
   ]
  },
  {
   "cell_type": "code",
   "execution_count": 52,
   "metadata": {
    "collapsed": false
   },
   "outputs": [
    {
     "data": {
      "text/plain": [
       "<matplotlib.axes._subplots.AxesSubplot at 0x11b4b1cc630>"
      ]
     },
     "execution_count": 52,
     "metadata": {},
     "output_type": "execute_result"
    },
    {
     "data": {
      "image/png": "[encoded data removed]",
      "text/plain": [
       "<matplotlib.figure.Figure at 0x11b49eae048>"
      ]
     },
     "metadata": {},
     "output_type": "display_data"
    }
   ],
   "source": [
    "transformed['close'].plot(grid=True)#网格 ,figsizie=(9,9)"
   ]
  },
  {
   "cell_type": "code",
   "execution_count": 53,
   "metadata": {
    "collapsed": false
   },
   "outputs": [
    {
     "data": {
      "text/plain": [
       "<matplotlib.axes._subplots.AxesSubplot at 0x11b49ee97b8>"
      ]
     },
     "execution_count": 53,
     "metadata": {},
     "output_type": "execute_result"
    },
    {
     "data": {
      "image/png": "[encoded data removed]",
      "text/plain": [
       "<matplotlib.figure.Figure at 0x11b49ee5cf8>"
      ]
     },
     "metadata": {},
     "output_type": "display_data"
    }
   ],
   "source": [
    "com=pd.DataFrame({\"sh close\":sh['close'],\n",
    "                 'transformed close':transformed['close']})\n",
    "com.plot(grid=True,figsize=(10,7))"
   ]
  },
  {
   "cell_type": "code",
   "execution_count": 54,
   "metadata": {
    "collapsed": false
   },
   "outputs": [
    {
     "data": {
      "text/html": [
       "<div>\n",
       "<table border=\"1\" class=\"dataframe\">\n",
       "  <thead>\n",
       "    <tr style=\"text-align: right;\">\n",
       "      <th></th>\n",
       "      <th>open</th>\n",
       "      <th>high</th>\n",
       "      <th>low</th>\n",
       "      <th>close</th>\n",
       "      <th>vol</th>\n",
       "      <th>amount</th>\n",
       "      <th>str07</th>\n",
       "    </tr>\n",
       "    <tr>\n",
       "      <th>datetime</th>\n",
       "      <th></th>\n",
       "      <th></th>\n",
       "      <th></th>\n",
       "      <th></th>\n",
       "      <th></th>\n",
       "      <th></th>\n",
       "      <th></th>\n",
       "    </tr>\n",
       "  </thead>\n",
       "  <tbody>\n",
       "    <tr>\n",
       "      <th>2018-03-26</th>\n",
       "      <td>446.0</td>\n",
       "      <td>452.75</td>\n",
       "      <td>471.46</td>\n",
       "      <td>437.18</td>\n",
       "      <td>180232650.0</td>\n",
       "      <td>2.042663e+11</td>\n",
       "      <td>NaN</td>\n",
       "    </tr>\n",
       "    <tr>\n",
       "      <th>2018-03-27</th>\n",
       "      <td>446.0</td>\n",
       "      <td>452.75</td>\n",
       "      <td>471.46</td>\n",
       "      <td>437.18</td>\n",
       "      <td>180232650.0</td>\n",
       "      <td>2.042663e+11</td>\n",
       "      <td>NaN</td>\n",
       "    </tr>\n",
       "    <tr>\n",
       "      <th>2018-03-28</th>\n",
       "      <td>446.0</td>\n",
       "      <td>452.75</td>\n",
       "      <td>471.46</td>\n",
       "      <td>437.18</td>\n",
       "      <td>180232650.0</td>\n",
       "      <td>2.042663e+11</td>\n",
       "      <td>NaN</td>\n",
       "    </tr>\n",
       "    <tr>\n",
       "      <th>2018-03-29</th>\n",
       "      <td>446.0</td>\n",
       "      <td>452.75</td>\n",
       "      <td>471.46</td>\n",
       "      <td>437.18</td>\n",
       "      <td>180232650.0</td>\n",
       "      <td>2.042663e+11</td>\n",
       "      <td>NaN</td>\n",
       "    </tr>\n",
       "    <tr>\n",
       "      <th>2018-03-30</th>\n",
       "      <td>446.0</td>\n",
       "      <td>452.75</td>\n",
       "      <td>471.46</td>\n",
       "      <td>437.18</td>\n",
       "      <td>180232650.0</td>\n",
       "      <td>2.042663e+11</td>\n",
       "      <td>NaN</td>\n",
       "    </tr>\n",
       "  </tbody>\n",
       "</table>\n",
       "</div>"
      ],
      "text/plain": [
       "             open    high     low   close          vol        amount  str07\n",
       "datetime                                                                   \n",
       "2018-03-26  446.0  452.75  471.46  437.18  180232650.0  2.042663e+11    NaN\n",
       "2018-03-27  446.0  452.75  471.46  437.18  180232650.0  2.042663e+11    NaN\n",
       "2018-03-28  446.0  452.75  471.46  437.18  180232650.0  2.042663e+11    NaN\n",
       "2018-03-29  446.0  452.75  471.46  437.18  180232650.0  2.042663e+11    NaN\n",
       "2018-03-30  446.0  452.75  471.46  437.18  180232650.0  2.042663e+11    NaN"
      ]
     },
     "execution_count": 54,
     "metadata": {},
     "output_type": "execute_result"
    }
   ],
   "source": [
    "price=lambda x:x.max()-x.min()\n",
    "sh.groupby(key).transform(price).tail()"
   ]
  },
  {
   "cell_type": "code",
   "execution_count": 55,
   "metadata": {
    "collapsed": false
   },
   "outputs": [
    {
     "data": {
      "text/html": [
       "<div>\n",
       "<table border=\"1\" class=\"dataframe\">\n",
       "  <thead>\n",
       "    <tr style=\"text-align: right;\">\n",
       "      <th></th>\n",
       "      <th>open</th>\n",
       "      <th>high</th>\n",
       "      <th>low</th>\n",
       "      <th>close</th>\n",
       "      <th>vol</th>\n",
       "      <th>amount</th>\n",
       "      <th>str07</th>\n",
       "    </tr>\n",
       "    <tr>\n",
       "      <th>datetime</th>\n",
       "      <th></th>\n",
       "      <th></th>\n",
       "      <th></th>\n",
       "      <th></th>\n",
       "      <th></th>\n",
       "      <th></th>\n",
       "      <th></th>\n",
       "    </tr>\n",
       "  </thead>\n",
       "  <tbody>\n",
       "    <tr>\n",
       "      <th>2018-03-26</th>\n",
       "      <td>446</td>\n",
       "      <td>452.75</td>\n",
       "      <td>471.46</td>\n",
       "      <td>437.18</td>\n",
       "      <td>180232650</td>\n",
       "      <td>2.042663e+11</td>\n",
       "      <td>NaN</td>\n",
       "    </tr>\n",
       "    <tr>\n",
       "      <th>2018-03-27</th>\n",
       "      <td>446</td>\n",
       "      <td>452.75</td>\n",
       "      <td>471.46</td>\n",
       "      <td>437.18</td>\n",
       "      <td>180232650</td>\n",
       "      <td>2.042663e+11</td>\n",
       "      <td>NaN</td>\n",
       "    </tr>\n",
       "    <tr>\n",
       "      <th>2018-03-28</th>\n",
       "      <td>446</td>\n",
       "      <td>452.75</td>\n",
       "      <td>471.46</td>\n",
       "      <td>437.18</td>\n",
       "      <td>180232650</td>\n",
       "      <td>2.042663e+11</td>\n",
       "      <td>NaN</td>\n",
       "    </tr>\n",
       "    <tr>\n",
       "      <th>2018-03-29</th>\n",
       "      <td>446</td>\n",
       "      <td>452.75</td>\n",
       "      <td>471.46</td>\n",
       "      <td>437.18</td>\n",
       "      <td>180232650</td>\n",
       "      <td>2.042663e+11</td>\n",
       "      <td>NaN</td>\n",
       "    </tr>\n",
       "    <tr>\n",
       "      <th>2018-03-30</th>\n",
       "      <td>446</td>\n",
       "      <td>452.75</td>\n",
       "      <td>471.46</td>\n",
       "      <td>437.18</td>\n",
       "      <td>180232650</td>\n",
       "      <td>2.042663e+11</td>\n",
       "      <td>NaN</td>\n",
       "    </tr>\n",
       "  </tbody>\n",
       "</table>\n",
       "</div>"
      ],
      "text/plain": [
       "            open    high     low   close        vol        amount  str07\n",
       "datetime                                                                \n",
       "2018-03-26   446  452.75  471.46  437.18  180232650  2.042663e+11    NaN\n",
       "2018-03-27   446  452.75  471.46  437.18  180232650  2.042663e+11    NaN\n",
       "2018-03-28   446  452.75  471.46  437.18  180232650  2.042663e+11    NaN\n",
       "2018-03-29   446  452.75  471.46  437.18  180232650  2.042663e+11    NaN\n",
       "2018-03-30   446  452.75  471.46  437.18  180232650  2.042663e+11    NaN"
      ]
     },
     "execution_count": 55,
     "metadata": {},
     "output_type": "execute_result"
    }
   ],
   "source": [
    "(sh.groupby(key).transform(\"max\")-sh.groupby(key).transform(\"min\")).tail()"
   ]
  },
  {
   "cell_type": "code",
   "execution_count": 56,
   "metadata": {
    "collapsed": false,
    "scrolled": true
   },
   "outputs": [
    {
     "data": {
      "text/html": [
       "<div>\n",
       "<table border=\"1\" class=\"dataframe\">\n",
       "  <thead>\n",
       "    <tr>\n",
       "      <th></th>\n",
       "      <th></th>\n",
       "      <th colspan=\"2\" halign=\"left\">open</th>\n",
       "      <th colspan=\"2\" halign=\"left\">high</th>\n",
       "      <th colspan=\"2\" halign=\"left\">low</th>\n",
       "      <th colspan=\"2\" halign=\"left\">close</th>\n",
       "      <th colspan=\"2\" halign=\"left\">vol</th>\n",
       "      <th colspan=\"2\" halign=\"left\">amount</th>\n",
       "      <th colspan=\"2\" halign=\"left\">str07</th>\n",
       "    </tr>\n",
       "    <tr>\n",
       "      <th></th>\n",
       "      <th></th>\n",
       "      <th>mean</th>\n",
       "      <th>std</th>\n",
       "      <th>mean</th>\n",
       "      <th>std</th>\n",
       "      <th>mean</th>\n",
       "      <th>std</th>\n",
       "      <th>mean</th>\n",
       "      <th>std</th>\n",
       "      <th>mean</th>\n",
       "      <th>std</th>\n",
       "      <th>mean</th>\n",
       "      <th>std</th>\n",
       "      <th>mean</th>\n",
       "      <th>std</th>\n",
       "    </tr>\n",
       "  </thead>\n",
       "  <tbody>\n",
       "    <tr>\n",
       "      <th>1990</th>\n",
       "      <th>12</th>\n",
       "      <td>116.000000</td>\n",
       "      <td>11.067972</td>\n",
       "      <td>116.990000</td>\n",
       "      <td>10.404443</td>\n",
       "      <td>113.384444</td>\n",
       "      <td>11.743673</td>\n",
       "      <td>116.990000</td>\n",
       "      <td>10.404443</td>\n",
       "      <td>209.333333</td>\n",
       "      <td>397.831623</td>\n",
       "      <td>1.040000e+05</td>\n",
       "      <td>1.499875e+05</td>\n",
       "      <td>NaN</td>\n",
       "      <td>NaN</td>\n",
       "    </tr>\n",
       "    <tr>\n",
       "      <th rowspan=\"4\" valign=\"top\">1991</th>\n",
       "      <th>1</th>\n",
       "      <td>131.818182</td>\n",
       "      <td>1.991323</td>\n",
       "      <td>132.800909</td>\n",
       "      <td>1.786491</td>\n",
       "      <td>132.190909</td>\n",
       "      <td>1.895641</td>\n",
       "      <td>132.628182</td>\n",
       "      <td>1.764493</td>\n",
       "      <td>3054.409091</td>\n",
       "      <td>3967.611498</td>\n",
       "      <td>1.653227e+06</td>\n",
       "      <td>2.148181e+06</td>\n",
       "      <td>NaN</td>\n",
       "      <td>NaN</td>\n",
       "    </tr>\n",
       "    <tr>\n",
       "      <th>2</th>\n",
       "      <td>131.333333</td>\n",
       "      <td>2.029199</td>\n",
       "      <td>132.067778</td>\n",
       "      <td>2.123747</td>\n",
       "      <td>131.546667</td>\n",
       "      <td>2.153014</td>\n",
       "      <td>131.887778</td>\n",
       "      <td>2.086344</td>\n",
       "      <td>2832.333333</td>\n",
       "      <td>2743.472799</td>\n",
       "      <td>1.681833e+06</td>\n",
       "      <td>1.405367e+06</td>\n",
       "      <td>NaN</td>\n",
       "      <td>NaN</td>\n",
       "    </tr>\n",
       "    <tr>\n",
       "      <th>3</th>\n",
       "      <td>125.571429</td>\n",
       "      <td>4.056740</td>\n",
       "      <td>126.556190</td>\n",
       "      <td>4.053580</td>\n",
       "      <td>125.985238</td>\n",
       "      <td>4.101964</td>\n",
       "      <td>126.011429</td>\n",
       "      <td>4.109010</td>\n",
       "      <td>1168.000000</td>\n",
       "      <td>1480.783914</td>\n",
       "      <td>8.215714e+05</td>\n",
       "      <td>8.449842e+05</td>\n",
       "      <td>NaN</td>\n",
       "      <td>NaN</td>\n",
       "    </tr>\n",
       "    <tr>\n",
       "      <th>4</th>\n",
       "      <td>118.000000</td>\n",
       "      <td>2.581989</td>\n",
       "      <td>118.873636</td>\n",
       "      <td>2.280870</td>\n",
       "      <td>118.216818</td>\n",
       "      <td>2.418924</td>\n",
       "      <td>118.426818</td>\n",
       "      <td>2.497512</td>\n",
       "      <td>3212.318182</td>\n",
       "      <td>4611.085664</td>\n",
       "      <td>1.657864e+06</td>\n",
       "      <td>2.114055e+06</td>\n",
       "      <td>NaN</td>\n",
       "      <td>NaN</td>\n",
       "    </tr>\n",
       "  </tbody>\n",
       "</table>\n",
       "</div>"
      ],
      "text/plain": [
       "               open                   high                    low             \\\n",
       "               mean        std        mean        std        mean        std   \n",
       "1990 12  116.000000  11.067972  116.990000  10.404443  113.384444  11.743673   \n",
       "1991 1   131.818182   1.991323  132.800909   1.786491  132.190909   1.895641   \n",
       "     2   131.333333   2.029199  132.067778   2.123747  131.546667   2.153014   \n",
       "     3   125.571429   4.056740  126.556190   4.053580  125.985238   4.101964   \n",
       "     4   118.000000   2.581989  118.873636   2.280870  118.216818   2.418924   \n",
       "\n",
       "              close                     vol                     amount  \\\n",
       "               mean        std         mean          std          mean   \n",
       "1990 12  116.990000  10.404443   209.333333   397.831623  1.040000e+05   \n",
       "1991 1   132.628182   1.764493  3054.409091  3967.611498  1.653227e+06   \n",
       "     2   131.887778   2.086344  2832.333333  2743.472799  1.681833e+06   \n",
       "     3   126.011429   4.109010  1168.000000  1480.783914  8.215714e+05   \n",
       "     4   118.426818   2.497512  3212.318182  4611.085664  1.657864e+06   \n",
       "\n",
       "                      str07      \n",
       "                  std  mean std  \n",
       "1990 12  1.499875e+05   NaN NaN  \n",
       "1991 1   2.148181e+06   NaN NaN  \n",
       "     2   1.405367e+06   NaN NaN  \n",
       "     3   8.449842e+05   NaN NaN  \n",
       "     4   2.114055e+06   NaN NaN  "
      ]
     },
     "execution_count": 56,
     "metadata": {},
     "output_type": "execute_result"
    }
   ],
   "source": [
    "year=lambda x:x.year\n",
    "mon=lambda y :y.month\n",
    "sh.groupby([year,mon]).agg([np.mean,np.std\n",
    "                           ]).head()"
   ]
  },
  {
   "cell_type": "code",
   "execution_count": 57,
   "metadata": {
    "collapsed": false
   },
   "outputs": [],
   "source": [
    "year=lambda x:x.year\n",
    "mon=lambda y :y.month\n",
    "month_sh=sh.groupby([year,mon]).first()\n"
   ]
  },
  {
   "cell_type": "code",
   "execution_count": 58,
   "metadata": {
    "collapsed": false
   },
   "outputs": [
    {
     "data": {
      "text/plain": [
       "PeriodIndex(['1990-12', '1991-01', '1991-02', '1991-03', '1991-04', '1991-05',\n",
       "             '1991-06', '1991-07', '1991-08', '1991-09',\n",
       "             ...\n",
       "             '2017-06', '2017-07', '2017-08', '2017-09', '2017-10', '2017-11',\n",
       "             '2017-12', '2018-01', '2018-02', '2018-03'],\n",
       "            dtype='period[M]', length=328, freq='M')"
      ]
     },
     "execution_count": 58,
     "metadata": {},
     "output_type": "execute_result"
    }
   ],
   "source": [
    "index=[str(i[0])+ '-'+str(i[1]) for i in month_sh.index.values]\n",
    "index=pd.PeriodIndex(index,freq='M')\n",
    "index"
   ]
  },
  {
   "cell_type": "code",
   "execution_count": 59,
   "metadata": {
    "collapsed": false
   },
   "outputs": [
    {
     "data": {
      "text/plain": [
       "<matplotlib.axes._subplots.AxesSubplot at 0x11b499fcda0>"
      ]
     },
     "execution_count": 59,
     "metadata": {},
     "output_type": "execute_result"
    },
    {
     "data": {
      "image/png": "[encoded data removed]",
      "text/plain": [
       "<matplotlib.figure.Figure at 0x11b49ea9128>"
      ]
     },
     "metadata": {},
     "output_type": "display_data"
    }
   ],
   "source": [
    "month_sh['close'].plot(grid=True)"
   ]
  },
  {
   "cell_type": "code",
   "execution_count": 60,
   "metadata": {
    "collapsed": false
   },
   "outputs": [
    {
     "data": {
      "text/plain": [
       "float"
      ]
     },
     "execution_count": 60,
     "metadata": {},
     "output_type": "execute_result"
    }
   ],
   "source": [
    "type(2/3)"
   ]
  },
  {
   "cell_type": "code",
   "execution_count": 61,
   "metadata": {
    "collapsed": false
   },
   "outputs": [
    {
     "data": {
      "text/plain": [
       "int"
      ]
     },
     "execution_count": 61,
     "metadata": {},
     "output_type": "execute_result"
    }
   ],
   "source": [
    "type(1//2)"
   ]
  },
  {
   "cell_type": "code",
   "execution_count": 62,
   "metadata": {
    "collapsed": false
   },
   "outputs": [
    {
     "data": {
      "text/plain": [
       "'\\nhello world\\nhello world\\nhello word\\n'"
      ]
     },
     "execution_count": 62,
     "metadata": {},
     "output_type": "execute_result"
    }
   ],
   "source": [
    "'''\n",
    "hello world\n",
    "hello world\n",
    "hello word\n",
    "'''#\\n换行"
   ]
  },
  {
   "cell_type": "code",
   "execution_count": 63,
   "metadata": {
    "collapsed": false
   },
   "outputs": [
    {
     "name": "stdout",
     "output_type": "stream",
     "text": [
      "\n",
      "hello world\n",
      "hello world\n",
      "hello word\n",
      "\n"
     ]
    }
   ],
   "source": [
    "print('\\nhello world\\nhello world\\nhello word\\n')"
   ]
  },
  {
   "cell_type": "code",
   "execution_count": 66,
   "metadata": {
    "collapsed": false
   },
   "outputs": [
    {
     "ename": "SyntaxError",
     "evalue": "unexpected character after line continuation character (<ipython-input-66-e9facf912d08>, line 1)",
     "output_type": "error",
     "traceback": [
      "\u001b[0;36m  File \u001b[0;32m\"<ipython-input-66-e9facf912d08>\"\u001b[0;36m, line \u001b[0;32m1\u001b[0m\n\u001b[0;31m    \\n #换行  \\'  \\t\u001b[0m\n\u001b[0m                  ^\u001b[0m\n\u001b[0;31mSyntaxError\u001b[0m\u001b[0;31m:\u001b[0m unexpected character after line continuation character\n"
     ]
    }
   ],
   "source": [
    "\\n #换行  \\'  \\t"
   ]
  },
  {
   "cell_type": "code",
   "execution_count": 67,
   "metadata": {
    "collapsed": false
   },
   "outputs": [
    {
     "name": "stdout",
     "output_type": "stream",
     "text": [
      "hello \n",
      " world\n"
     ]
    }
   ],
   "source": [
    "print('hello \\n world')"
   ]
  },
  {
   "cell_type": "code",
   "execution_count": 68,
   "metadata": {
    "collapsed": false
   },
   "outputs": [
    {
     "name": "stdout",
     "output_type": "stream",
     "text": [
      "hello \\n world\n"
     ]
    }
   ],
   "source": [
    "print('hello \\\\n world')"
   ]
  },
  {
   "cell_type": "code",
   "execution_count": 69,
   "metadata": {
    "collapsed": false
   },
   "outputs": [
    {
     "name": "stdout",
     "output_type": "stream",
     "text": [
      "c:\n",
      "ort\\hello  world\n"
     ]
    }
   ],
   "source": [
    "print('c:\\nort\\hello  world')"
   ]
  },
  {
   "cell_type": "code",
   "execution_count": 70,
   "metadata": {
    "collapsed": false
   },
   "outputs": [
    {
     "name": "stdout",
     "output_type": "stream",
     "text": [
      "c:\\nort\\hello  world\n"
     ]
    }
   ],
   "source": [
    "print('c:\\\\nort\\\\hello  world')"
   ]
  },
  {
   "cell_type": "code",
   "execution_count": 71,
   "metadata": {
    "collapsed": false
   },
   "outputs": [
    {
     "name": "stdout",
     "output_type": "stream",
     "text": [
      "c:\\nort\\hello  world\n"
     ]
    }
   ],
   "source": [
    "print(r'c:\\nort\\hello  world')"
   ]
  },
  {
   "cell_type": "code",
   "execution_count": 72,
   "metadata": {
    "collapsed": false
   },
   "outputs": [
    {
     "data": {
      "text/plain": [
       "['ss', 'dd', 'ss', 'dd', 'ss', 'dd']"
      ]
     },
     "execution_count": 72,
     "metadata": {},
     "output_type": "execute_result"
    }
   ],
   "source": [
    "['ss','dd']*3"
   ]
  },
  {
   "cell_type": "code",
   "execution_count": 73,
   "metadata": {
    "collapsed": false
   },
   "outputs": [
    {
     "ename": "TypeError",
     "evalue": "unsupported operand type(s) for -: 'list' and 'list'",
     "output_type": "error",
     "traceback": [
      "\u001b[0;31m---------------------------------------------------------------------------\u001b[0m",
      "\u001b[0;31mTypeError\u001b[0m                                 Traceback (most recent call last)",
      "\u001b[0;32m<ipython-input-73-7a68b45288b7>\u001b[0m in \u001b[0;36m<module>\u001b[0;34m()\u001b[0m\n\u001b[0;32m----> 1\u001b[0;31m \u001b[1;33m[\u001b[0m\u001b[1;34m'ss'\u001b[0m\u001b[1;33m,\u001b[0m\u001b[1;34m'dd'\u001b[0m\u001b[1;33m]\u001b[0m\u001b[1;33m-\u001b[0m\u001b[1;33m[\u001b[0m\u001b[1;34m'ss'\u001b[0m\u001b[1;33m]\u001b[0m\u001b[1;33m\u001b[0m\u001b[0m\n\u001b[0m",
      "\u001b[0;31mTypeError\u001b[0m: unsupported operand type(s) for -: 'list' and 'list'"
     ]
    }
   ],
   "source": [
    "['ss','dd']-['ss']"
   ]
  },
  {
   "cell_type": "code",
   "execution_count": 74,
   "metadata": {
    "collapsed": false
   },
   "outputs": [
    {
     "data": {
      "text/plain": [
       "(1,)"
      ]
     },
     "execution_count": 74,
     "metadata": {},
     "output_type": "execute_result"
    }
   ],
   "source": [
    "(1,)#tuple"
   ]
  },
  {
   "cell_type": "code",
   "execution_count": 75,
   "metadata": {
    "collapsed": false
   },
   "outputs": [
    {
     "data": {
      "text/plain": [
       "True"
      ]
     },
     "execution_count": 75,
     "metadata": {},
     "output_type": "execute_result"
    }
   ],
   "source": [
    "True and True"
   ]
  },
  {
   "cell_type": "code",
   "execution_count": 76,
   "metadata": {
    "collapsed": false
   },
   "outputs": [
    {
     "data": {
      "text/plain": [
       "False"
      ]
     },
     "execution_count": 76,
     "metadata": {},
     "output_type": "execute_result"
    }
   ],
   "source": [
    "not True"
   ]
  },
  {
   "cell_type": "code",
   "execution_count": 77,
   "metadata": {
    "collapsed": false
   },
   "outputs": [
    {
     "data": {
      "text/plain": [
       "True"
      ]
     },
     "execution_count": 77,
     "metadata": {},
     "output_type": "execute_result"
    }
   ],
   "source": [
    "not not True"
   ]
  },
  {
   "cell_type": "code",
   "execution_count": 78,
   "metadata": {
    "collapsed": false
   },
   "outputs": [
    {
     "data": {
      "text/plain": [
       "'b'"
      ]
     },
     "execution_count": 78,
     "metadata": {},
     "output_type": "execute_result"
    }
   ],
   "source": [
    "'a' and 'b'"
   ]
  },
  {
   "cell_type": "code",
   "execution_count": 79,
   "metadata": {
    "collapsed": false
   },
   "outputs": [
    {
     "data": {
      "text/plain": [
       "'a'"
      ]
     },
     "execution_count": 79,
     "metadata": {},
     "output_type": "execute_result"
    }
   ],
   "source": [
    "'a' or 'b'"
   ]
  },
  {
   "cell_type": "code",
   "execution_count": 80,
   "metadata": {
    "collapsed": false
   },
   "outputs": [
    {
     "data": {
      "text/plain": [
       "False"
      ]
     },
     "execution_count": 80,
     "metadata": {},
     "output_type": "execute_result"
    }
   ],
   "source": [
    "not 'a'"
   ]
  },
  {
   "cell_type": "code",
   "execution_count": 81,
   "metadata": {
    "collapsed": false
   },
   "outputs": [
    {
     "data": {
      "text/plain": [
       "1"
      ]
     },
     "execution_count": 81,
     "metadata": {},
     "output_type": "execute_result"
    }
   ],
   "source": [
    "1 and 1"
   ]
  },
  {
   "cell_type": "code",
   "execution_count": 82,
   "metadata": {
    "collapsed": false
   },
   "outputs": [
    {
     "data": {
      "text/plain": [
       "False"
      ]
     },
     "execution_count": 82,
     "metadata": {},
     "output_type": "execute_result"
    }
   ],
   "source": [
    "not '0'"
   ]
  },
  {
   "cell_type": "code",
   "execution_count": 83,
   "metadata": {
    "collapsed": false
   },
   "outputs": [
    {
     "data": {
      "text/plain": [
       "True"
      ]
     },
     "execution_count": 83,
     "metadata": {},
     "output_type": "execute_result"
    }
   ],
   "source": [
    "not ''"
   ]
  },
  {
   "cell_type": "code",
   "execution_count": 84,
   "metadata": {
    "collapsed": false
   },
   "outputs": [
    {
     "data": {
      "text/plain": [
       "True"
      ]
     },
     "execution_count": 84,
     "metadata": {},
     "output_type": "execute_result"
    }
   ],
   "source": [
    "a={1,2,3}\n",
    "b={2,1,3}\n",
    "a==b"
   ]
  },
  {
   "cell_type": "code",
   "execution_count": 85,
   "metadata": {
    "collapsed": false
   },
   "outputs": [
    {
     "data": {
      "text/plain": [
       "False"
      ]
     },
     "execution_count": 85,
     "metadata": {},
     "output_type": "execute_result"
    }
   ],
   "source": [
    "c={1,2,3}\n",
    "d={2,1,3}\n",
    "a is b"
   ]
  },
  {
   "cell_type": "code",
   "execution_count": 86,
   "metadata": {
    "collapsed": false
   },
   "outputs": [
    {
     "data": {
      "text/plain": [
       "1216683013736"
      ]
     },
     "execution_count": 86,
     "metadata": {},
     "output_type": "execute_result"
    }
   ],
   "source": [
    "id(c)"
   ]
  },
  {
   "cell_type": "code",
   "execution_count": 87,
   "metadata": {
    "collapsed": false
   },
   "outputs": [
    {
     "data": {
      "text/plain": [
       "1216683012168"
      ]
     },
     "execution_count": 87,
     "metadata": {},
     "output_type": "execute_result"
    }
   ],
   "source": [
    "id (d)"
   ]
  },
  {
   "cell_type": "code",
   "execution_count": 88,
   "metadata": {
    "collapsed": false
   },
   "outputs": [
    {
     "name": "stdout",
     "output_type": "stream",
     "text": [
      "1\n",
      "3\n"
     ]
    }
   ],
   "source": [
    "a=[1,2,3]\n",
    "for x in a:\n",
    "    if x ==2:\n",
    "        continue\n",
    "    print(x) "
   ]
  },
  {
   "cell_type": "code",
   "execution_count": 89,
   "metadata": {
    "collapsed": false
   },
   "outputs": [
    {
     "name": "stdout",
     "output_type": "stream",
     "text": [
      "1\n"
     ]
    }
   ],
   "source": [
    "a=[1,2,3]\n",
    "for x in a:\n",
    "    if x ==2:\n",
    "        break\n",
    "    print(x)\n",
    "else:\n",
    "    print('eof')"
   ]
  },
  {
   "cell_type": "code",
   "execution_count": 90,
   "metadata": {
    "collapsed": false
   },
   "outputs": [
    {
     "name": "stdout",
     "output_type": "stream",
     "text": [
      "2\n",
      "3\n",
      "4\n",
      "5\n",
      "6\n",
      "7\n",
      "8\n",
      "9\n",
      "10\n",
      "11\n",
      "eof\n"
     ]
    }
   ],
   "source": [
    "counter=1\n",
    "while counter<=10:\n",
    "    counter+=1\n",
    "    print(counter)\n",
    "else:\n",
    "    print('eof')"
   ]
  },
  {
   "cell_type": "code",
   "execution_count": 91,
   "metadata": {
    "collapsed": false
   },
   "outputs": [
    {
     "name": "stdout",
     "output_type": "stream",
     "text": [
      "apple\n",
      "1\n",
      "2\n",
      "3\n",
      "go\n"
     ]
    }
   ],
   "source": [
    "a=[['apple','orange','banana'],(1,2,3)]\n",
    "for x in a :\n",
    "    for y in x:\n",
    "        if y =='orange':\n",
    "            break\n",
    "        print(y)\n",
    "else:\n",
    "    print('go')"
   ]
  },
  {
   "cell_type": "code",
   "execution_count": 92,
   "metadata": {
    "collapsed": false
   },
   "outputs": [
    {
     "name": "stdout",
     "output_type": "stream",
     "text": [
      "0\n",
      "1\n",
      "2\n",
      "3\n",
      "4\n",
      "5\n",
      "6\n",
      "7\n",
      "8\n",
      "9\n"
     ]
    }
   ],
   "source": [
    "for i in range(0,10):\n",
    "    print(i)"
   ]
  },
  {
   "cell_type": "code",
   "execution_count": 93,
   "metadata": {
    "collapsed": false
   },
   "outputs": [
    {
     "name": "stdout",
     "output_type": "stream",
     "text": [
      "0\n",
      "2\n",
      "4\n",
      "6\n",
      "8\n"
     ]
    }
   ],
   "source": [
    "for i in range(0,10,2):\n",
    "    print(i)"
   ]
  },
  {
   "cell_type": "code",
   "execution_count": 94,
   "metadata": {
    "collapsed": false
   },
   "outputs": [
    {
     "name": "stdout",
     "output_type": "stream",
     "text": [
      "0   |   1   |   2   |   3   |   4   |   5   |   6   |   7   |   8   |   9   |   "
     ]
    }
   ],
   "source": [
    "for i in range(0,10):#split\n",
    "    print(i,end='   |   ')"
   ]
  },
  {
   "cell_type": "code",
   "execution_count": 95,
   "metadata": {
    "collapsed": false
   },
   "outputs": [
    {
     "name": "stdout",
     "output_type": "stream",
     "text": [
      "0123456789"
     ]
    }
   ],
   "source": [
    "for i in range(0,10):\n",
    "    print(i,end='')"
   ]
  },
  {
   "cell_type": "code",
   "execution_count": 96,
   "metadata": {
    "collapsed": false
   },
   "outputs": [
    {
     "name": "stdout",
     "output_type": "stream",
     "text": [
      "0,1,2,3,4,5,6,7,8,9,"
     ]
    }
   ],
   "source": [
    "for i in range(0,10):#split\n",
    "    print(i,end=',')"
   ]
  },
  {
   "cell_type": "code",
   "execution_count": 97,
   "metadata": {
    "collapsed": false
   },
   "outputs": [
    {
     "name": "stdout",
     "output_type": "stream",
     "text": [
      "[1, 4, 7]\n"
     ]
    }
   ],
   "source": [
    "a=[1,2,4,56,7,8]\n",
    "b=a[0:len(a):2]\n",
    "print(b)"
   ]
  },
  {
   "cell_type": "code",
   "execution_count": 98,
   "metadata": {
    "collapsed": false
   },
   "outputs": [],
   "source": [
    "##import t.c7\n",
    "##print(t.c7.a)"
   ]
  },
  {
   "cell_type": "code",
   "execution_count": 99,
   "metadata": {
    "collapsed": false
   },
   "outputs": [],
   "source": [
    "__all__ =['a','c']#output something\n",
    "a=2 \n",
    "c =3 \n",
    "d =4\n",
    "#output a c"
   ]
  },
  {
   "cell_type": "code",
   "execution_count": 100,
   "metadata": {
    "collapsed": false
   },
   "outputs": [
    {
     "ename": "SyntaxError",
     "evalue": "unexpected character after line continuation character (<ipython-input-100-40903c4b5f58>, line 1)",
     "output_type": "error",
     "traceback": [
      "\u001b[0;36m  File \u001b[0;32m\"<ipython-input-100-40903c4b5f58>\"\u001b[0;36m, line \u001b[0;32m1\u001b[0m\n\u001b[0;31m    from c9 import a,b,\\  change line\u001b[0m\n\u001b[0m                                     ^\u001b[0m\n\u001b[0;31mSyntaxError\u001b[0m\u001b[0;31m:\u001b[0m unexpected character after line continuation character\n"
     ]
    }
   ],
   "source": [
    "from c9 import a,b,\\  change line\n",
    "c\n",
    "\n",
    "from c9 import (a,b\n",
    "c)  best               "
   ]
  },
  {
   "cell_type": "code",
   "execution_count": 101,
   "metadata": {
    "collapsed": false
   },
   "outputs": [
    {
     "ename": "SyntaxError",
     "evalue": "invalid syntax (<ipython-input-101-2bcb23a80313>, line 1)",
     "output_type": "error",
     "traceback": [
      "\u001b[0;36m  File \u001b[0;32m\"<ipython-input-101-2bcb23a80313>\"\u001b[0;36m, line \u001b[0;32m1\u001b[0m\n\u001b[0;31m    a.file  __init__.py\u001b[0m\n\u001b[0m                   ^\u001b[0m\n\u001b[0;31mSyntaxError\u001b[0m\u001b[0;31m:\u001b[0m invalid syntax\n"
     ]
    }
   ],
   "source": [
    " a.file  __init__.py\n",
    "a='.py'\n",
    "print(a)\n",
    "import a"
   ]
  },
  {
   "cell_type": "code",
   "execution_count": 102,
   "metadata": {
    "collapsed": false
   },
   "outputs": [
    {
     "name": "stdout",
     "output_type": "stream",
     "text": [
      "['', 'C:\\\\zwPython\\\\py35\\\\python-3.5.2.amd64\\\\python35.zip', 'C:\\\\zwPython\\\\py35\\\\python-3.5.2.amd64\\\\DLLs', 'C:\\\\zwPython\\\\py35\\\\python-3.5.2.amd64\\\\lib', 'C:\\\\zwPython\\\\py35\\\\python-3.5.2.amd64', 'C:\\\\zwPython\\\\py35\\\\python-3.5.2.amd64\\\\lib\\\\site-packages', 'C:\\\\zwPython\\\\py35\\\\python-3.5.2.amd64\\\\lib\\\\site-packages\\\\FontTools', 'C:\\\\zwPython\\\\py35\\\\python-3.5.2.amd64\\\\lib\\\\site-packages\\\\win32', 'C:\\\\zwPython\\\\py35\\\\python-3.5.2.amd64\\\\lib\\\\site-packages\\\\win32\\\\lib', 'C:\\\\zwPython\\\\py35\\\\python-3.5.2.amd64\\\\lib\\\\site-packages\\\\Pythonwin', 'C:\\\\zwPython\\\\zwQuant\\\\Source', 'C:\\\\zwPython\\\\py35\\\\python-3.5.2.amd64\\\\lib\\\\site-packages\\\\IPython\\\\extensions', 'C:\\\\Users\\\\l\\\\.ipython']\n"
     ]
    }
   ],
   "source": [
    "import sys\n",
    "import datetime\n",
    "import io\n",
    "print(sys.path\n",
    "     )\n"
   ]
  },
  {
   "cell_type": "code",
   "execution_count": 103,
   "metadata": {
    "collapsed": false
   },
   "outputs": [
    {
     "name": "stdout",
     "output_type": "stream",
     "text": [
      "54\n"
     ]
    },
    {
     "data": {
      "text/plain": [
       "(5, 6)"
      ]
     },
     "execution_count": 103,
     "metadata": {},
     "output_type": "execute_result"
    }
   ],
   "source": [
    "def add(x,y):\n",
    "    result=x+y,x*y\n",
    "    print(54)\n",
    "    return result\n",
    "    print(54)\n",
    "    print(54)\n",
    "    print(54)#break\n",
    "add(2,3)"
   ]
  },
  {
   "cell_type": "code",
   "execution_count": 104,
   "metadata": {
    "collapsed": true
   },
   "outputs": [],
   "source": [
    "a=1 \n",
    "b=1\n",
    "c=3\n",
    "a,b,c=1,1,3"
   ]
  },
  {
   "cell_type": "code",
   "execution_count": 105,
   "metadata": {
    "collapsed": false
   },
   "outputs": [
    {
     "name": "stdout",
     "output_type": "stream",
     "text": [
      "name:\n",
      "age0\n"
     ]
    }
   ],
   "source": [
    "class Student():#封装\n",
    "    name=''\n",
    "    age=0#\n",
    "    def print_file(self):\n",
    "        print('name:' +self.name)\n",
    "        print('age' +str(self.age))\n",
    "student=Student()\n",
    "student.print_file()"
   ]
  },
  {
   "cell_type": "code",
   "execution_count": 106,
   "metadata": {
    "collapsed": false
   },
   "outputs": [
    {
     "name": "stdout",
     "output_type": "stream",
     "text": [
      "1\n"
     ]
    },
    {
     "ename": "TypeError",
     "evalue": "Can't convert 'int' object to str implicitly",
     "output_type": "error",
     "traceback": [
      "\u001b[0;31m---------------------------------------------------------------------------\u001b[0m",
      "\u001b[0;31mTypeError\u001b[0m                                 Traceback (most recent call last)",
      "\u001b[0;32m<ipython-input-106-9667e58a8c85>\u001b[0m in \u001b[0;36m<module>\u001b[0;34m()\u001b[0m\n\u001b[1;32m     12\u001b[0m     \u001b[1;32mdef\u001b[0m \u001b[0mdo_homework\u001b[0m\u001b[1;33m(\u001b[0m\u001b[0mself\u001b[0m\u001b[1;33m)\u001b[0m\u001b[1;33m:\u001b[0m\u001b[1;31m#method\u001b[0m\u001b[1;33m\u001b[0m\u001b[0m\n\u001b[1;32m     13\u001b[0m         \u001b[0mprint\u001b[0m\u001b[1;33m(\u001b[0m\u001b[1;34m'homework'\u001b[0m\u001b[1;33m)\u001b[0m\u001b[1;33m\u001b[0m\u001b[0m\n\u001b[0;32m---> 14\u001b[0;31m \u001b[0mstudent1\u001b[0m\u001b[1;33m=\u001b[0m\u001b[0mStudent\u001b[0m\u001b[1;33m(\u001b[0m\u001b[1;34m'ss'\u001b[0m\u001b[1;33m,\u001b[0m\u001b[1;36m18\u001b[0m\u001b[1;33m)\u001b[0m\u001b[1;33m\u001b[0m\u001b[0m\n\u001b[0m\u001b[1;32m     15\u001b[0m \u001b[0mstudent2\u001b[0m\u001b[1;33m=\u001b[0m\u001b[0mStudent\u001b[0m\u001b[1;33m(\u001b[0m\u001b[1;34m'bb'\u001b[0m\u001b[1;33m,\u001b[0m\u001b[1;36m19\u001b[0m\u001b[1;33m)\u001b[0m\u001b[1;33m\u001b[0m\u001b[0m\n\u001b[1;32m     16\u001b[0m \u001b[0mprint\u001b[0m\u001b[1;33m(\u001b[0m\u001b[0mstudent1\u001b[0m\u001b[1;33m.\u001b[0m\u001b[0mname\u001b[0m\u001b[1;33m)\u001b[0m\u001b[1;33m\u001b[0m\u001b[0m\n",
      "\u001b[0;32m<ipython-input-106-9667e58a8c85>\u001b[0m in \u001b[0;36m__init__\u001b[0;34m(self, name, age)\u001b[0m\n\u001b[1;32m      8\u001b[0m         \u001b[0mself\u001b[0m\u001b[1;33m.\u001b[0m\u001b[0m__class__\u001b[0m\u001b[1;33m.\u001b[0m\u001b[0msum\u001b[0m\u001b[1;33m+=\u001b[0m\u001b[1;36m1\u001b[0m\u001b[1;33m\u001b[0m\u001b[0m\n\u001b[1;32m      9\u001b[0m         \u001b[0mprint\u001b[0m\u001b[1;33m(\u001b[0m\u001b[0mStudent\u001b[0m\u001b[1;33m.\u001b[0m\u001b[0msum\u001b[0m\u001b[1;33m)\u001b[0m\u001b[1;31m#类变量\u001b[0m\u001b[1;33m\u001b[0m\u001b[0m\n\u001b[0;32m---> 10\u001b[0;31m         \u001b[0mprint\u001b[0m\u001b[1;33m(\u001b[0m\u001b[1;34m'student 数量'\u001b[0m \u001b[1;33m+\u001b[0m\u001b[0mself\u001b[0m\u001b[1;33m.\u001b[0m\u001b[0m__class__\u001b[0m\u001b[1;33m.\u001b[0m\u001b[0msum\u001b[0m\u001b[1;33m)\u001b[0m\u001b[1;31m###str(\u001b[0m\u001b[1;33m\u001b[0m\u001b[0m\n\u001b[0m\u001b[1;32m     11\u001b[0m \u001b[1;33m\u001b[0m\u001b[0m\n\u001b[1;32m     12\u001b[0m     \u001b[1;32mdef\u001b[0m \u001b[0mdo_homework\u001b[0m\u001b[1;33m(\u001b[0m\u001b[0mself\u001b[0m\u001b[1;33m)\u001b[0m\u001b[1;33m:\u001b[0m\u001b[1;31m#method\u001b[0m\u001b[1;33m\u001b[0m\u001b[0m\n",
      "\u001b[0;31mTypeError\u001b[0m: Can't convert 'int' object to str implicitly"
     ]
    }
   ],
   "source": [
    "class Student():\n",
    "    sum=0\n",
    "    name='qq'\n",
    "    age=0#类变量   \n",
    "    def __init__(self,name,age):\n",
    "        self.name=name #\n",
    "        self.age=age#实例变量 value\n",
    "        self.__class__.sum+=1\n",
    "        print(Student.sum)#类变量   \n",
    "        print('student 数量' +self.__class__.sum)###str(\n",
    "        \n",
    "    def do_homework(self):#method \n",
    "        print('homework')\n",
    "student1=Student('ss',18)\n",
    "student2=Student('bb',19)\n",
    "print(student1.name)\n",
    "print(student2.name)\n",
    "print(Student.name)\n",
    "print(Student.sum)"
   ]
  },
  {
   "cell_type": "code",
   "execution_count": 107,
   "metadata": {
    "collapsed": false
   },
   "outputs": [
    {
     "ename": "NameError",
     "evalue": "name 'student1' is not defined",
     "output_type": "error",
     "traceback": [
      "\u001b[0;31m---------------------------------------------------------------------------\u001b[0m",
      "\u001b[0;31mNameError\u001b[0m                                 Traceback (most recent call last)",
      "\u001b[0;32m<ipython-input-107-beb2e26cbfc7>\u001b[0m in \u001b[0;36m<module>\u001b[0;34m()\u001b[0m\n\u001b[0;32m----> 1\u001b[0;31m \u001b[0mprint\u001b[0m\u001b[1;33m(\u001b[0m\u001b[0mstudent1\u001b[0m\u001b[1;33m.\u001b[0m\u001b[0m__dict__\u001b[0m\u001b[1;33m)\u001b[0m\u001b[1;31m#dict\u001b[0m\u001b[1;33m\u001b[0m\u001b[0m\n\u001b[0m",
      "\u001b[0;31mNameError\u001b[0m: name 'student1' is not defined"
     ]
    }
   ],
   "source": [
    "print(student1.__dict__)#dict"
   ]
  },
  {
   "cell_type": "code",
   "execution_count": 108,
   "metadata": {
    "collapsed": false
   },
   "outputs": [
    {
     "name": "stdout",
     "output_type": "stream",
     "text": [
      "1\n",
      "student 数量::1\n",
      "2\n",
      "3\n",
      "student 数量::3\n",
      "4\n",
      "student 数量::4\n",
      "ss\n",
      "bb\n",
      "qq\n",
      "4\n",
      "5\n"
     ]
    }
   ],
   "source": [
    "class Student():#class\n",
    "    sum=0\n",
    "    name='qq'\n",
    "    age=0#类变量   \n",
    "    def __init__(self,name,age):\n",
    "        self.name=name #\n",
    "        self.age=age#实例变量 value\n",
    "        self.__class__.sum+=1\n",
    "        print(Student.sum)#类变量   \n",
    "        print('student 数量::' +str(self.__class__.sum))\n",
    "    def do_homework(self):##实例method \n",
    "        print('homework')\n",
    "        \n",
    "    @classmethod #装饰器   类方法\n",
    "    def plus_sum(cls):#can change cls\n",
    "        cls.sum+=1\n",
    "        print(cls.sum) \n",
    "        \n",
    "        \n",
    "        #print('555555 static method')#break\n",
    "\n",
    "student1=Student('ss',18)\n",
    "Student.plus_sum()#实例调用类方法  another language can not 实例调用类方法\n",
    "student2=Student('bb',19) \n",
    "student3=Student('cc',20)\n",
    "print(student1.name)\n",
    "print(student2.name)\n",
    "print(Student.name)\n",
    "print(Student.sum)\n",
    "Student.plus_sum()"
   ]
  },
  {
   "cell_type": "code",
   "execution_count": null,
   "metadata": {
    "collapsed": true
   },
   "outputs": [],
   "source": []
  },
  {
   "cell_type": "code",
   "execution_count": 1,
   "metadata": {
    "collapsed": false
   },
   "outputs": [
    {
     "name": "stdout",
     "output_type": "stream",
     "text": [
      "1\n",
      "student 数量::1\n",
      "1\n"
     ]
    },
    {
     "ename": "NameError",
     "evalue": "name 'name' is not defined",
     "output_type": "error",
     "traceback": [
      "\u001b[0;31m---------------------------------------------------------------------------\u001b[0m",
      "\u001b[0;31mNameError\u001b[0m                                 Traceback (most recent call last)",
      "\u001b[0;32m<ipython-input-1-e353b490689f>\u001b[0m in \u001b[0;36m<module>\u001b[0;34m()\u001b[0m\n\u001b[1;32m     26\u001b[0m         \u001b[0mprint\u001b[0m\u001b[1;33m(\u001b[0m\u001b[1;34m'is static method'\u001b[0m\u001b[1;33m)\u001b[0m\u001b[1;33m\u001b[0m\u001b[0m\n\u001b[1;32m     27\u001b[0m \u001b[0mstudent1\u001b[0m\u001b[1;33m=\u001b[0m\u001b[0mStudent\u001b[0m\u001b[1;33m(\u001b[0m\u001b[1;34m'ss'\u001b[0m\u001b[1;33m,\u001b[0m\u001b[1;36m18\u001b[0m\u001b[1;33m)\u001b[0m\u001b[1;33m\u001b[0m\u001b[0m\n\u001b[0;32m---> 28\u001b[0;31m \u001b[0mstudent1\u001b[0m\u001b[1;33m.\u001b[0m\u001b[0madd\u001b[0m\u001b[1;33m(\u001b[0m\u001b[1;36m1\u001b[0m\u001b[1;33m,\u001b[0m\u001b[1;36m2\u001b[0m\u001b[1;33m)\u001b[0m \u001b[1;31m#对象 调用j静态方法\u001b[0m\u001b[1;33m\u001b[0m\u001b[0m\n\u001b[0m\u001b[1;32m     29\u001b[0m \u001b[0mStudent\u001b[0m\u001b[1;33m.\u001b[0m\u001b[0madd\u001b[0m\u001b[1;33m(\u001b[0m\u001b[1;36m1\u001b[0m\u001b[1;33m,\u001b[0m\u001b[1;36m2\u001b[0m\u001b[1;33m)\u001b[0m \u001b[1;31m#类调 用j静态方法\u001b[0m\u001b[1;33m\u001b[0m\u001b[0m\n",
      "\u001b[0;32m<ipython-input-1-e353b490689f>\u001b[0m in \u001b[0;36madd\u001b[0;34m(x, y)\u001b[0m\n\u001b[1;32m     22\u001b[0m     \u001b[1;32mdef\u001b[0m \u001b[0madd\u001b[0m\u001b[1;33m(\u001b[0m\u001b[0mx\u001b[0m\u001b[1;33m,\u001b[0m\u001b[0my\u001b[0m\u001b[1;33m)\u001b[0m\u001b[1;33m:\u001b[0m\u001b[1;33m\u001b[0m\u001b[0m\n\u001b[1;32m     23\u001b[0m         \u001b[0mprint\u001b[0m\u001b[1;33m(\u001b[0m\u001b[0mStudent\u001b[0m\u001b[1;33m.\u001b[0m\u001b[0msum\u001b[0m\u001b[1;33m)\u001b[0m\u001b[1;31m#静态方法  访问  类变量   inside\u001b[0m\u001b[1;33m\u001b[0m\u001b[0m\n\u001b[0;32m---> 24\u001b[0;31m         \u001b[0mprint\u001b[0m\u001b[1;33m(\u001b[0m\u001b[0mname\u001b[0m\u001b[1;33m)\u001b[0m\u001b[1;33m\u001b[0m\u001b[0m\n\u001b[0m\u001b[1;32m     25\u001b[0m \u001b[1;33m\u001b[0m\u001b[0m\n\u001b[1;32m     26\u001b[0m         \u001b[0mprint\u001b[0m\u001b[1;33m(\u001b[0m\u001b[1;34m'is static method'\u001b[0m\u001b[1;33m)\u001b[0m\u001b[1;33m\u001b[0m\u001b[0m\n",
      "\u001b[0;31mNameError\u001b[0m: name 'name' is not defined"
     ]
    }
   ],
   "source": [
    "class Student():#class\n",
    "    sum=0\n",
    "    name='qq'\n",
    "    age=0#类变量   \n",
    "    def __init__(self,name,age):\n",
    "        self.name=name #\n",
    "        self.age=age#实例变量 value\n",
    "        self.__class__.sum+=1\n",
    "        print(Student.sum)#类变量   \n",
    "        print('student 数量::' +str(self.__class__.sum))\n",
    "    def do_homework(self):##实例method \n",
    "        print('homework')\n",
    "        \n",
    "    @classmethod #装饰器   类方法\n",
    "    def plus_sum(cls): #can change cls\n",
    "        cls.sum+=1\n",
    "        print(cls.sum) \n",
    "        print(self.name)\n",
    "\n",
    "       # c c# de @staticmethod like classmethod\n",
    "    @staticmethod  #与类  实例无太大关系 可以用 like 函数    #调用j静态方法\n",
    "    def add(x,y):\n",
    "        print(Student.sum)#静态方法  访问  类变量   inside\n",
    "        print(name)\n",
    "\n",
    "        print('is static method')\n",
    "student1=Student('ss',18)\n",
    "student1.add(1,2) #对象 调用j静态方法\n",
    "Student.add(1,2) #类调 用j静态方法\n"
   ]
  },
  {
   "cell_type": "code",
   "execution_count": 1,
   "metadata": {
    "collapsed": false
   },
   "outputs": [
    {
     "name": "stdout",
     "output_type": "stream",
     "text": [
      "1\n",
      "student 数量::1\n",
      "1\n"
     ]
    },
    {
     "ename": "NameError",
     "evalue": "name 'name' is not defined",
     "output_type": "error",
     "traceback": [
      "\u001b[0;31m---------------------------------------------------------------------------\u001b[0m",
      "\u001b[0;31mNameError\u001b[0m                                 Traceback (most recent call last)",
      "\u001b[0;32m<ipython-input-1-7b2af631ae16>\u001b[0m in \u001b[0;36m<module>\u001b[0;34m()\u001b[0m\n\u001b[1;32m     26\u001b[0m         \u001b[0mprint\u001b[0m\u001b[1;33m(\u001b[0m\u001b[1;34m'is static method'\u001b[0m\u001b[1;33m)\u001b[0m\u001b[1;33m\u001b[0m\u001b[0m\n\u001b[1;32m     27\u001b[0m \u001b[0mstudent1\u001b[0m\u001b[1;33m=\u001b[0m\u001b[0mStudent\u001b[0m\u001b[1;33m(\u001b[0m\u001b[1;34m'ss'\u001b[0m\u001b[1;33m,\u001b[0m\u001b[1;36m18\u001b[0m\u001b[1;33m)\u001b[0m\u001b[1;33m\u001b[0m\u001b[0m\n\u001b[0;32m---> 28\u001b[0;31m \u001b[0mstudent1\u001b[0m\u001b[1;33m.\u001b[0m\u001b[0madd\u001b[0m\u001b[1;33m(\u001b[0m\u001b[1;36m1\u001b[0m\u001b[1;33m,\u001b[0m\u001b[1;36m2\u001b[0m\u001b[1;33m)\u001b[0m \u001b[1;31m#对象 调用j静态方法\u001b[0m\u001b[1;33m\u001b[0m\u001b[0m\n\u001b[0m\u001b[1;32m     29\u001b[0m \u001b[0mStudent\u001b[0m\u001b[1;33m.\u001b[0m\u001b[0madd\u001b[0m\u001b[1;33m(\u001b[0m\u001b[1;36m1\u001b[0m\u001b[1;33m,\u001b[0m\u001b[1;36m2\u001b[0m\u001b[1;33m)\u001b[0m \u001b[1;31m#类调 用j静态方法\u001b[0m\u001b[1;33m\u001b[0m\u001b[0m\n\u001b[1;32m     30\u001b[0m \u001b[1;31m#实例调用类方法  another language can not 实例调用类方法\u001b[0m\u001b[1;33m\u001b[0m\u001b[1;33m\u001b[0m\u001b[0m\n",
      "\u001b[0;32m<ipython-input-1-7b2af631ae16>\u001b[0m in \u001b[0;36madd\u001b[0;34m(x, y)\u001b[0m\n\u001b[1;32m     22\u001b[0m     \u001b[1;32mdef\u001b[0m \u001b[0madd\u001b[0m\u001b[1;33m(\u001b[0m\u001b[0mx\u001b[0m\u001b[1;33m,\u001b[0m\u001b[0my\u001b[0m\u001b[1;33m)\u001b[0m\u001b[1;33m:\u001b[0m\u001b[1;33m\u001b[0m\u001b[0m\n\u001b[1;32m     23\u001b[0m         \u001b[0mprint\u001b[0m\u001b[1;33m(\u001b[0m\u001b[0mStudent\u001b[0m\u001b[1;33m.\u001b[0m\u001b[0msum\u001b[0m\u001b[1;33m)\u001b[0m\u001b[1;31m#静态方法  访问  类变量   inside\u001b[0m\u001b[1;33m\u001b[0m\u001b[0m\n\u001b[0;32m---> 24\u001b[0;31m         \u001b[0mprint\u001b[0m\u001b[1;33m(\u001b[0m\u001b[0mname\u001b[0m\u001b[1;33m)\u001b[0m\u001b[1;33m\u001b[0m\u001b[0m\n\u001b[0m\u001b[1;32m     25\u001b[0m \u001b[1;33m\u001b[0m\u001b[0m\n\u001b[1;32m     26\u001b[0m         \u001b[0mprint\u001b[0m\u001b[1;33m(\u001b[0m\u001b[1;34m'is static method'\u001b[0m\u001b[1;33m)\u001b[0m\u001b[1;33m\u001b[0m\u001b[0m\n",
      "\u001b[0;31mNameError\u001b[0m: name 'name' is not defined"
     ]
    }
   ],
   "source": [
    "class Student():#class\n",
    "    sum=0\n",
    "    name='qq'\n",
    "    age=0#类变量   \n",
    "    def __init__(self,name,age):\n",
    "        self.name=name #\n",
    "        self.age=age#实例变量 value\n",
    "        self.__class__.sum+=1\n",
    "        print(Student.sum)#类变量   \n",
    "        print('student 数量::' +str(self.__class__.sum))\n",
    "    def do_homework(self):##实例method \n",
    "        print('homework')\n",
    "        \n",
    "    @classmethod #装饰器   类方法\n",
    "    def plus_sum(cls): #can change cls\n",
    "        cls.sum+=1\n",
    "        print(cls.sum) \n",
    "        print(self.name)\n",
    "\n",
    "        \n",
    "    @staticmethod  #调用j静态方法\n",
    "    def add(x,y):\n",
    "        print(Student.sum)#静态方法  访问  类变量   inside\n",
    "        print(name)\n",
    "\n",
    "        print('is static method')\n",
    "student1=Student('ss',18)\n",
    "student1.add(1,2) #对象 调用j静态方法\n",
    "Student.add(1,2) #类调 用j静态方法\n",
    "#实例调用类方法  another language can not 实例调用类方法      "
   ]
  },
  {
   "cell_type": "code",
   "execution_count": 2,
   "metadata": {
    "collapsed": false
   },
   "outputs": [
    {
     "name": "stdout",
     "output_type": "stream",
     "text": [
      "1\n",
      "student 数量::1\n",
      "1\n"
     ]
    },
    {
     "ename": "NameError",
     "evalue": "name 'self' is not defined",
     "output_type": "error",
     "traceback": [
      "\u001b[0;31m---------------------------------------------------------------------------\u001b[0m",
      "\u001b[0;31mNameError\u001b[0m                                 Traceback (most recent call last)",
      "\u001b[0;32m<ipython-input-2-a3719198c701>\u001b[0m in \u001b[0;36m<module>\u001b[0;34m()\u001b[0m\n\u001b[1;32m     26\u001b[0m         \u001b[0mprint\u001b[0m\u001b[1;33m(\u001b[0m\u001b[1;34m'is static method'\u001b[0m\u001b[1;33m)\u001b[0m\u001b[1;33m\u001b[0m\u001b[0m\n\u001b[1;32m     27\u001b[0m \u001b[0mstudent1\u001b[0m\u001b[1;33m=\u001b[0m\u001b[0mStudent\u001b[0m\u001b[1;33m(\u001b[0m\u001b[1;34m'ss'\u001b[0m\u001b[1;33m,\u001b[0m\u001b[1;36m18\u001b[0m\u001b[1;33m)\u001b[0m\u001b[1;33m\u001b[0m\u001b[0m\n\u001b[0;32m---> 28\u001b[0;31m \u001b[0mstudent1\u001b[0m\u001b[1;33m.\u001b[0m\u001b[0madd\u001b[0m\u001b[1;33m(\u001b[0m\u001b[1;36m1\u001b[0m\u001b[1;33m,\u001b[0m\u001b[1;36m2\u001b[0m\u001b[1;33m)\u001b[0m \u001b[1;31m#对象 调用j静态方法\u001b[0m\u001b[1;33m\u001b[0m\u001b[0m\n\u001b[0m\u001b[1;32m     29\u001b[0m \u001b[0mStudent\u001b[0m\u001b[1;33m.\u001b[0m\u001b[0madd\u001b[0m\u001b[1;33m(\u001b[0m\u001b[1;36m1\u001b[0m\u001b[1;33m,\u001b[0m\u001b[1;36m2\u001b[0m\u001b[1;33m)\u001b[0m \u001b[1;31m#类调 用j静态方法\u001b[0m\u001b[1;33m\u001b[0m\u001b[0m\n\u001b[1;32m     30\u001b[0m \u001b[0mstudent1\u001b[0m\u001b[1;33m.\u001b[0m\u001b[0mplus_sum\u001b[0m\u001b[1;33m(\u001b[0m\u001b[1;33m)\u001b[0m\u001b[1;33m\u001b[0m\u001b[0m\n",
      "\u001b[0;32m<ipython-input-2-a3719198c701>\u001b[0m in \u001b[0;36madd\u001b[0;34m(x, y)\u001b[0m\n\u001b[1;32m     22\u001b[0m     \u001b[1;32mdef\u001b[0m \u001b[0madd\u001b[0m\u001b[1;33m(\u001b[0m\u001b[0mx\u001b[0m\u001b[1;33m,\u001b[0m\u001b[0my\u001b[0m\u001b[1;33m)\u001b[0m\u001b[1;33m:\u001b[0m\u001b[1;33m\u001b[0m\u001b[0m\n\u001b[1;32m     23\u001b[0m         \u001b[0mprint\u001b[0m\u001b[1;33m(\u001b[0m\u001b[0mStudent\u001b[0m\u001b[1;33m.\u001b[0m\u001b[0msum\u001b[0m\u001b[1;33m)\u001b[0m\u001b[1;31m#静态方法  访问  类变量   inside\u001b[0m\u001b[1;33m\u001b[0m\u001b[0m\n\u001b[0;32m---> 24\u001b[0;31m         \u001b[0mprint\u001b[0m\u001b[1;33m(\u001b[0m\u001b[0mself\u001b[0m\u001b[1;33m.\u001b[0m\u001b[0mname\u001b[0m\u001b[1;33m)\u001b[0m\u001b[1;33m\u001b[0m\u001b[0m\n\u001b[0m\u001b[1;32m     25\u001b[0m \u001b[1;33m\u001b[0m\u001b[0m\n\u001b[1;32m     26\u001b[0m         \u001b[0mprint\u001b[0m\u001b[1;33m(\u001b[0m\u001b[1;34m'is static method'\u001b[0m\u001b[1;33m)\u001b[0m\u001b[1;33m\u001b[0m\u001b[0m\n",
      "\u001b[0;31mNameError\u001b[0m: name 'self' is not defined"
     ]
    }
   ],
   "source": [
    "class Student():#class\n",
    "    sum=0\n",
    "    name='qq'\n",
    "    age=0#类变量   \n",
    "    def __init__(self,name,age):\n",
    "        self.name=name #\n",
    "        self.age=age#实例变量 value\n",
    "        self.__class__.sum+=1\n",
    "        print(Student.sum)#类变量   \n",
    "        print('student 数量::' +str(self.__class__.sum))\n",
    "    def do_homework(self):##实例method \n",
    "        print('homework')\n",
    "        \n",
    "    @classmethod #装饰器   类方法\n",
    "    def plus_sum(cls): #can change cls\n",
    "        cls.sum+=1\n",
    "        print(cls.sum) \n",
    "        print(self.name)\n",
    "\n",
    "    #与类  实例无太大关系 可以用 like 函数    \n",
    "    @staticmethod  #调用j静态方法\n",
    "    def add(x,y):\n",
    "        print(Student.sum)#静态方法  访问  类变量   inside\n",
    "        print(self.name)\n",
    "\n",
    "        print('is static method')\n",
    "student1=Student('ss',18)\n",
    "student1.add(1,2) #对象 调用j静态方法\n",
    "Student.add(1,2) #类调 用j静态方法\n",
    "student1.plus_sum()\n",
    "Student.plus_sum()\n"
   ]
  },
  {
   "cell_type": "code",
   "execution_count": 3,
   "metadata": {
    "collapsed": false
   },
   "outputs": [
    {
     "name": "stdout",
     "output_type": "stream",
     "text": [
      "1\n",
      "student 数量::1\n",
      "homework\n",
      "not 负分\n"
     ]
    }
   ],
   "source": [
    "class Student():#class\n",
    "    sum=0\n",
    "    #类变量   \n",
    "    def __init__(self,name,age):\n",
    "        self.name=name #\n",
    "        self.age=age#实例变量 value\n",
    "        self.score=0\n",
    "        self.__class__.sum+=1\n",
    "        \n",
    "        print(Student.sum)#类变量   \n",
    "        print('student 数量::' +str(self.__class__.sum))\n",
    "        \n",
    "    def making(self,score):\n",
    "        if score<0:\n",
    "            return 'not 负分'#score=0\n",
    "        self.score=score\n",
    "        print(self.name+'score::'+str(self.score))\n",
    "        \n",
    "    def do_homework(self):##实例method \n",
    "        print('homework')\n",
    "        \n",
    "    def do_english_homework(self):\n",
    "        print()   \n",
    "        \n",
    "    @classmethod #装饰器   类方法\n",
    "    def plus_sum(cls): #can change cls\n",
    "        cls.sum+=1\n",
    "        print(cls.sum) \n",
    "        print(self.name)\n",
    "\n",
    "    #与类  实例无太大关系 可以用 like 函数    \n",
    "    @staticmethod  #调用j静态方法\n",
    "    def add(x,y):\n",
    "        print(Student.sum)#静态方法  访问  类变量   inside\n",
    "        print(self.name)\n",
    "\n",
    "        print('is static method')\n",
    "\n",
    "student1=Student('ss',18)\n",
    "student1.do_homework()\n",
    "result=student1.making(-1)\n",
    "print(result)"
   ]
  },
  {
   "cell_type": "code",
   "execution_count": 4,
   "metadata": {
    "collapsed": false
   },
   "outputs": [
    {
     "ename": "SyntaxError",
     "evalue": "invalid syntax (<ipython-input-4-174584d99013>, line 1)",
     "output_type": "error",
     "traceback": [
      "\u001b[0;36m  File \u001b[0;32m\"<ipython-input-4-174584d99013>\"\u001b[0;36m, line \u001b[0;32m1\u001b[0m\n\u001b[0;31m    public公有 private私有\u001b[0m\n\u001b[0m                     ^\u001b[0m\n\u001b[0;31mSyntaxError\u001b[0m\u001b[0;31m:\u001b[0m invalid syntax\n"
     ]
    }
   ],
   "source": [
    "public公有 private私有"
   ]
  },
  {
   "cell_type": "code",
   "execution_count": 5,
   "metadata": {
    "collapsed": false
   },
   "outputs": [
    {
     "name": "stdout",
     "output_type": "stream",
     "text": [
      "1\n",
      "student 数量::1\n",
      "homework\n"
     ]
    },
    {
     "ename": "AttributeError",
     "evalue": "'Student' object has no attribute '__making'",
     "output_type": "error",
     "traceback": [
      "\u001b[0;31m---------------------------------------------------------------------------\u001b[0m",
      "\u001b[0;31mAttributeError\u001b[0m                            Traceback (most recent call last)",
      "\u001b[0;32m<ipython-input-5-8d8e8ca704d3>\u001b[0m in \u001b[0;36m<module>\u001b[0;34m()\u001b[0m\n\u001b[1;32m     39\u001b[0m \u001b[0mstudent1\u001b[0m\u001b[1;33m=\u001b[0m\u001b[0mStudent\u001b[0m\u001b[1;33m(\u001b[0m\u001b[1;34m'ss'\u001b[0m\u001b[1;33m,\u001b[0m\u001b[1;36m18\u001b[0m\u001b[1;33m)\u001b[0m\u001b[1;33m\u001b[0m\u001b[0m\n\u001b[1;32m     40\u001b[0m \u001b[0mstudent1\u001b[0m\u001b[1;33m.\u001b[0m\u001b[0mdo_homework\u001b[0m\u001b[1;33m(\u001b[0m\u001b[1;33m)\u001b[0m\u001b[1;33m\u001b[0m\u001b[0m\n\u001b[0;32m---> 41\u001b[0;31m \u001b[0mresult\u001b[0m\u001b[1;33m=\u001b[0m\u001b[0mstudent1\u001b[0m\u001b[1;33m.\u001b[0m\u001b[0m__making\u001b[0m\u001b[1;33m(\u001b[0m\u001b[1;36m59\u001b[0m\u001b[1;33m)\u001b[0m\u001b[1;31m#私有\u001b[0m\u001b[1;33m\u001b[0m\u001b[0m\n\u001b[0m\u001b[1;32m     42\u001b[0m \u001b[0mprint\u001b[0m\u001b[1;33m(\u001b[0m\u001b[0mresult\u001b[0m\u001b[1;33m)\u001b[0m\u001b[1;33m\u001b[0m\u001b[0m\n",
      "\u001b[0;31mAttributeError\u001b[0m: 'Student' object has no attribute '__making'"
     ]
    }
   ],
   "source": [
    "class Student():#class\n",
    "    sum=0\n",
    "    #类变量   \n",
    "    def __init__(self,name,age):\n",
    "        self.name=name #\n",
    "        self.age=age#实例变量 value\n",
    "        self.score=0\n",
    "        self.__class__.sum+=1\n",
    "        \n",
    "        print(Student.sum)#类变量   \n",
    "        print('student 数量::' +str(self.__class__.sum))\n",
    "        \n",
    "    def __making(self,score):#私有方法\n",
    "        if score<0:\n",
    "            return 'not 负分'#score=0\n",
    "        self.score=score\n",
    "        print(self.name+'score::'+str(self.score))\n",
    "        \n",
    "    def do_homework(self):##实例method \n",
    "        print('homework')\n",
    "        \n",
    "    def do_english_homework(self):\n",
    "        print('english')   \n",
    "        \n",
    "    @classmethod #装饰器   类方法\n",
    "    def plus_sum(cls): #can change cls\n",
    "        cls.sum+=1\n",
    "        print(cls.sum) \n",
    "        print(self.name)\n",
    "\n",
    "    #与类  实例无太大关系 可以用 like 函数    \n",
    "    @staticmethod  #调用j静态方法\n",
    "    def add(x,y):\n",
    "        print(Student.sum)#静态方法  访问  类变量   inside\n",
    "        print(self.name)\n",
    "\n",
    "        print('is static method')\n",
    "\n",
    "student1=Student('ss',18)\n",
    "student1.do_homework()\n",
    "result=student1.__making(59)#私有\n",
    "print(result)"
   ]
  },
  {
   "cell_type": "code",
   "execution_count": 6,
   "metadata": {
    "collapsed": false
   },
   "outputs": [
    {
     "name": "stdout",
     "output_type": "stream",
     "text": [
      "1\n",
      "student 数量::1\n",
      "homework\n",
      "ssscore::59\n",
      "None\n"
     ]
    }
   ],
   "source": [
    "class Student():#class\n",
    "    sum=0\n",
    "    #类变量   \n",
    "    def __init__(self,name,age):\n",
    "        self.name=name #\n",
    "        self.age=age#实例变量 value\n",
    "        self.score=0\n",
    "        self.__class__.sum+=1\n",
    "        \n",
    "        print(Student.sum)#类变量   \n",
    "        print('student 数量::' +str(self.__class__.sum))\n",
    "        \n",
    "    def __making__(self,score):#私有方法\n",
    "        if score<0:\n",
    "            return 'not 负分'#score=0\n",
    "        self.score=score\n",
    "        print(self.name+'score::'+str(self.score))\n",
    "        \n",
    "    def do_homework(self):##实例method \n",
    "        print('homework')\n",
    "        \n",
    "    def do_english_homework(self):\n",
    "        print('english')   \n",
    "        \n",
    "    @classmethod #装饰器   类方法\n",
    "    def plus_sum(cls): #can change cls\n",
    "        cls.sum+=1\n",
    "        print(cls.sum) \n",
    "        print(self.name)\n",
    "\n",
    "    #与类  实例无太大关系 可以用 like 函数    \n",
    "    @staticmethod  #调用j静态方法\n",
    "    def add(x,y):\n",
    "        print(Student.sum)#静态方法  访问  类变量   inside\n",
    "        print(self.name)\n",
    "\n",
    "        print('is static method')\n",
    "\n",
    "student1=Student('ss',18)\n",
    "student1.do_homework()\n",
    "result=student1.__making__(59)#私有\n",
    "print(result)"
   ]
  },
  {
   "cell_type": "code",
   "execution_count": 7,
   "metadata": {
    "collapsed": false
   },
   "outputs": [
    {
     "name": "stdout",
     "output_type": "stream",
     "text": [
      "1\n",
      "student 数量::1\n",
      "2\n",
      "student 数量::2\n",
      "homework\n",
      "ssscore::59\n",
      "None\n",
      "-1\n",
      "{'name': 'ss', '__score': -1, '_Student__score': 0, 'age': 18, 'score': 59}\n",
      "{'age': 18, 'name': 's1s', '_Student__score': 0}\n"
     ]
    }
   ],
   "source": [
    "class Student():#class\n",
    "    sum=0\n",
    "    #类变量   \n",
    "    def __init__(self,name,age):\n",
    "        self.name=name #\n",
    "        self.age=age#实例变量 value\n",
    "        self.__score=0#私有变量\n",
    "        self.__class__.sum+=1\n",
    "        \n",
    "        print(Student.sum)#类变量   \n",
    "        print('student 数量::' +str(self.__class__.sum))\n",
    "        \n",
    "    def making(self,score):#私有方法\n",
    "        if score<0:\n",
    "            return 'not 负分'#score=0\n",
    "        self.score=score\n",
    "        print(self.name+'score::'+str(self.score))\n",
    "        \n",
    "    def do_homework(self):##实例method \n",
    "        print('homework')\n",
    "        \n",
    "    def do_english_homework(self):\n",
    "        print('english')   \n",
    "        \n",
    "    @classmethod #装饰器   类方法\n",
    "    def plus_sum(cls): #can change cls\n",
    "        cls.sum+=1\n",
    "        print(cls.sum) \n",
    "        print(self.name)\n",
    "\n",
    "    #与类  实例无太大关系 可以用 like 函数    \n",
    "    @staticmethod  #调用j静态方法\n",
    "    def add(x,y):\n",
    "        print(Student.sum)#静态方法  访问  类变量   inside\n",
    "        print(self.name)\n",
    "\n",
    "        print('is static method')\n",
    "\n",
    "student1=Student('ss',18)\n",
    "student2=Student('s1s',18)\n",
    "student1.do_homework()\n",
    "result=student1.making(59)#私有变量\n",
    "print(result)\n",
    "student1.__score=-1\n",
    "\n",
    "print(student1.__score)\n",
    "print(student1.__dict__)\n",
    "print(student2.__dict__)"
   ]
  },
  {
   "cell_type": "code",
   "execution_count": 8,
   "metadata": {
    "collapsed": false
   },
   "outputs": [
    {
     "name": "stdout",
     "output_type": "stream",
     "text": [
      "0\n"
     ]
    }
   ],
   "source": [
    "print(student2._Student__score)#add _  可以访问"
   ]
  },
  {
   "cell_type": "code",
   "execution_count": 9,
   "metadata": {
    "collapsed": false
   },
   "outputs": [
    {
     "ename": "ImportError",
     "evalue": "No module named 'c6'",
     "output_type": "error",
     "traceback": [
      "\u001b[0;31m---------------------------------------------------------------------------\u001b[0m",
      "\u001b[0;31mImportError\u001b[0m                               Traceback (most recent call last)",
      "\u001b[0;32m<ipython-input-9-ef03b54f4d38>\u001b[0m in \u001b[0;36m<module>\u001b[0;34m()\u001b[0m\n\u001b[0;32m----> 1\u001b[0;31m \u001b[1;32mimport\u001b[0m \u001b[0mc6\u001b[0m\u001b[1;33m\u001b[0m\u001b[0m\n\u001b[0m\u001b[1;32m      2\u001b[0m \u001b[1;32mclass\u001b[0m \u001b[0mStudent\u001b[0m\u001b[1;33m(\u001b[0m\u001b[0mc6\u001b[0m\u001b[1;33m.\u001b[0m\u001b[0mpeople\u001b[0m\u001b[1;33m)\u001b[0m\u001b[1;33m:\u001b[0m\u001b[1;33m\u001b[0m\u001b[0m\n\u001b[1;32m      3\u001b[0m     \u001b[1;32mpass\u001b[0m\u001b[1;33m\u001b[0m\u001b[0m\n\u001b[1;32m      4\u001b[0m \u001b[1;32mfrom\u001b[0m \u001b[0mc6\u001b[0m \u001b[1;32mimport\u001b[0m \u001b[0mPeople\u001b[0m\u001b[1;33m\u001b[0m\u001b[0m\n\u001b[1;32m      5\u001b[0m \u001b[1;32mclass\u001b[0m \u001b[0mStudent\u001b[0m\u001b[1;33m(\u001b[0m\u001b[0mPeople\u001b[0m\u001b[1;33m)\u001b[0m\u001b[1;33m:\u001b[0m\u001b[1;33m\u001b[0m\u001b[0m\n",
      "\u001b[0;31mImportError\u001b[0m: No module named 'c6'"
     ]
    }
   ],
   "source": [
    "import c6\n",
    "class Student(c6.people):\n",
    "    pass\n",
    "from c6 import People\n",
    "class Student(People):\n",
    "    pass\n"
   ]
  },
  {
   "cell_type": "code",
   "execution_count": 10,
   "metadata": {
    "collapsed": false
   },
   "outputs": [
    {
     "name": "stdout",
     "output_type": "stream",
     "text": [
      "1\n",
      "1\n",
      "aa\n",
      "18\n",
      "-------------\n",
      "aa\n"
     ]
    }
   ],
   "source": [
    "class Human():\n",
    "    def __init__(self,name,age):\n",
    "        self.name=name\n",
    "        self.age =age\n",
    "    def get_name(self\n",
    "                 ):\n",
    "        print(self.name)\n",
    "class Student(Human):\n",
    "    sum = 0\n",
    "\n",
    "    def __init__(self,name, age):\n",
    "        self.name = name\n",
    "        self.age = age\n",
    "        self.__score = 0\n",
    "        self.__class__.sum += 1\n",
    "    def do_homework(selfself):\n",
    "        print('english homework')\n",
    "\n",
    "student1=Student('aa','18')\n",
    "print(student1.sum)\n",
    "print(Student.sum)\n",
    "print(student1.name)\n",
    "print(student1.age)\n",
    "print('-------------')\n",
    "student1.get_name()#getname\n"
   ]
  },
  {
   "cell_type": "code",
   "execution_count": 11,
   "metadata": {
    "collapsed": false
   },
   "outputs": [
    {
     "ename": "TypeError",
     "evalue": "__init__() missing 1 required positional argument: 'age'",
     "output_type": "error",
     "traceback": [
      "\u001b[0;31m---------------------------------------------------------------------------\u001b[0m",
      "\u001b[0;31mTypeError\u001b[0m                                 Traceback (most recent call last)",
      "\u001b[0;32m<ipython-input-11-53b6ed735921>\u001b[0m in \u001b[0;36m<module>\u001b[0;34m()\u001b[0m\n\u001b[1;32m     20\u001b[0m         \u001b[0mprint\u001b[0m\u001b[1;33m(\u001b[0m\u001b[1;34m'english homework'\u001b[0m\u001b[1;33m)\u001b[0m\u001b[1;33m\u001b[0m\u001b[0m\n\u001b[1;32m     21\u001b[0m \u001b[1;33m\u001b[0m\u001b[0m\n\u001b[0;32m---> 22\u001b[0;31m \u001b[0mstudent1\u001b[0m\u001b[1;33m=\u001b[0m\u001b[0mStudent\u001b[0m\u001b[1;33m(\u001b[0m\u001b[1;34m'big school'\u001b[0m\u001b[1;33m,\u001b[0m\u001b[1;34m'aa'\u001b[0m\u001b[1;33m,\u001b[0m\u001b[1;36m8\u001b[0m\u001b[1;33m)\u001b[0m\u001b[1;33m\u001b[0m\u001b[0m\n\u001b[0m\u001b[1;32m     23\u001b[0m \u001b[0mprint\u001b[0m\u001b[1;33m(\u001b[0m\u001b[0mstudent1\u001b[0m\u001b[1;33m.\u001b[0m\u001b[0msum\u001b[0m\u001b[1;33m)\u001b[0m\u001b[1;33m\u001b[0m\u001b[0m\n\u001b[1;32m     24\u001b[0m \u001b[0mprint\u001b[0m\u001b[1;33m(\u001b[0m\u001b[0mStudent\u001b[0m\u001b[1;33m.\u001b[0m\u001b[0msum\u001b[0m\u001b[1;33m)\u001b[0m\u001b[1;33m\u001b[0m\u001b[0m\n",
      "\u001b[0;32m<ipython-input-11-53b6ed735921>\u001b[0m in \u001b[0;36m__init__\u001b[0;34m(self, school, name, age)\u001b[0m\n\u001b[1;32m     12\u001b[0m     \u001b[1;32mdef\u001b[0m \u001b[0m__init__\u001b[0m\u001b[1;33m(\u001b[0m\u001b[0mself\u001b[0m\u001b[1;33m,\u001b[0m\u001b[0mschool\u001b[0m\u001b[1;33m,\u001b[0m\u001b[0mname\u001b[0m\u001b[1;33m,\u001b[0m \u001b[0mage\u001b[0m\u001b[1;33m)\u001b[0m\u001b[1;33m:\u001b[0m\u001b[1;33m\u001b[0m\u001b[0m\n\u001b[1;32m     13\u001b[0m         \u001b[0mself\u001b[0m\u001b[1;33m.\u001b[0m\u001b[0mschool\u001b[0m \u001b[1;33m=\u001b[0m \u001b[0mschool\u001b[0m\u001b[1;33m\u001b[0m\u001b[0m\n\u001b[0;32m---> 14\u001b[0;31m         \u001b[0mHuman\u001b[0m\u001b[1;33m.\u001b[0m\u001b[0m__init__\u001b[0m\u001b[1;33m(\u001b[0m\u001b[0mname\u001b[0m\u001b[1;33m,\u001b[0m\u001b[0mage\u001b[0m\u001b[1;33m)\u001b[0m\u001b[1;31m#son call father\u001b[0m\u001b[1;33m\u001b[0m\u001b[0m\n\u001b[0m\u001b[1;32m     15\u001b[0m         \u001b[0mself\u001b[0m\u001b[1;33m.\u001b[0m\u001b[0mname\u001b[0m \u001b[1;33m=\u001b[0m \u001b[0mname\u001b[0m\u001b[1;33m\u001b[0m\u001b[0m\n\u001b[1;32m     16\u001b[0m         \u001b[0mself\u001b[0m\u001b[1;33m.\u001b[0m\u001b[0mage\u001b[0m \u001b[1;33m=\u001b[0m \u001b[0mage\u001b[0m\u001b[1;33m\u001b[0m\u001b[0m\n",
      "\u001b[0;31mTypeError\u001b[0m: __init__() missing 1 required positional argument: 'age'"
     ]
    }
   ],
   "source": [
    "class Human():#father from c6 import Human\n",
    "    sum=0\n",
    "    def __init__(self,name,age):\n",
    "        self.name=name\n",
    "        self.age =age\n",
    "    def get_name(self\n",
    "                 ):\n",
    "        print(self.name)\n",
    "class Student(Human):\n",
    "    sum = 0\n",
    "\n",
    "    def __init__(self,school,name, age):\n",
    "        self.school = school\n",
    "        Human.__init__(name,age)#son call father\n",
    "        self.name = name\n",
    "        self.age = age\n",
    "        self.__score = 0\n",
    "        self.__class__.sum += 1\n",
    "    def do_homework(selfself):\n",
    "        print('english homework')\n",
    "\n",
    "student1=Student('big school','aa',8)\n",
    "print(student1.sum)\n",
    "print(Student.sum)\n",
    "print(student1.name)\n",
    "print(student1.age)\n",
    "print('-------------')\n",
    "student1.get_name()#getname"
   ]
  },
  {
   "cell_type": "code",
   "execution_count": 12,
   "metadata": {
    "collapsed": false
   },
   "outputs": [
    {
     "name": "stdout",
     "output_type": "stream",
     "text": [
      "1\n",
      "1\n",
      "aa\n",
      "118\n",
      "-------------\n",
      "aa\n"
     ]
    }
   ],
   "source": [
    "class Human():#father from c6 import Human\n",
    "    sum=0\n",
    "    def __init__(self,name,age):\n",
    "        self.name=name\n",
    "        self.age =age\n",
    "    def get_name(self\n",
    "                 ):\n",
    "        print(self.name)\n",
    "class Student(Human):\n",
    "    sum = 0\n",
    "\n",
    "    def __init__(self,school,name, age):\n",
    "        self.school = school\n",
    "        Human.__init__(self,name,age)#son call father  类call 调用实例方法method \n",
    "        self.name = name\n",
    "        self.age = age\n",
    "        self.__score = 0\n",
    "        self.__class__.sum += 1\n",
    "    def do_homework(selfself):\n",
    "        print('english homework')\n",
    "\n",
    "student1=Student('big school','aa',118)\n",
    "print(student1.sum)\n",
    "print(Student.sum)\n",
    "print(student1.name)\n",
    "print(student1.age)\n",
    "print('-------------')\n",
    "student1.get_name()#getname"
   ]
  },
  {
   "cell_type": "code",
   "execution_count": 13,
   "metadata": {
    "collapsed": false
   },
   "outputs": [
    {
     "name": "stdout",
     "output_type": "stream",
     "text": [
      "english homework\n",
      "-------------\n",
      "1\n",
      "1\n",
      "aa\n",
      "118\n",
      "-------------\n",
      "aa\n"
     ]
    }
   ],
   "source": [
    "class Human():#father from c6 import Human\n",
    "    sum=0\n",
    "    def __init__(self,name,age):\n",
    "        self.name=name\n",
    "        self.age =age\n",
    "    def get_name(self):\n",
    "                 \n",
    "        print(self.name)\n",
    "    def do_homework(self):\n",
    "        print('english homew55ork')\n",
    "class Student(Human):\n",
    "    sum = 0\n",
    "\n",
    "    def __init__(self,school,name, age):\n",
    "        self.school = school\n",
    "        Human.__init__(self,name,age)#son call father #son call father \n",
    "        #类call 调用实例方法method \n",
    "        self.name = name\n",
    "        self.age = age\n",
    "        self.__score = 0\n",
    "        self.__class__.sum += 1\n",
    "    def do_homework(self):\n",
    "        print('english homework')\n",
    "\n",
    "student1=Student('big school','aa',118)\n",
    "Student.do_homework('')#student1)#麻烦  任意参数\n",
    "print('-------------')\n",
    "student1.do_homework#简单 \n",
    "print(student1.sum)\n",
    "print(Student.sum)\n",
    "print(student1.name)\n",
    "print(student1.age)\n",
    "print('-------------')\n",
    "student1.get_name()#getname"
   ]
  },
  {
   "cell_type": "code",
   "execution_count": 14,
   "metadata": {
    "collapsed": false
   },
   "outputs": [
    {
     "name": "stdout",
     "output_type": "stream",
     "text": [
      "english homework\n",
      "-------------\n",
      "english homework\n",
      "1\n",
      "1\n",
      "aa\n",
      "118\n",
      "-------------\n",
      "aa\n"
     ]
    }
   ],
   "source": [
    "class Human():#father from c6 import Human\n",
    "    sum=0\n",
    "    def __init__(self,name,age):\n",
    "        self.name=name\n",
    "        self.age =age\n",
    "    def get_name(self):\n",
    "                 \n",
    "        print(self.name)\n",
    "        \n",
    "class Student(Human):\n",
    "    sum = 0\n",
    "\n",
    "    def __init__(self,school,name, age):\n",
    "        self.school = school\n",
    "        #Human.__init__(self,name,age)#son call father\n",
    "        super(Student,self).__init__(name,age)\n",
    "        \n",
    "        self.name = name\n",
    "        self.age = age\n",
    "        self.__score = 0\n",
    "        self.__class__.sum += 1\n",
    "    def do_homework(self):\n",
    "        \n",
    "        print('english homework')\n",
    "\n",
    "student1=Student('big school','aa',118)\n",
    "Student.do_homework('')#student1)#麻烦  任意参数   子父类方法  same      子类方法  first run\n",
    "print('-------------')\n",
    "student1.do_homework()#简单 \n",
    "print(student1.sum)\n",
    "print(Student.sum)\n",
    "print(student1.name)\n",
    "print(student1.age)\n",
    "print('-------------')\n",
    "student1.get_name()#getname"
   ]
  },
  {
   "cell_type": "code",
   "execution_count": 15,
   "metadata": {
    "collapsed": false
   },
   "outputs": [
    {
     "name": "stdout",
     "output_type": "stream",
     "text": [
      "-----------------------\n",
      "aa\n",
      "18\n",
      "english homework552222222222222222\n",
      "english homework\n"
     ]
    }
   ],
   "source": [
    "class Human():#father from c6 import Human\n",
    "    #sum=0\n",
    "    def __init__(self,name,age):\n",
    "        self.name=name\n",
    "        self.age =age\n",
    "        \n",
    "    def get_name(self):               \n",
    "        print(self.name)\n",
    "        \n",
    "    def do_homework(self):\n",
    "        print('english homework552222222222222222')  \n",
    "        \n",
    "class Student(Human):\n",
    "    #sum = 0\n",
    "    def __init__(self,school,name, age):\n",
    "        self.school = school\n",
    "        super(Student,self).__init__(name,age)#不用到处\n",
    "     \n",
    "    def do_homework(self):\n",
    "        super(Student,self).do_homework()#调用父类方法\n",
    "        print('english homework')\n",
    "\n",
    "student1=Student('big school','aa',18)\n",
    "#Student.do_homework('')#student1)#麻烦  任意参数   子父类方法  same      子类方法  first run\n",
    "print('-----------------------')\n",
    "print(student1.name)\n",
    "print(student1.age)\n",
    "student1.do_homework()"
   ]
  },
  {
   "cell_type": "code",
   "execution_count": 16,
   "metadata": {
    "collapsed": false
   },
   "outputs": [
    {
     "name": "stdout",
     "output_type": "stream",
     "text": [
      "B.__init__\n",
      "A1.__init__\n",
      "<function A1.__init__ at 0x0000014BF0A2E8C8>\n",
      "-----------\n",
      "B.__init__\n"
     ]
    },
    {
     "ename": "NameError",
     "evalue": "name 'A' is not defined",
     "output_type": "error",
     "traceback": [
      "\u001b[0;31m---------------------------------------------------------------------------\u001b[0m",
      "\u001b[0;31mNameError\u001b[0m                                 Traceback (most recent call last)",
      "\u001b[0;32m<ipython-input-16-14cafd457b34>\u001b[0m in \u001b[0;36m<module>\u001b[0;34m()\u001b[0m\n\u001b[1;32m     22\u001b[0m \u001b[1;33m\u001b[0m\u001b[0m\n\u001b[1;32m     23\u001b[0m \u001b[1;31m#则还是调用了A的__init__方法\u001b[0m\u001b[1;33m\u001b[0m\u001b[1;33m\u001b[0m\u001b[0m\n\u001b[0;32m---> 24\u001b[0;31m \u001b[0mb\u001b[0m \u001b[1;33m=\u001b[0m \u001b[0mB\u001b[0m\u001b[1;33m(\u001b[0m\u001b[1;33m)\u001b[0m\u001b[1;33m\u001b[0m\u001b[0m\n\u001b[0m\u001b[1;32m     25\u001b[0m \u001b[0mprint\u001b[0m\u001b[1;33m(\u001b[0m\u001b[0mB\u001b[0m\u001b[1;33m.\u001b[0m\u001b[0m__init__\u001b[0m\u001b[1;33m)\u001b[0m\u001b[1;33m\u001b[0m\u001b[0m\n\u001b[1;32m     26\u001b[0m \u001b[0mprint\u001b[0m\u001b[1;33m(\u001b[0m\u001b[0mA\u001b[0m\u001b[1;33m.\u001b[0m\u001b[0m__init__\u001b[0m\u001b[1;33m)\u001b[0m\u001b[1;33m\u001b[0m\u001b[0m\n",
      "\u001b[0;32m<ipython-input-16-14cafd457b34>\u001b[0m in \u001b[0;36m__init__\u001b[0;34m(self)\u001b[0m\n\u001b[1;32m     19\u001b[0m     \u001b[1;32mdef\u001b[0m \u001b[0m__init__\u001b[0m\u001b[1;33m(\u001b[0m\u001b[0mself\u001b[0m\u001b[1;33m)\u001b[0m\u001b[1;33m:\u001b[0m\u001b[1;33m\u001b[0m\u001b[0m\n\u001b[1;32m     20\u001b[0m         \u001b[0mprint\u001b[0m\u001b[1;33m(\u001b[0m\u001b[1;34m'B.__init__'\u001b[0m\u001b[1;33m)\u001b[0m\u001b[1;33m\u001b[0m\u001b[0m\n\u001b[0;32m---> 21\u001b[0;31m         \u001b[0mA\u001b[0m\u001b[1;33m.\u001b[0m\u001b[0m__init__\u001b[0m\u001b[1;33m(\u001b[0m\u001b[0mself\u001b[0m\u001b[1;33m)\u001b[0m\u001b[1;33m\u001b[0m\u001b[0m\n\u001b[0m\u001b[1;32m     22\u001b[0m \u001b[1;33m\u001b[0m\u001b[0m\n\u001b[1;32m     23\u001b[0m \u001b[1;31m#则还是调用了A的__init__方法\u001b[0m\u001b[1;33m\u001b[0m\u001b[1;33m\u001b[0m\u001b[0m\n",
      "\u001b[0;31mNameError\u001b[0m: name 'A' is not defined"
     ]
    }
   ],
   "source": [
    "#定义新的父类A1\n",
    "class A1(object):\n",
    "    def __init__(self):\n",
    "        print('A1.__init__')\n",
    "\n",
    "#更改继承关系B->A改成B->A1\n",
    "class B(A1):\n",
    "    def __init__(self):\n",
    "        print('B.__init__')\n",
    "        A1.__init__(self)\n",
    "\n",
    "#能正确调用新的父类A1的__init__方法\n",
    "b = B()\n",
    "B.__init__\n",
    "print(A1.__init__)\n",
    "print('-----------')\n",
    "#假设忘了修改A.__init__(self)\n",
    "class B(A1):\n",
    "    def __init__(self):\n",
    "        print('B.__init__')\n",
    "        A.__init__(self)\n",
    "      \n",
    "#则还是调用了A的__init__方法\n",
    "b = B()\n",
    "print(B.__init__)\n",
    "print(A.__init__)\n",
    "#errorrrrrrrrrrrrrrrrrrrr\n",
    "\n"
   ]
  },
  {
   "cell_type": "code",
   "execution_count": 17,
   "metadata": {
    "collapsed": false
   },
   "outputs": [
    {
     "data": {
      "text/plain": [
       "True"
      ]
     },
     "execution_count": 17,
     "metadata": {},
     "output_type": "execute_result"
    }
   ],
   "source": [
    "a='c|c++\\java|python|javascript'\n",
    "a.index('python')>-1 #0,1#是否包含"
   ]
  },
  {
   "cell_type": "code",
   "execution_count": 18,
   "metadata": {
    "collapsed": false
   },
   "outputs": [
    {
     "data": {
      "text/plain": [
       "True"
      ]
     },
     "execution_count": 18,
     "metadata": {},
     "output_type": "execute_result"
    }
   ],
   "source": [
    "'python'in a"
   ]
  },
  {
   "cell_type": "code",
   "execution_count": 19,
   "metadata": {
    "collapsed": false
   },
   "outputs": [
    {
     "data": {
      "text/plain": [
       "['python']"
      ]
     },
     "execution_count": 19,
     "metadata": {},
     "output_type": "execute_result"
    }
   ],
   "source": [
    "import re \n",
    "a='c|c++\\java|python|javascript'\n",
    "re.findall('python',a)"
   ]
  },
  {
   "cell_type": "code",
   "execution_count": 20,
   "metadata": {
    "collapsed": false
   },
   "outputs": [
    {
     "name": "stdout",
     "output_type": "stream",
     "text": [
      "包含pthon\n"
     ]
    }
   ],
   "source": [
    "r=re.findall('python',a)\n",
    "if len(r)!=0:\n",
    "    print('包含pthon')"
   ]
  },
  {
   "cell_type": "code",
   "execution_count": 21,
   "metadata": {
    "collapsed": false
   },
   "outputs": [
    {
     "name": "stdout",
     "output_type": "stream",
     "text": [
      "no\n"
     ]
    }
   ],
   "source": [
    "r=re.findall('phon',a)\n",
    "if len(r)!=0:\n",
    "    print('包含pthon')\n",
    "else:\n",
    "    print('no')"
   ]
  },
  {
   "cell_type": "code",
   "execution_count": 22,
   "metadata": {
    "collapsed": false
   },
   "outputs": [
    {
     "data": {
      "text/plain": [
       "['on']"
      ]
     },
     "execution_count": 22,
     "metadata": {},
     "output_type": "execute_result"
    }
   ],
   "source": [
    "import re \n",
    "a='c|c++\\java|python|javascript'\n",
    "re.findall('on',a)\n"
   ]
  },
  {
   "cell_type": "code",
   "execution_count": 23,
   "metadata": {
    "collapsed": false
   },
   "outputs": [
    {
     "data": {
      "text/plain": [
       "['n']"
      ]
     },
     "execution_count": 23,
     "metadata": {},
     "output_type": "execute_result"
    }
   ],
   "source": [
    "re.findall('n',a)"
   ]
  },
  {
   "cell_type": "code",
   "execution_count": 24,
   "metadata": {
    "collapsed": false
   },
   "outputs": [
    {
     "data": {
      "text/plain": [
       "['1', '3', '7']"
      ]
     },
     "execution_count": 24,
     "metadata": {},
     "output_type": "execute_result"
    }
   ],
   "source": [
    "import re \n",
    "a='c|c++1\\java|pytho3n|javasc7ript'\n",
    "re.findall('\\d',a)#no.字符序列\n",
    "#’pythh' 普通字符'\\d'元字符"
   ]
  },
  {
   "cell_type": "code",
   "execution_count": 25,
   "metadata": {
    "collapsed": false
   },
   "outputs": [
    {
     "data": {
      "text/plain": [
       "['c',\n",
       " '|',\n",
       " 'c',\n",
       " '+',\n",
       " '+',\n",
       " '\\\\',\n",
       " 'j',\n",
       " 'a',\n",
       " 'v',\n",
       " 'a',\n",
       " '|',\n",
       " 'p',\n",
       " 'y',\n",
       " 't',\n",
       " 'h',\n",
       " 'o',\n",
       " 'n',\n",
       " '|',\n",
       " 'j',\n",
       " 'a',\n",
       " 'v',\n",
       " 'a',\n",
       " 's',\n",
       " 'c',\n",
       " 'r',\n",
       " 'i',\n",
       " 'p',\n",
       " 't']"
      ]
     },
     "execution_count": 25,
     "metadata": {},
     "output_type": "execute_result"
    }
   ],
   "source": [
    "re.findall('\\D',a)#not no."
   ]
  },
  {
   "cell_type": "code",
   "execution_count": 26,
   "metadata": {
    "collapsed": false
   },
   "outputs": [
    {
     "data": {
      "text/plain": [
       "['acc']"
      ]
     },
     "execution_count": 26,
     "metadata": {},
     "output_type": "execute_result"
    }
   ],
   "source": [
    "import re \n",
    "a='abc,acc,advc,ahc,afc'\n",
    "re.findall('acc',a)"
   ]
  },
  {
   "cell_type": "code",
   "execution_count": 27,
   "metadata": {
    "collapsed": false
   },
   "outputs": [
    {
     "data": {
      "text/plain": [
       "['acc', 'afc']"
      ]
     },
     "execution_count": 27,
     "metadata": {},
     "output_type": "execute_result"
    }
   ],
   "source": [
    "import re \n",
    "a='abc,acc,advc,ahc,afc'\n",
    "re.findall('a[cf]c',a)"
   ]
  },
  {
   "cell_type": "code",
   "execution_count": 28,
   "metadata": {
    "collapsed": false
   },
   "outputs": [
    {
     "data": {
      "text/plain": [
       "['acc', 'adc', 'afc']"
      ]
     },
     "execution_count": 28,
     "metadata": {},
     "output_type": "execute_result"
    }
   ],
   "source": [
    "import re \n",
    "a='abc,acc,adc,ahc,afc'\n",
    "re.findall('a[cfd]c',a)#middle c .d. f"
   ]
  },
  {
   "cell_type": "code",
   "execution_count": 29,
   "metadata": {
    "collapsed": false
   },
   "outputs": [
    {
     "data": {
      "text/plain": [
       "['abc', 'ahc']"
      ]
     },
     "execution_count": 29,
     "metadata": {},
     "output_type": "execute_result"
    }
   ],
   "source": [
    "import re #字符ji集\n",
    "a='abc,acc,adc,ahc,afc'\n",
    "re.findall('a[^cfd]c',a)#not c f d "
   ]
  },
  {
   "cell_type": "code",
   "execution_count": 30,
   "metadata": {
    "collapsed": false
   },
   "outputs": [
    {
     "data": {
      "text/plain": [
       "['2', '3', '5']"
      ]
     },
     "execution_count": 30,
     "metadata": {},
     "output_type": "execute_result"
    }
   ],
   "source": [
    "#概括字符ji集\n",
    "import re \n",
    "a='ab2c,acc,a3dc,ah5c,afc'\n",
    "re.findall('[0-9]',a)"
   ]
  },
  {
   "cell_type": "code",
   "execution_count": 31,
   "metadata": {
    "collapsed": false
   },
   "outputs": [
    {
     "data": {
      "text/plain": [
       "['a',\n",
       " 'b',\n",
       " 'c',\n",
       " ',',\n",
       " 'a',\n",
       " 'c',\n",
       " 'c',\n",
       " ',',\n",
       " 'a',\n",
       " 'd',\n",
       " 'c',\n",
       " ',',\n",
       " 'a',\n",
       " 'h',\n",
       " 'c',\n",
       " ',',\n",
       " 'a',\n",
       " 'f',\n",
       " 'c']"
      ]
     },
     "execution_count": 31,
     "metadata": {},
     "output_type": "execute_result"
    }
   ],
   "source": [
    "a='ab2c,acc,a3dc,ah5c,afc'\n",
    "re.findall('[^0-9]',a)"
   ]
  },
  {
   "cell_type": "code",
   "execution_count": 32,
   "metadata": {
    "collapsed": false
   },
   "outputs": [
    {
     "data": {
      "text/plain": [
       "['a',\n",
       " 'b',\n",
       " '2',\n",
       " 'c',\n",
       " 'a',\n",
       " 'c',\n",
       " 'c',\n",
       " 'a',\n",
       " '3',\n",
       " 'd',\n",
       " 'c',\n",
       " 'a',\n",
       " 'h',\n",
       " '5',\n",
       " 'c',\n",
       " 'a',\n",
       " 'f',\n",
       " 'c',\n",
       " 'h']"
      ]
     },
     "execution_count": 32,
     "metadata": {},
     "output_type": "execute_result"
    }
   ],
   "source": [
    "a='ab2c,acc,a3dc,ah5c,a&fch'\n",
    "re.findall('\\w',a)#no output &   \\w单词字符"
   ]
  },
  {
   "cell_type": "code",
   "execution_count": 33,
   "metadata": {
    "collapsed": false
   },
   "outputs": [
    {
     "data": {
      "text/plain": [
       "['a',\n",
       " 'b',\n",
       " '2',\n",
       " 'c',\n",
       " 'a',\n",
       " 'c',\n",
       " 'c',\n",
       " 'a',\n",
       " '3',\n",
       " 'd',\n",
       " 'c',\n",
       " 'a',\n",
       " 'h',\n",
       " '5',\n",
       " 'c',\n",
       " 'a',\n",
       " 'f',\n",
       " 'c']"
      ]
     },
     "execution_count": 33,
     "metadata": {},
     "output_type": "execute_result"
    }
   ],
   "source": [
    "a='ab2c,acc,a3dc,ah5c,a&fc'\n",
    "re.findall('[A-Za-z0-9]',a)"
   ]
  },
  {
   "cell_type": "code",
   "execution_count": 34,
   "metadata": {
    "collapsed": false
   },
   "outputs": [
    {
     "data": {
      "text/plain": [
       "[',', ',', ',', ',', '&', '\\n']"
      ]
     },
     "execution_count": 34,
     "metadata": {},
     "output_type": "execute_result"
    }
   ],
   "source": [
    "a='ab2c,acc,a3dc,ah5c,a&fc\\nh'\n",
    "re.findall('\\W',a)"
   ]
  },
  {
   "cell_type": "code",
   "execution_count": 35,
   "metadata": {
    "collapsed": false
   },
   "outputs": [
    {
     "data": {
      "text/plain": [
       "['acc']"
      ]
     },
     "execution_count": 35,
     "metadata": {},
     "output_type": "execute_result"
    }
   ],
   "source": [
    "a='ab2c,acc,a3dc,ah5c,a&fc\\nh'\n",
    "re.findall('[a-z][a-z][a-z]',a)"
   ]
  },
  {
   "cell_type": "code",
   "execution_count": 36,
   "metadata": {
    "collapsed": false
   },
   "outputs": [
    {
     "data": {
      "text/plain": [
       "['cac', 'cca', 'dca']"
      ]
     },
     "execution_count": 36,
     "metadata": {},
     "output_type": "execute_result"
    }
   ],
   "source": [
    "a='ab2caccca3dcah5ca&fc\\nh'\n",
    "re.findall('[a-z]{3}',a)"
   ]
  },
  {
   "cell_type": "code",
   "execution_count": 37,
   "metadata": {
    "collapsed": false
   },
   "outputs": [
    {
     "data": {
      "text/plain": [
       "['caccca', 'dcah']"
      ]
     },
     "execution_count": 37,
     "metadata": {},
     "output_type": "execute_result"
    }
   ],
   "source": [
    "a='ab2caccca3dcah5ca&fc\\nh'\n",
    "re.findall('[a-z]{3,6}',a)#3-6"
   ]
  },
  {
   "cell_type": "code",
   "execution_count": 38,
   "metadata": {
    "collapsed": false
   },
   "outputs": [
    {
     "data": {
      "text/plain": [
       "['abc', 'ccc', 'dca', 'fcp']"
      ]
     },
     "execution_count": 38,
     "metadata": {},
     "output_type": "execute_result"
    }
   ],
   "source": [
    "#默认贪婪 匹配more更多    加？是非贪婪\n",
    "a='abca ccca3dcah5ca&fcpnh'\n",
    "re.findall('[a-z]{3,6}?',a)#3-6"
   ]
  },
  {
   "cell_type": "code",
   "execution_count": 39,
   "metadata": {
    "collapsed": false
   },
   "outputs": [
    {
     "data": {
      "text/plain": [
       "['python', 'pythonn']"
      ]
     },
     "execution_count": 39,
     "metadata": {},
     "output_type": "execute_result"
    }
   ],
   "source": [
    "#              *   is 0--n times\n",
    "import re \n",
    "a='pythonc|c++\\java|pythonn|javascript'\n",
    "re.findall('python*',a)"
   ]
  },
  {
   "cell_type": "code",
   "execution_count": 40,
   "metadata": {
    "collapsed": false
   },
   "outputs": [
    {
     "data": {
      "text/plain": [
       "['python', 'pythonn']"
      ]
     },
     "execution_count": 40,
     "metadata": {},
     "output_type": "execute_result"
    }
   ],
   "source": [
    "#                    + is 1--n times\n",
    "a='pythonc|c++\\java|pythonn|javascript'\n",
    "re.findall('python+',a)"
   ]
  },
  {
   "cell_type": "code",
   "execution_count": 41,
   "metadata": {
    "collapsed": false
   },
   "outputs": [
    {
     "data": {
      "text/plain": [
       "['python', 'python']"
      ]
     },
     "execution_count": 41,
     "metadata": {},
     "output_type": "execute_result"
    }
   ],
   "source": [
    "#         ? is # 0--1 times\n",
    "a='pythonc|c++\\java|pythonn|javascript'\n",
    "re.findall('python?',a)# 0--1 times"
   ]
  },
  {
   "cell_type": "code",
   "execution_count": 42,
   "metadata": {
    "collapsed": false
   },
   "outputs": [
    {
     "data": {
      "text/plain": [
       "['python', 'pythonn']"
      ]
     },
     "execution_count": 42,
     "metadata": {},
     "output_type": "execute_result"
    }
   ],
   "source": [
    "a='pythonc|c++\\java|pythonn|javascript'\n",
    "re.findall('python{1,2}',a)# 1--2 times"
   ]
  },
  {
   "cell_type": "code",
   "execution_count": 43,
   "metadata": {
    "collapsed": false
   },
   "outputs": [
    {
     "data": {
      "text/plain": [
       "['10000000', '00001']"
      ]
     },
     "execution_count": 43,
     "metadata": {},
     "output_type": "execute_result"
    }
   ],
   "source": [
    "#边界匹配\n",
    "qq='1000000000001'\n",
    "r=re.findall('\\d{4,8}',qq)#4-8   ^ is start   $ is end\n",
    "r\n"
   ]
  },
  {
   "cell_type": "code",
   "execution_count": 44,
   "metadata": {
    "collapsed": false
   },
   "outputs": [
    {
     "data": {
      "text/plain": [
       "[]"
      ]
     },
     "execution_count": 44,
     "metadata": {},
     "output_type": "execute_result"
    }
   ],
   "source": [
    "#边界匹配\n",
    "qq='1000000000001'\n",
    "r=re.findall('^000',qq)#4-8   ^ is start   $ is end\n",
    "r\n"
   ]
  },
  {
   "cell_type": "code",
   "execution_count": 45,
   "metadata": {
    "collapsed": false
   },
   "outputs": [
    {
     "data": {
      "text/plain": [
       "[]"
      ]
     },
     "execution_count": 45,
     "metadata": {},
     "output_type": "execute_result"
    }
   ],
   "source": [
    "qq='1000000000001'\n",
    "r=re.findall('000$',qq)#4-8   ^ is start   $ is end\n",
    "r"
   ]
  },
  {
   "cell_type": "code",
   "execution_count": 46,
   "metadata": {
    "collapsed": false
   },
   "outputs": [
    {
     "data": {
      "text/plain": [
       "['python']"
      ]
     },
     "execution_count": 46,
     "metadata": {},
     "output_type": "execute_result"
    }
   ],
   "source": [
    "#组  ()is and    {} is or \n",
    "a='pythonpythonpythonpython'\n",
    "r=re.findall('(python){3}',a)\n",
    "r"
   ]
  },
  {
   "cell_type": "code",
   "execution_count": 47,
   "metadata": {
    "collapsed": false
   },
   "outputs": [
    {
     "data": {
      "text/plain": [
       "[]"
      ]
     },
     "execution_count": 47,
     "metadata": {},
     "output_type": "execute_result"
    }
   ],
   "source": [
    "a='pythonpythonpythonpython'\n",
    "r=re.findall('(python){3}(js)',a)\n",
    "r"
   ]
  },
  {
   "cell_type": "code",
   "execution_count": 48,
   "metadata": {
    "collapsed": false
   },
   "outputs": [
    {
     "data": {
      "text/plain": [
       "['C#\\n']"
      ]
     },
     "execution_count": 48,
     "metadata": {},
     "output_type": "execute_result"
    }
   ],
   "source": [
    "lanuage='PythonC#\\nJavaPHP'\n",
    "r =re.findall('c#.{1}',lanuage,re.I|re.S)#忽略小写  | is and \n",
    "#    .匹配除\\n的其他所有字符\n",
    "r"
   ]
  },
  {
   "cell_type": "code",
   "execution_count": 49,
   "metadata": {
    "collapsed": false
   },
   "outputs": [
    {
     "data": {
      "text/plain": [
       "'PythonGO\\nJavaPHPGO'"
      ]
     },
     "execution_count": 49,
     "metadata": {},
     "output_type": "execute_result"
    }
   ],
   "source": [
    "lanuage='PythonC#\\nJavaPHPC#'\n",
    "r =re.sub('C#','GO',lanuage)#替换\n",
    "r"
   ]
  },
  {
   "cell_type": "code",
   "execution_count": 50,
   "metadata": {
    "collapsed": false
   },
   "outputs": [
    {
     "data": {
      "text/plain": [
       "'PythonGO\\nJavaPHPGO'"
      ]
     },
     "execution_count": 50,
     "metadata": {},
     "output_type": "execute_result"
    }
   ],
   "source": [
    "lanuage='PythonC#\\nJavaPHPC#'\n",
    "r =re.sub('C#','GO',lanuage,0)##all替换\n",
    "r"
   ]
  },
  {
   "cell_type": "code",
   "execution_count": 51,
   "metadata": {
    "collapsed": false
   },
   "outputs": [
    {
     "data": {
      "text/plain": [
       "'PythonGO\\nJavaPHPC#'"
      ]
     },
     "execution_count": 51,
     "metadata": {},
     "output_type": "execute_result"
    }
   ],
   "source": [
    "lanuage='PythonC#\\nJavaPHPC#'\n",
    "r =re.sub('C#','GO',lanuage,1)##替换1 次\n",
    "r"
   ]
  },
  {
   "cell_type": "code",
   "execution_count": 52,
   "metadata": {
    "collapsed": false
   },
   "outputs": [
    {
     "data": {
      "text/plain": [
       "'PythonGO\\nJavaPHPGO'"
      ]
     },
     "execution_count": 52,
     "metadata": {},
     "output_type": "execute_result"
    }
   ],
   "source": [
    "lanuage='PythonC#\\nJavaPHPC#'\n",
    "lanuage = lanuage.replace('C#','GO')#替换1\n",
    "lanuage"
   ]
  },
  {
   "cell_type": "code",
   "execution_count": 53,
   "metadata": {
    "collapsed": false
   },
   "outputs": [
    {
     "name": "stdout",
     "output_type": "stream",
     "text": [
      "pythonc|c++\\java|pythonn|javascript\n"
     ]
    }
   ],
   "source": [
    "import re \n",
    "a='pythonc|c++\\java|pythonn|javascript'\n",
    "def convert(vallue):\n",
    "    pass\n",
    "r=re.sub('C#',convert,a)\n",
    "print(r)    #C# 消失"
   ]
  },
  {
   "cell_type": "code",
   "execution_count": 54,
   "metadata": {
    "collapsed": false
   },
   "outputs": [
    {
     "data": {
      "text/plain": [
       "'pythonc|c++\\\\java|pythonn|javascript'"
      ]
     },
     "execution_count": 54,
     "metadata": {},
     "output_type": "execute_result"
    }
   ],
   "source": [
    "import re \n",
    "a='pythonc|c++\\java|pythonn|javascript'\n",
    "def convert(vallue):\n",
    "    return '!!'+value +'!!'\n",
    "r=re.sub('C#',convert,a)\n",
    "r"
   ]
  },
  {
   "cell_type": "code",
   "execution_count": 55,
   "metadata": {
    "collapsed": false
   },
   "outputs": [
    {
     "name": "stdout",
     "output_type": "stream",
     "text": [
      "<_sre.SRE_Match object; span=(7, 9), match='C#'>\n",
      "<_sre.SRE_Match object; span=(26, 28), match='C#'>\n"
     ]
    },
    {
     "data": {
      "text/plain": [
       "'pythonc|c++\\\\java|pythonn|javascript'"
      ]
     },
     "execution_count": 55,
     "metadata": {},
     "output_type": "execute_result"
    }
   ],
   "source": [
    "import re \n",
    "a='pythoncC#|c++\\java|pythonnC#|javascript'\n",
    "def convert(value):\n",
    "    print(value)\n",
    "r=re.sub('C#',convert,a)\n",
    "r                #object  对象   span  匹配位置7，9 is 8-9  c#"
   ]
  },
  {
   "cell_type": "code",
   "execution_count": 56,
   "metadata": {
    "collapsed": false
   },
   "outputs": [
    {
     "data": {
      "text/plain": [
       "'pythonc    !!C#!!   |c++\\\\java|pythonn    !!C#!!   |javascript'"
      ]
     },
     "execution_count": 56,
     "metadata": {},
     "output_type": "execute_result"
    }
   ],
   "source": [
    "import re \n",
    "a='pythoncC#|c++\\java|pythonnC#|javascript'\n",
    "def convert(value):\n",
    "    matched = value.group()\n",
    "    #print(value)\n",
    "    return '    !!' +  matched +   '!!   '\n",
    "r=re.sub('C#',convert,a)#  函数当作参数  \n",
    "r          "
   ]
  },
  {
   "cell_type": "code",
   "execution_count": 57,
   "metadata": {
    "collapsed": false
   },
   "outputs": [
    {
     "ename": "SyntaxError",
     "evalue": "invalid syntax (<ipython-input-57-09d7519bd264>, line 8)",
     "output_type": "error",
     "traceback": [
      "\u001b[0;36m  File \u001b[0;32m\"<ipython-input-57-09d7519bd264>\"\u001b[0;36m, line \u001b[0;32m8\u001b[0m\n\u001b[0;31m    reurn 0\u001b[0m\n\u001b[0m          ^\u001b[0m\n\u001b[0;31mSyntaxError\u001b[0m\u001b[0;31m:\u001b[0m invalid syntax\n"
     ]
    }
   ],
   "source": [
    "import re \n",
    "a='aasaassa15454321321635578778777777777'#is  str \n",
    "def convert(value):\n",
    "    matched = value.group()\n",
    "    if matched >=6:\n",
    "        return    9\n",
    "    else:\n",
    "        reurn 0\n",
    "r=re.sub('\\d',convert,a)#  函数当作参数  \n",
    "r       "
   ]
  },
  {
   "cell_type": "code",
   "execution_count": 58,
   "metadata": {
    "collapsed": false
   },
   "outputs": [
    {
     "ename": "SyntaxError",
     "evalue": "invalid syntax (<ipython-input-58-13cc96a647cb>, line 8)",
     "output_type": "error",
     "traceback": [
      "\u001b[0;36m  File \u001b[0;32m\"<ipython-input-58-13cc96a647cb>\"\u001b[0;36m, line \u001b[0;32m8\u001b[0m\n\u001b[0;31m    reurn 0\u001b[0m\n\u001b[0m          ^\u001b[0m\n\u001b[0;31mSyntaxError\u001b[0m\u001b[0;31m:\u001b[0m invalid syntax\n"
     ]
    }
   ],
   "source": [
    "import re \n",
    "a='aasaassa15454321321635578778777777777'#is  str \n",
    "def convert(value):\n",
    "    matched = value.group()\n",
    "    if int(matched) >=6:\n",
    "        return    9\n",
    "    else:\n",
    "        reurn 0\n",
    "r=re.sub('\\d',convert,a)#  函数当作参数  \n",
    "r  "
   ]
  },
  {
   "cell_type": "code",
   "execution_count": 59,
   "metadata": {
    "collapsed": false
   },
   "outputs": [
    {
     "data": {
      "text/plain": [
       "'00000000000900099999999999999'"
      ]
     },
     "execution_count": 59,
     "metadata": {},
     "output_type": "execute_result"
    }
   ],
   "source": [
    "import re \n",
    "s='15454321321635578778777777777'#is  str \n",
    "def convert(value):\n",
    "    matched = value.group()\n",
    "    if int(matched) >=6:\n",
    "        return'9'\n",
    "    else:\n",
    "        return'0'\n",
    "r=re.sub('\\d',convert,s)#  函数当作参数  \n",
    "r"
   ]
  },
  {
   "cell_type": "code",
   "execution_count": 60,
   "metadata": {
    "collapsed": false
   },
   "outputs": [
    {
     "name": "stdout",
     "output_type": "stream",
     "text": [
      "None\n",
      "<_sre.SRE_Match object; span=(1, 2), match='8'>\n"
     ]
    }
   ],
   "source": [
    "import re \n",
    "s='a8355441655efsd55'\n",
    "r=re.match('\\d',s)\n",
    "print(r)#meet a    not   return none    匹配success  then stop\n",
    "\n",
    "r1 =re.search('\\d',s)#meet 8    not   return span \n",
    "print(r1)\n",
    "\n",
    "r2= re.findall('\\d',s)\n"
   ]
  },
  {
   "cell_type": "code",
   "execution_count": 61,
   "metadata": {
    "collapsed": false
   },
   "outputs": [
    {
     "name": "stdout",
     "output_type": "stream",
     "text": [
      "<_sre.SRE_Match object; span=(0, 1), match='8'>\n",
      "<_sre.SRE_Match object; span=(0, 1), match='8'>\n"
     ]
    }
   ],
   "source": [
    "import re \n",
    "s='8355441655efsd55'\n",
    "r=re.match('\\d',s)#匹配success  then stop\n",
    "print(r)#meet a    not   return none\n",
    "\n",
    "r1 =re.search('\\d',s)#meet 8    not   return span \n",
    "print(r1)\n"
   ]
  },
  {
   "cell_type": "code",
   "execution_count": 64,
   "metadata": {
    "collapsed": false
   },
   "outputs": [
    {
     "name": "stdout",
     "output_type": "stream",
     "text": [
      "<_sre.SRE_Match object; span=(0, 1), match='8'>\n",
      "8\n",
      "['8', '3', '5', '5', '4', '4', '1', '6', '5', '5', '5', '5']\n"
     ]
    }
   ],
   "source": [
    "import re \n",
    "s='8355441655efsd55'\n",
    "r=re.match('\\d',s)\n",
    "print(r)#meet a    not   return none\n",
    "\n",
    "r1 =re.search('\\d',s)#meet 8    not   return span \n",
    "print(r1.group())#return 匹配结果8  匹配success  then stop\n",
    "\n",
    "r2= re.findall('\\d',s)\n",
    "print(r2)"
   ]
  },
  {
   "cell_type": "code",
   "execution_count": 65,
   "metadata": {
    "collapsed": false
   },
   "outputs": [
    {
     "ename": "AttributeError",
     "evalue": "'NoneType' object has no attribute 'group'",
     "output_type": "error",
     "traceback": [
      "\u001b[0;31m---------------------------------------------------------------------------\u001b[0m",
      "\u001b[0;31mAttributeError\u001b[0m                            Traceback (most recent call last)",
      "\u001b[0;32m<ipython-input-65-ba1679470622>\u001b[0m in \u001b[0;36m<module>\u001b[0;34m()\u001b[0m\n\u001b[1;32m      2\u001b[0m \u001b[0ms\u001b[0m\u001b[1;33m=\u001b[0m\u001b[1;34m'life is short ,i use python'\u001b[0m\u001b[1;33m\u001b[0m\u001b[0m\n\u001b[1;32m      3\u001b[0m \u001b[0mr\u001b[0m\u001b[1;33m=\u001b[0m\u001b[0mre\u001b[0m\u001b[1;33m.\u001b[0m\u001b[0msearch\u001b[0m\u001b[1;33m(\u001b[0m\u001b[1;34m'life\\w*python'\u001b[0m\u001b[1;33m,\u001b[0m\u001b[0ms\u001b[0m\u001b[1;33m)\u001b[0m\u001b[1;33m\u001b[0m\u001b[0m\n\u001b[0;32m----> 4\u001b[0;31m \u001b[0mr\u001b[0m\u001b[1;33m.\u001b[0m\u001b[0mgroup\u001b[0m\u001b[1;33m(\u001b[0m\u001b[1;33m)\u001b[0m\u001b[1;33m\u001b[0m\u001b[0m\n\u001b[0m",
      "\u001b[0;31mAttributeError\u001b[0m: 'NoneType' object has no attribute 'group'"
     ]
    }
   ],
   "source": [
    "import re \n",
    "s='life is short ,i use python'\n",
    "r=re.search('life\\w*python',s)#  \\w  不能搞空格\n",
    "r.group()"
   ]
  },
  {
   "cell_type": "code",
   "execution_count": 66,
   "metadata": {
    "collapsed": false
   },
   "outputs": [
    {
     "data": {
      "text/plain": [
       "'life is short ,i use python'"
      ]
     },
     "execution_count": 66,
     "metadata": {},
     "output_type": "execute_result"
    }
   ],
   "source": [
    "import re \n",
    "s='life is short ,i use python'\n",
    "r=re.search('life.*python',s)\n",
    "r.group()"
   ]
  },
  {
   "cell_type": "code",
   "execution_count": 68,
   "metadata": {
    "collapsed": false
   },
   "outputs": [
    {
     "data": {
      "text/plain": [
       "'life is short ,i use python'"
      ]
     },
     "execution_count": 68,
     "metadata": {},
     "output_type": "execute_result"
    }
   ],
   "source": [
    "import re \n",
    "s='life is short ,i use python'\n",
    "r=re.search('(life.*python)',s)\n",
    "r.group(0)#0 iS 默认 "
   ]
  },
  {
   "cell_type": "code",
   "execution_count": 70,
   "metadata": {
    "collapsed": false
   },
   "outputs": [
    {
     "data": {
      "text/plain": [
       "' is short ,i use '"
      ]
     },
     "execution_count": 70,
     "metadata": {},
     "output_type": "execute_result"
    }
   ],
   "source": [
    "import re \n",
    "s='life is short ,i use python'\n",
    "r=re.search('life(.*)python',s)\n",
    "r.group(1)#0 iS 默认 "
   ]
  },
  {
   "cell_type": "code",
   "execution_count": 71,
   "metadata": {
    "collapsed": false
   },
   "outputs": [
    {
     "data": {
      "text/plain": [
       "['life is short ,i use python']"
      ]
     },
     "execution_count": 71,
     "metadata": {},
     "output_type": "execute_result"
    }
   ],
   "source": [
    "import re \n",
    "s='life is short ,i use python'\n",
    "r=re.findall('(life.*python)',s)\n",
    "r"
   ]
  },
  {
   "cell_type": "code",
   "execution_count": 72,
   "metadata": {
    "collapsed": false
   },
   "outputs": [
    {
     "data": {
      "text/plain": [
       "[' is short ,i use ']"
      ]
     },
     "execution_count": 72,
     "metadata": {},
     "output_type": "execute_result"
    }
   ],
   "source": [
    "import re \n",
    "s='life is short ,i use python'\n",
    "r=re.findall('life(.*)python',s)\n",
    "r"
   ]
  },
  {
   "cell_type": "code",
   "execution_count": 73,
   "metadata": {
    "collapsed": false
   },
   "outputs": [
    {
     "data": {
      "text/plain": [
       "[]"
      ]
     },
     "execution_count": 73,
     "metadata": {},
     "output_type": "execute_result"
    }
   ],
   "source": [
    "import re \n",
    "s='life is short ,i use python'\n",
    "r=re.findall('life(.*)python(.*)python',s)\n",
    "r"
   ]
  },
  {
   "cell_type": "code",
   "execution_count": 82,
   "metadata": {
    "collapsed": false
   },
   "outputs": [
    {
     "name": "stdout",
     "output_type": "stream",
     "text": [
      "(' is short ,i use ', ',i love ')\n",
      " is short ,i use \n",
      ",i love \n",
      "life is short ,i use python,i love python\n",
      "('life is short ,i use python,i love python', ' is short ,i use ', ',i love ')\n"
     ]
    }
   ],
   "source": [
    "import re \n",
    "s='life is short ,i use python,i love python '\n",
    "r=re.search('life(.*)python(.*)python',s)\n",
    "print(r.groups())\n",
    "print(r.group(1))\n",
    "print(r.group(2))\n",
    "print(r.group(0))\n",
    "print(r.group(0,1,2))"
   ]
  },
  {
   "cell_type": "code",
   "execution_count": null,
   "metadata": {
    "collapsed": true
   },
   "outputs": [],
   "source": [
    "json  数据格式{\"name\":\"qiyue\"}\n"
   ]
  },
  {
   "cell_type": "code",
   "execution_count": 93,
   "metadata": {
    "collapsed": false
   },
   "outputs": [
    {
     "data": {
      "text/plain": [
       "dict"
      ]
     },
     "execution_count": 93,
     "metadata": {},
     "output_type": "execute_result"
    }
   ],
   "source": [
    "import json \n",
    "json_str = '{\"name\":\"qiyue\",\"age\":\"9\"}'\n",
    "student=json.loads(json_str)#序列\n",
    "type(student)"
   ]
  },
  {
   "cell_type": "code",
   "execution_count": 94,
   "metadata": {
    "collapsed": false
   },
   "outputs": [
    {
     "data": {
      "text/plain": [
       "{'age': '9', 'name': 'qiyue'}"
      ]
     },
     "execution_count": 94,
     "metadata": {},
     "output_type": "execute_result"
    }
   ],
   "source": [
    "student"
   ]
  },
  {
   "cell_type": "code",
   "execution_count": 95,
   "metadata": {
    "collapsed": false
   },
   "outputs": [
    {
     "data": {
      "text/plain": [
       "'qiyue'"
      ]
     },
     "execution_count": 95,
     "metadata": {},
     "output_type": "execute_result"
    }
   ],
   "source": [
    "student['name']"
   ]
  },
  {
   "cell_type": "code",
   "execution_count": 96,
   "metadata": {
    "collapsed": false
   },
   "outputs": [
    {
     "data": {
      "text/plain": [
       "'9'"
      ]
     },
     "execution_count": 96,
     "metadata": {},
     "output_type": "execute_result"
    }
   ],
   "source": [
    "student['age']"
   ]
  },
  {
   "cell_type": "code",
   "execution_count": 102,
   "metadata": {
    "collapsed": false
   },
   "outputs": [
    {
     "data": {
      "text/plain": [
       "str"
      ]
     },
     "execution_count": 102,
     "metadata": {},
     "output_type": "execute_result"
    }
   ],
   "source": [
    "student=[{'name':'qiyue','age':18,'flag':False},\n",
    "         {'name':'aiyue','age':19}]\n",
    "json_str =json.dumps(student)#反序列\n",
    "type(json_str)\n"
   ]
  },
  {
   "cell_type": "code",
   "execution_count": 103,
   "metadata": {
    "collapsed": false
   },
   "outputs": [
    {
     "data": {
      "text/plain": [
       "list"
      ]
     },
     "execution_count": 103,
     "metadata": {},
     "output_type": "execute_result"
    }
   ],
   "source": [
    "type(student)"
   ]
  },
  {
   "cell_type": "code",
   "execution_count": 104,
   "metadata": {
    "collapsed": false
   },
   "outputs": [
    {
     "data": {
      "text/plain": [
       "'[{\"age\": 18, \"name\": \"qiyue\", \"flag\": false}, {\"age\": 19, \"name\": \"aiyue\"}]'"
      ]
     },
     "execution_count": 104,
     "metadata": {},
     "output_type": "execute_result"
    }
   ],
   "source": [
    "json_str"
   ]
  },
  {
   "cell_type": "code",
   "execution_count": 1,
   "metadata": {
    "collapsed": false
   },
   "outputs": [
    {
     "data": {
      "text/plain": [
       "<VIP.YELLOW: 1>"
      ]
     },
     "execution_count": 1,
     "metadata": {},
     "output_type": "execute_result"
    }
   ],
   "source": [
    "from enum import Enum#枚举 de class 类型   枚举 de name  枚举 de value\n",
    "class VIP(Enum):\n",
    "    YELLOW=1\n",
    "    green=2\n",
    "    black=3\n",
    "    red=4\n",
    "VIP.YELLOW\n"
   ]
  },
  {
   "cell_type": "code",
   "execution_count": 2,
   "metadata": {
    "collapsed": false
   },
   "outputs": [
    {
     "data": {
      "text/plain": [
       "<enum 'VIP'>"
      ]
     },
     "execution_count": 2,
     "metadata": {},
     "output_type": "execute_result"
    }
   ],
   "source": [
    "type(VIP.green)"
   ]
  },
  {
   "cell_type": "code",
   "execution_count": 4,
   "metadata": {
    "collapsed": false
   },
   "outputs": [
    {
     "data": {
      "text/plain": [
       "str"
      ]
     },
     "execution_count": 4,
     "metadata": {},
     "output_type": "execute_result"
    }
   ],
   "source": [
    "type(VIP.green.name)"
   ]
  },
  {
   "cell_type": "code",
   "execution_count": 5,
   "metadata": {
    "collapsed": false
   },
   "outputs": [
    {
     "data": {
      "text/plain": [
       "<VIP.YELLOW: 1>"
      ]
     },
     "execution_count": 5,
     "metadata": {},
     "output_type": "execute_result"
    }
   ],
   "source": [
    "VIP['YELLOW']"
   ]
  },
  {
   "cell_type": "code",
   "execution_count": 6,
   "metadata": {
    "collapsed": false,
    "scrolled": true
   },
   "outputs": [
    {
     "name": "stdout",
     "output_type": "stream",
     "text": [
      "VIP.YELLOW\n",
      "VIP.green\n",
      "VIP.black\n",
      "VIP.red\n"
     ]
    }
   ],
   "source": [
    "for v in VIP:\n",
    "    print(v)"
   ]
  },
  {
   "cell_type": "code",
   "execution_count": 7,
   "metadata": {
    "collapsed": false
   },
   "outputs": [
    {
     "data": {
      "text/plain": [
       "<VIP.green: 2>"
      ]
     },
     "execution_count": 7,
     "metadata": {},
     "output_type": "execute_result"
    }
   ],
   "source": [
    "VIP.green"
   ]
  },
  {
   "cell_type": "code",
   "execution_count": 8,
   "metadata": {
    "collapsed": false
   },
   "outputs": [
    {
     "data": {
      "text/plain": [
       "False"
      ]
     },
     "execution_count": 8,
     "metadata": {},
     "output_type": "execute_result"
    }
   ],
   "source": [
    "VIP.green==VIP.red"
   ]
  },
  {
   "cell_type": "code",
   "execution_count": 9,
   "metadata": {
    "collapsed": false,
    "scrolled": true
   },
   "outputs": [
    {
     "ename": "TypeError",
     "evalue": "unorderable types: VIP() > VIP()",
     "output_type": "error",
     "traceback": [
      "\u001b[0;31m---------------------------------------------------------------------------\u001b[0m",
      "\u001b[0;31mTypeError\u001b[0m                                 Traceback (most recent call last)",
      "\u001b[0;32m<ipython-input-9-4061aa375e51>\u001b[0m in \u001b[0;36m<module>\u001b[0;34m()\u001b[0m\n\u001b[0;32m----> 1\u001b[0;31m \u001b[0mVIP\u001b[0m\u001b[1;33m.\u001b[0m\u001b[0mgreen\u001b[0m\u001b[1;33m>\u001b[0m\u001b[0mVIP\u001b[0m\u001b[1;33m.\u001b[0m\u001b[0mred\u001b[0m\u001b[1;33m\u001b[0m\u001b[0m\n\u001b[0m",
      "\u001b[0;31mTypeError\u001b[0m: unorderable types: VIP() > VIP()"
     ]
    }
   ],
   "source": [
    "VIP.green>VIP.red"
   ]
  },
  {
   "cell_type": "code",
   "execution_count": 10,
   "metadata": {
    "collapsed": false
   },
   "outputs": [
    {
     "data": {
      "text/plain": [
       "False"
      ]
     },
     "execution_count": 10,
     "metadata": {},
     "output_type": "execute_result"
    }
   ],
   "source": [
    "class VIP1(Enum):\n",
    "    YELLOW=10\n",
    "    YELLOW_r=10  #value is same  is 别名\n",
    "    green=2 \n",
    "    black=3\n",
    "    red=4\n",
    "VIP.YELLOW==VIP1.YELLOW"
   ]
  },
  {
   "cell_type": "code",
   "execution_count": 14,
   "metadata": {
    "collapsed": false,
    "scrolled": true
   },
   "outputs": [
    {
     "name": "stdout",
     "output_type": "stream",
     "text": [
      "<class 'tuple'>\n",
      "<class 'tuple'>\n",
      "<class 'tuple'>\n",
      "<class 'tuple'>\n"
     ]
    }
   ],
   "source": [
    "for v in VIP1.__members__.items():\n",
    "    print(type(v))"
   ]
  },
  {
   "cell_type": "code",
   "execution_count": 13,
   "metadata": {
    "collapsed": false
   },
   "outputs": [
    {
     "name": "stdout",
     "output_type": "stream",
     "text": [
      "YELLOW\n",
      "green\n",
      "black\n",
      "red\n"
     ]
    }
   ],
   "source": [
    "for v in VIP1.__members__:\n",
    "    print(v)"
   ]
  },
  {
   "cell_type": "code",
   "execution_count": 15,
   "metadata": {
    "collapsed": false
   },
   "outputs": [
    {
     "name": "stdout",
     "output_type": "stream",
     "text": [
      "('YELLOW', <VIP1.YELLOW: 10>)\n",
      "('green', <VIP1.green: 2>)\n",
      "('black', <VIP1.black: 3>)\n",
      "('red', <VIP1.red: 4>)\n"
     ]
    }
   ],
   "source": [
    "for v in VIP1.__members__.items():\n",
    "    print(v)"
   ]
  },
  {
   "cell_type": "code",
   "execution_count": 16,
   "metadata": {
    "collapsed": false
   },
   "outputs": [
    {
     "name": "stdout",
     "output_type": "stream",
     "text": [
      "VIP.YELLOW\n"
     ]
    }
   ],
   "source": [
    "a=1 \n",
    "print(VIP(a))"
   ]
  },
  {
   "cell_type": "code",
   "execution_count": 17,
   "metadata": {
    "collapsed": true
   },
   "outputs": [],
   "source": [
    "from enum import Enum,IntEnum\n",
    "class VIP(Enum):\n",
    "    YELLOW=10\n",
    "    YELLOW_r=10  #value is same  is 别名\n",
    "    green=2 \n",
    "    black='str'\n",
    "    red=4"
   ]
  },
  {
   "cell_type": "code",
   "execution_count": 18,
   "metadata": {
    "collapsed": false
   },
   "outputs": [
    {
     "ename": "ValueError",
     "evalue": "invalid literal for int() with base 10: 'sy'",
     "output_type": "error",
     "traceback": [
      "\u001b[0;31m---------------------------------------------------------------------------\u001b[0m",
      "\u001b[0;31mValueError\u001b[0m                                Traceback (most recent call last)",
      "\u001b[0;32m<ipython-input-18-cb1f092f8868>\u001b[0m in \u001b[0;36m<module>\u001b[0;34m()\u001b[0m\n\u001b[0;32m----> 1\u001b[0;31m \u001b[1;32mclass\u001b[0m \u001b[0mVIP1\u001b[0m\u001b[1;33m(\u001b[0m\u001b[0mIntEnum\u001b[0m\u001b[1;33m)\u001b[0m\u001b[1;33m:\u001b[0m\u001b[1;33m\u001b[0m\u001b[0m\n\u001b[0m\u001b[1;32m      2\u001b[0m     \u001b[0mYELLOW\u001b[0m\u001b[1;33m=\u001b[0m\u001b[1;36m10\u001b[0m\u001b[1;33m\u001b[0m\u001b[0m\n\u001b[1;32m      3\u001b[0m     \u001b[0mYELLOW_r\u001b[0m\u001b[1;33m=\u001b[0m\u001b[1;36m10\u001b[0m  \u001b[1;31m#value is same  is 别名\u001b[0m\u001b[1;33m\u001b[0m\u001b[0m\n\u001b[1;32m      4\u001b[0m     \u001b[0mgreen\u001b[0m\u001b[1;33m=\u001b[0m\u001b[1;36m2\u001b[0m\u001b[1;33m\u001b[0m\u001b[0m\n\u001b[1;32m      5\u001b[0m     \u001b[0mblack\u001b[0m\u001b[1;33m=\u001b[0m\u001b[1;36m3\u001b[0m\u001b[1;33m\u001b[0m\u001b[0m\n",
      "\u001b[0;32mC:\\zwPython\\py35\\python-3.5.2.amd64\\lib\\enum.py\u001b[0m in \u001b[0;36m__new__\u001b[0;34m(metacls, cls, bases, classdict)\u001b[0m\n\u001b[1;32m    158\u001b[0m                     \u001b[0menum_member\u001b[0m\u001b[1;33m.\u001b[0m\u001b[0m_value_\u001b[0m \u001b[1;33m=\u001b[0m \u001b[0mvalue\u001b[0m\u001b[1;33m\u001b[0m\u001b[0m\n\u001b[1;32m    159\u001b[0m             \u001b[1;32melse\u001b[0m\u001b[1;33m:\u001b[0m\u001b[1;33m\u001b[0m\u001b[0m\n\u001b[0;32m--> 160\u001b[0;31m                 \u001b[0menum_member\u001b[0m \u001b[1;33m=\u001b[0m \u001b[0m__new__\u001b[0m\u001b[1;33m(\u001b[0m\u001b[0menum_class\u001b[0m\u001b[1;33m,\u001b[0m \u001b[1;33m*\u001b[0m\u001b[0margs\u001b[0m\u001b[1;33m)\u001b[0m\u001b[1;33m\u001b[0m\u001b[0m\n\u001b[0m\u001b[1;32m    161\u001b[0m                 \u001b[1;32mif\u001b[0m \u001b[1;32mnot\u001b[0m \u001b[0mhasattr\u001b[0m\u001b[1;33m(\u001b[0m\u001b[0menum_member\u001b[0m\u001b[1;33m,\u001b[0m \u001b[1;34m'_value_'\u001b[0m\u001b[1;33m)\u001b[0m\u001b[1;33m:\u001b[0m\u001b[1;33m\u001b[0m\u001b[0m\n\u001b[1;32m    162\u001b[0m                     \u001b[0menum_member\u001b[0m\u001b[1;33m.\u001b[0m\u001b[0m_value_\u001b[0m \u001b[1;33m=\u001b[0m \u001b[0mmember_type\u001b[0m\u001b[1;33m(\u001b[0m\u001b[1;33m*\u001b[0m\u001b[0margs\u001b[0m\u001b[1;33m)\u001b[0m\u001b[1;33m\u001b[0m\u001b[0m\n",
      "\u001b[0;31mValueError\u001b[0m: invalid literal for int() with base 10: 'sy'"
     ]
    }
   ],
   "source": [
    "class VIP1(IntEnum):\n",
    "    YELLOW=10\n",
    "    YELLOW_r=10  #value is same  is 别名\n",
    "    green=2 \n",
    "    black=3\n",
    "    red='sy'"
   ]
  },
  {
   "cell_type": "code",
   "execution_count": 22,
   "metadata": {
    "collapsed": false
   },
   "outputs": [
    {
     "ename": "ValueError",
     "evalue": "duplicate values found in <enum 'VIP2'>: YELLOW_r -> YELLOW",
     "output_type": "error",
     "traceback": [
      "\u001b[0;31m---------------------------------------------------------------------------\u001b[0m",
      "\u001b[0;31mValueError\u001b[0m                                Traceback (most recent call last)",
      "\u001b[0;32m<ipython-input-22-8a65dbc63ba8>\u001b[0m in \u001b[0;36m<module>\u001b[0;34m()\u001b[0m\n\u001b[1;32m      1\u001b[0m \u001b[1;32mfrom\u001b[0m \u001b[0menum\u001b[0m \u001b[1;32mimport\u001b[0m \u001b[0munique\u001b[0m\u001b[1;33m\u001b[0m\u001b[0m\n\u001b[1;32m      2\u001b[0m \u001b[1;33m@\u001b[0m\u001b[0munique\u001b[0m\u001b[1;33m\u001b[0m\u001b[0m\n\u001b[0;32m----> 3\u001b[0;31m \u001b[1;32mclass\u001b[0m \u001b[0mVIP2\u001b[0m\u001b[1;33m(\u001b[0m\u001b[0mIntEnum\u001b[0m\u001b[1;33m)\u001b[0m\u001b[1;33m:\u001b[0m\u001b[1;33m\u001b[0m\u001b[0m\n\u001b[0m\u001b[1;32m      4\u001b[0m     \u001b[0mYELLOW\u001b[0m\u001b[1;33m=\u001b[0m\u001b[1;36m10\u001b[0m\u001b[1;33m\u001b[0m\u001b[0m\n\u001b[1;32m      5\u001b[0m     \u001b[0mYELLOW_r\u001b[0m\u001b[1;33m=\u001b[0m\u001b[1;36m10\u001b[0m  \u001b[1;31m#value is same  is 别名\u001b[0m\u001b[1;33m\u001b[0m\u001b[0m\n",
      "\u001b[0;32mC:\\zwPython\\py35\\python-3.5.2.amd64\\lib\\enum.py\u001b[0m in \u001b[0;36munique\u001b[0;34m(enumeration)\u001b[0m\n\u001b[1;32m    571\u001b[0m                 [\"%s -> %s\" % (alias, name) for (alias, name) in duplicates])\n\u001b[1;32m    572\u001b[0m         raise ValueError('duplicate values found in %r: %s' %\n\u001b[0;32m--> 573\u001b[0;31m                 (enumeration, alias_details))\n\u001b[0m\u001b[1;32m    574\u001b[0m     \u001b[1;32mreturn\u001b[0m \u001b[0menumeration\u001b[0m\u001b[1;33m\u001b[0m\u001b[0m\n",
      "\u001b[0;31mValueError\u001b[0m: duplicate values found in <enum 'VIP2'>: YELLOW_r -> YELLOW"
     ]
    }
   ],
   "source": [
    "from enum import unique\n",
    "@unique   #value 10 is sme error\n",
    "class VIP2(IntEnum):\n",
    "    YELLOW=10\n",
    "    YELLOW_r=10  #value is same  is 别名\n",
    "    green=2 \n",
    "    black=3\n"
   ]
  },
  {
   "cell_type": "code",
   "execution_count": null,
   "metadata": {
    "collapsed": true
   },
   "outputs": [],
   "source": [
    "a=def or func#一切皆对象"
   ]
  },
  {
   "cell_type": "code",
   "execution_count": 4,
   "metadata": {
    "collapsed": false
   },
   "outputs": [
    {
     "name": "stdout",
     "output_type": "stream",
     "text": [
      "thiis \n"
     ]
    }
   ],
   "source": [
    "def cure_pre():\n",
    "    def cure():\n",
    "        print('thiis ')\n",
    "        pass\n",
    "    return cure\n",
    "f = cure_pre() \n",
    "f()"
   ]
  },
  {
   "cell_type": "code",
   "execution_count": 5,
   "metadata": {
    "collapsed": false
   },
   "outputs": [
    {
     "name": "stdout",
     "output_type": "stream",
     "text": [
      "thiis \n"
     ]
    },
    {
     "data": {
      "text/plain": [
       "100"
      ]
     },
     "execution_count": 5,
     "metadata": {},
     "output_type": "execute_result"
    }
   ],
   "source": [
    "def cure_pre():\n",
    "    a=25\n",
    "    def cure(x):\n",
    "        print('thiis ')\n",
    "        return a*x*x   #25*4\n",
    "        \n",
    "    return cure  #ruturn 函数\n",
    "f = cure_pre()\n",
    "f(2)"
   ]
  },
  {
   "cell_type": "code",
   "execution_count": 17,
   "metadata": {
    "collapsed": false
   },
   "outputs": [
    {
     "name": "stdout",
     "output_type": "stream",
     "text": [
      "(<cell at 0x0000018E206117C8: int object at 0x000000006E7E04D0>,)\n",
      "25\n",
      "thiis \n"
     ]
    },
    {
     "data": {
      "text/plain": [
       "100"
      ]
     },
     "execution_count": 17,
     "metadata": {},
     "output_type": "execute_result"
    }
   ],
   "source": [
    "def cure_pre():\n",
    "    a=25 #闭包  = 函数  +  环境变量\n",
    "    def cure(x):\n",
    "        print('thiis ')\n",
    "        return a*x*x   #25*4\n",
    "        \n",
    "    return cure  #ruturn 函数\n",
    "a=10\n",
    "f = cure_pre()\n",
    "#f(2)\n",
    "print(f.__closure__)\n",
    "print(f.__closure__[0].cell_contents)#闭包\n",
    "f(2)"
   ]
  },
  {
   "cell_type": "code",
   "execution_count": 15,
   "metadata": {
    "collapsed": false,
    "scrolled": true
   },
   "outputs": [
    {
     "name": "stdout",
     "output_type": "stream",
     "text": [
      "None\n",
      "thiis \n"
     ]
    },
    {
     "data": {
      "text/plain": [
       "40"
      ]
     },
     "execution_count": 15,
     "metadata": {},
     "output_type": "execute_result"
    }
   ],
   "source": [
    "def cure_pre():\n",
    "    #a=25\n",
    "    def cure(x):\n",
    "        print('thiis ')\n",
    "        return a*x*x   #25*4\n",
    "        \n",
    "    return cure  #ruturn 函数\n",
    "a=10  #\n",
    "f = cure_pre()\n",
    "\n",
    "#f(2)\n",
    "f(2)"
   ]
  },
  {
   "cell_type": "code",
   "execution_count": 18,
   "metadata": {
    "collapsed": false
   },
   "outputs": [
    {
     "name": "stdout",
     "output_type": "stream",
     "text": [
      "10\n",
      "20\n",
      "10\n"
     ]
    }
   ],
   "source": [
    "def f1():\n",
    "    a=10\n",
    "    def f2():\n",
    "        a=20\n",
    "        print(a)\n",
    "    print(a)\n",
    "    f2()\n",
    "    print(a)\n",
    "f1()"
   ]
  },
  {
   "cell_type": "code",
   "execution_count": 19,
   "metadata": {
    "collapsed": false
   },
   "outputs": [
    {
     "ename": "AttributeError",
     "evalue": "'NoneType' object has no attribute '__closure__'",
     "output_type": "error",
     "traceback": [
      "\u001b[0;31m---------------------------------------------------------------------------\u001b[0m",
      "\u001b[0;31mAttributeError\u001b[0m                            Traceback (most recent call last)",
      "\u001b[0;32m<ipython-input-19-af8e57aafc32>\u001b[0m in \u001b[0;36m<module>\u001b[0;34m()\u001b[0m\n\u001b[1;32m      8\u001b[0m \u001b[1;33m\u001b[0m\u001b[0m\n\u001b[1;32m      9\u001b[0m \u001b[0mf\u001b[0m\u001b[1;33m=\u001b[0m\u001b[0mf1\u001b[0m\u001b[1;33m(\u001b[0m\u001b[1;33m)\u001b[0m\u001b[1;33m\u001b[0m\u001b[0m\n\u001b[0;32m---> 10\u001b[0;31m \u001b[0mprint\u001b[0m\u001b[1;33m(\u001b[0m\u001b[0mf\u001b[0m\u001b[1;33m.\u001b[0m\u001b[0m__closure__\u001b[0m\u001b[1;33m)\u001b[0m\u001b[1;33m\u001b[0m\u001b[0m\n\u001b[0m",
      "\u001b[0;31mAttributeError\u001b[0m: 'NoneType' object has no attribute '__closure__'"
     ]
    }
   ],
   "source": [
    "def f1():\n",
    "    a=10\n",
    "    def f2():\n",
    "        a=20\n",
    "       \n",
    "  \n",
    "    f2()\n",
    "   \n",
    "f=f1()\n",
    "print(f.__closure__)"
   ]
  },
  {
   "cell_type": "code",
   "execution_count": 31,
   "metadata": {
    "collapsed": false
   },
   "outputs": [
    {
     "name": "stdout",
     "output_type": "stream",
     "text": [
      "<function f1.<locals>.f2 at 0x0000018E206FA6A8>\n",
      "None\n"
     ]
    }
   ],
   "source": [
    "def f1():\n",
    "    a=10\n",
    "    def f2():\n",
    "        a=20\n",
    "    return f2  \n",
    "f=f1()\n",
    "print(f)\n",
    "print(f.__closure__)"
   ]
  },
  {
   "cell_type": "code",
   "execution_count": 27,
   "metadata": {
    "collapsed": false
   },
   "outputs": [
    {
     "name": "stdout",
     "output_type": "stream",
     "text": [
      "<function f1.<locals>.f2 at 0x0000018E206FA378>\n",
      "None\n"
     ]
    }
   ],
   "source": [
    "def f1():\n",
    "    a=10\n",
    "    def f2():\n",
    "        \n",
    "        a=20  #a 不引用a=10 is局部变量        闭包不存在\n",
    "        return a\n",
    "    return f2  \n",
    "f=f1()\n",
    "print(f)\n",
    "print(f.__closure__)"
   ]
  },
  {
   "cell_type": "code",
   "execution_count": 28,
   "metadata": {
    "collapsed": false
   },
   "outputs": [
    {
     "name": "stdout",
     "output_type": "stream",
     "text": [
      "<function f1.<locals>.f2 at 0x0000018E206FA950>\n",
      "(<cell at 0x0000018E20611E28: int object at 0x000000006E7E02F0>,)\n"
     ]
    }
   ],
   "source": [
    "def f1():\n",
    "    a=10\n",
    "    def f2():\n",
    "        \n",
    "        \n",
    "        return a\n",
    "    return f2  \n",
    "f=f1()\n",
    "print(f)\n",
    "print(f.__closure__)"
   ]
  },
  {
   "cell_type": "code",
   "execution_count": 29,
   "metadata": {
    "collapsed": false
   },
   "outputs": [
    {
     "name": "stdout",
     "output_type": "stream",
     "text": [
      "<function f1.<locals>.f2 at 0x0000018E206FA8C8>\n",
      "(<cell at 0x0000018E20611C78: int object at 0x000000006E7E02F0>,)\n"
     ]
    }
   ],
   "source": [
    "def f1():\n",
    "    a=10\n",
    "    def f2():        \n",
    "        return a\n",
    "    \n",
    "    return f2  \n",
    "f=f1()\n",
    "print(f)\n",
    "print(f.__closure__)"
   ]
  },
  {
   "cell_type": "code",
   "execution_count": 30,
   "metadata": {
    "collapsed": false
   },
   "outputs": [
    {
     "name": "stdout",
     "output_type": "stream",
     "text": [
      "<function f1.<locals>.f2 at 0x0000018E206FAB70>\n",
      "(<cell at 0x0000018E206116A8: int object at 0x000000006E7E02F0>,)\n"
     ]
    }
   ],
   "source": [
    "def f1():\n",
    "    a=10\n",
    "    def f2():\n",
    "        c= 20*a#闭包 可以引用  不能变量赋值    a=12\n",
    "        \n",
    "        \n",
    "    return f2  \n",
    "f=f1()\n",
    "print(f)\n",
    "print(f.__closure__)"
   ]
  },
  {
   "cell_type": "code",
   "execution_count": 32,
   "metadata": {
    "collapsed": false
   },
   "outputs": [
    {
     "ename": "UnboundLocalError",
     "evalue": "local variable 'origin' referenced before assignment",
     "output_type": "error",
     "traceback": [
      "\u001b[0;31m---------------------------------------------------------------------------\u001b[0m",
      "\u001b[0;31mUnboundLocalError\u001b[0m                         Traceback (most recent call last)",
      "\u001b[0;32m<ipython-input-32-babe4e953342>\u001b[0m in \u001b[0;36m<module>\u001b[0;34m()\u001b[0m\n\u001b[1;32m      5\u001b[0m     \u001b[0morigin\u001b[0m\u001b[1;33m=\u001b[0m \u001b[0mnew_pos\u001b[0m\u001b[1;33m\u001b[0m\u001b[0m\n\u001b[1;32m      6\u001b[0m     \u001b[1;32mreturn\u001b[0m \u001b[0morign\u001b[0m\u001b[1;33m\u001b[0m\u001b[0m\n\u001b[0;32m----> 7\u001b[0;31m \u001b[0mprint\u001b[0m\u001b[1;33m(\u001b[0m\u001b[0mgo\u001b[0m\u001b[1;33m(\u001b[0m\u001b[1;36m2\u001b[0m\u001b[1;33m)\u001b[0m\u001b[1;33m)\u001b[0m\u001b[1;33m\u001b[0m\u001b[0m\n\u001b[0m\u001b[1;32m      8\u001b[0m \u001b[0mprint\u001b[0m\u001b[1;33m(\u001b[0m\u001b[0mgo\u001b[0m\u001b[1;33m(\u001b[0m\u001b[1;36m3\u001b[0m\u001b[1;33m)\u001b[0m\u001b[1;33m)\u001b[0m\u001b[1;33m\u001b[0m\u001b[0m\n\u001b[1;32m      9\u001b[0m \u001b[0mprint\u001b[0m\u001b[1;33m(\u001b[0m\u001b[0mgo\u001b[0m\u001b[1;33m(\u001b[0m\u001b[1;36m6\u001b[0m\u001b[1;33m)\u001b[0m\u001b[1;33m)\u001b[0m\u001b[1;33m\u001b[0m\u001b[0m\n",
      "\u001b[0;32m<ipython-input-32-babe4e953342>\u001b[0m in \u001b[0;36mgo\u001b[0;34m(step)\u001b[0m\n\u001b[1;32m      2\u001b[0m \u001b[0morigin\u001b[0m\u001b[1;33m=\u001b[0m\u001b[1;36m0\u001b[0m\u001b[1;33m\u001b[0m\u001b[0m\n\u001b[1;32m      3\u001b[0m \u001b[1;32mdef\u001b[0m \u001b[0mgo\u001b[0m\u001b[1;33m(\u001b[0m\u001b[0mstep\u001b[0m\u001b[1;33m)\u001b[0m\u001b[1;33m:\u001b[0m\u001b[1;33m\u001b[0m\u001b[0m\n\u001b[0;32m----> 4\u001b[0;31m     \u001b[0mnew_pos\u001b[0m\u001b[1;33m=\u001b[0m\u001b[0morigin\u001b[0m \u001b[1;33m+\u001b[0m\u001b[0mstep\u001b[0m\u001b[1;33m\u001b[0m\u001b[0m\n\u001b[0m\u001b[1;32m      5\u001b[0m     \u001b[0morigin\u001b[0m\u001b[1;33m=\u001b[0m \u001b[0mnew_pos\u001b[0m\u001b[1;33m\u001b[0m\u001b[0m\n\u001b[1;32m      6\u001b[0m     \u001b[1;32mreturn\u001b[0m \u001b[0morign\u001b[0m\u001b[1;33m\u001b[0m\u001b[0m\n",
      "\u001b[0;31mUnboundLocalError\u001b[0m: local variable 'origin' referenced before assignment"
     ]
    }
   ],
   "source": [
    "#闭包   \n",
    "origin=0\n",
    "def go(step):\n",
    "    new_pos=origin +step#局部变量没有define\n",
    "    origin= new_pos\n",
    "    return orign\n",
    "print(go(2))\n",
    "print(go(3))\n",
    "print(go(6))"
   ]
  },
  {
   "cell_type": "code",
   "execution_count": 34,
   "metadata": {
    "collapsed": false
   },
   "outputs": [
    {
     "name": "stdout",
     "output_type": "stream",
     "text": [
      "0\n",
      "0\n",
      "0\n"
     ]
    }
   ],
   "source": [
    "origin=0\n",
    "def go(step):\n",
    "    new_pos=origin +step#局部变量没有define\n",
    "    #origin= new_pos\n",
    "    return origin\n",
    "print(go(2))\n",
    "print(go(3))\n",
    "print(go(6))\n"
   ]
  },
  {
   "cell_type": "code",
   "execution_count": 35,
   "metadata": {
    "collapsed": false
   },
   "outputs": [
    {
     "ename": "UnboundLocalError",
     "evalue": "local variable 'origin' referenced before assignment",
     "output_type": "error",
     "traceback": [
      "\u001b[0;31m---------------------------------------------------------------------------\u001b[0m",
      "\u001b[0;31mUnboundLocalError\u001b[0m                         Traceback (most recent call last)",
      "\u001b[0;32m<ipython-input-35-d3c4f998623a>\u001b[0m in \u001b[0;36m<module>\u001b[0;34m()\u001b[0m\n\u001b[1;32m      4\u001b[0m     \u001b[0morigin\u001b[0m\u001b[1;33m=\u001b[0m \u001b[0mnew_pos\u001b[0m\u001b[1;33m\u001b[0m\u001b[0m\n\u001b[1;32m      5\u001b[0m     \u001b[1;32mreturn\u001b[0m \u001b[0mnew_pos\u001b[0m\u001b[1;33m\u001b[0m\u001b[0m\n\u001b[0;32m----> 6\u001b[0;31m \u001b[0mprint\u001b[0m\u001b[1;33m(\u001b[0m\u001b[0mgo\u001b[0m\u001b[1;33m(\u001b[0m\u001b[1;36m2\u001b[0m\u001b[1;33m)\u001b[0m\u001b[1;33m)\u001b[0m\u001b[1;33m\u001b[0m\u001b[0m\n\u001b[0m\u001b[1;32m      7\u001b[0m \u001b[0mprint\u001b[0m\u001b[1;33m(\u001b[0m\u001b[0mgo\u001b[0m\u001b[1;33m(\u001b[0m\u001b[1;36m3\u001b[0m\u001b[1;33m)\u001b[0m\u001b[1;33m)\u001b[0m\u001b[1;33m\u001b[0m\u001b[0m\n\u001b[1;32m      8\u001b[0m \u001b[0mprint\u001b[0m\u001b[1;33m(\u001b[0m\u001b[0mgo\u001b[0m\u001b[1;33m(\u001b[0m\u001b[1;36m6\u001b[0m\u001b[1;33m)\u001b[0m\u001b[1;33m)\u001b[0m\u001b[1;33m\u001b[0m\u001b[0m\n",
      "\u001b[0;32m<ipython-input-35-d3c4f998623a>\u001b[0m in \u001b[0;36mgo\u001b[0;34m(step)\u001b[0m\n\u001b[1;32m      1\u001b[0m \u001b[0morigin\u001b[0m\u001b[1;33m=\u001b[0m\u001b[1;36m0\u001b[0m\u001b[1;33m\u001b[0m\u001b[0m\n\u001b[1;32m      2\u001b[0m \u001b[1;32mdef\u001b[0m \u001b[0mgo\u001b[0m\u001b[1;33m(\u001b[0m\u001b[0mstep\u001b[0m\u001b[1;33m)\u001b[0m\u001b[1;33m:\u001b[0m\u001b[1;33m\u001b[0m\u001b[0m\n\u001b[0;32m----> 3\u001b[0;31m     \u001b[0mnew_pos\u001b[0m\u001b[1;33m=\u001b[0m\u001b[0morigin\u001b[0m \u001b[1;33m+\u001b[0m\u001b[0mstep\u001b[0m\u001b[1;31m#局部变量没有define\u001b[0m\u001b[1;33m\u001b[0m\u001b[0m\n\u001b[0m\u001b[1;32m      4\u001b[0m     \u001b[0morigin\u001b[0m\u001b[1;33m=\u001b[0m \u001b[0mnew_pos\u001b[0m\u001b[1;33m\u001b[0m\u001b[0m\n\u001b[1;32m      5\u001b[0m     \u001b[1;32mreturn\u001b[0m \u001b[0mnew_pos\u001b[0m\u001b[1;33m\u001b[0m\u001b[0m\n",
      "\u001b[0;31mUnboundLocalError\u001b[0m: local variable 'origin' referenced before assignment"
     ]
    }
   ],
   "source": [
    "origin=0\n",
    "def go(step):\n",
    "    new_pos=origin +step#new-pos 局部变量没有define\n",
    "    origin= new_pos#  等号左边的值 是局部变量  不去外面找\n",
    "    return new_pos\n",
    "print(go(2))\n",
    "print(go(3))\n",
    "print(go(6))"
   ]
  },
  {
   "cell_type": "code",
   "execution_count": 37,
   "metadata": {
    "collapsed": false
   },
   "outputs": [
    {
     "name": "stdout",
     "output_type": "stream",
     "text": [
      "2\n",
      "5\n",
      "11\n"
     ]
    }
   ],
   "source": [
    "origin=0\n",
    "def go(step):\n",
    "    global origin\n",
    "    new_pos=origin +step\n",
    "    origin= new_pos#  \n",
    "    return new_pos\n",
    "print(go(2))\n",
    "print(go(3))\n",
    "print(go(6))"
   ]
  },
  {
   "cell_type": "code",
   "execution_count": 38,
   "metadata": {
    "collapsed": false
   },
   "outputs": [
    {
     "ename": "TypeError",
     "evalue": "'NoneType' object is not callable",
     "output_type": "error",
     "traceback": [
      "\u001b[0;31m---------------------------------------------------------------------------\u001b[0m",
      "\u001b[0;31mTypeError\u001b[0m                                 Traceback (most recent call last)",
      "\u001b[0;32m<ipython-input-38-ff66aa3fe246>\u001b[0m in \u001b[0;36m<module>\u001b[0;34m()\u001b[0m\n\u001b[1;32m      5\u001b[0m         \u001b[1;32mreturn\u001b[0m \u001b[0mnew_pos\u001b[0m\u001b[1;33m\u001b[0m\u001b[0m\n\u001b[1;32m      6\u001b[0m \u001b[0mtourist\u001b[0m \u001b[1;33m=\u001b[0m\u001b[0mfactory\u001b[0m\u001b[1;33m(\u001b[0m\u001b[0morigin\u001b[0m\u001b[1;33m)\u001b[0m\u001b[1;33m\u001b[0m\u001b[0m\n\u001b[0;32m----> 7\u001b[0;31m \u001b[0mprint\u001b[0m\u001b[1;33m(\u001b[0m\u001b[0mtourist\u001b[0m\u001b[1;33m(\u001b[0m\u001b[1;36m2\u001b[0m\u001b[1;33m)\u001b[0m\u001b[1;33m)\u001b[0m\u001b[1;33m\u001b[0m\u001b[0m\n\u001b[0m\u001b[1;32m      8\u001b[0m \u001b[0mprint\u001b[0m\u001b[1;33m(\u001b[0m\u001b[0mtourist\u001b[0m\u001b[1;33m(\u001b[0m\u001b[1;36m12\u001b[0m\u001b[1;33m)\u001b[0m\u001b[1;33m)\u001b[0m\u001b[1;33m\u001b[0m\u001b[0m\n\u001b[1;32m      9\u001b[0m \u001b[0mprint\u001b[0m\u001b[1;33m(\u001b[0m\u001b[0mtourist\u001b[0m\u001b[1;33m(\u001b[0m\u001b[1;36m20\u001b[0m\u001b[1;33m)\u001b[0m\u001b[1;33m)\u001b[0m\u001b[1;33m\u001b[0m\u001b[0m\n",
      "\u001b[0;31mTypeError\u001b[0m: 'NoneType' object is not callable"
     ]
    }
   ],
   "source": [
    "origin=0\n",
    "def factory(pos):\n",
    "    def go(step):\n",
    "        new_pos=pos+step\n",
    "        pos =new_pos\n",
    "        return new_pos\n",
    "tourist =factory(origin)\n",
    "print(tourist(2))\n",
    "print(tourist(12))\n",
    "print(tourist(20))"
   ]
  },
  {
   "cell_type": "code",
   "execution_count": 39,
   "metadata": {
    "collapsed": false
   },
   "outputs": [
    {
     "ename": "UnboundLocalError",
     "evalue": "local variable 'pos' referenced before assignment",
     "output_type": "error",
     "traceback": [
      "\u001b[0;31m---------------------------------------------------------------------------\u001b[0m",
      "\u001b[0;31mUnboundLocalError\u001b[0m                         Traceback (most recent call last)",
      "\u001b[0;32m<ipython-input-39-4e57bcb54e75>\u001b[0m in \u001b[0;36m<module>\u001b[0;34m()\u001b[0m\n\u001b[1;32m      6\u001b[0m     \u001b[1;32mreturn\u001b[0m \u001b[0mgo\u001b[0m\u001b[1;33m\u001b[0m\u001b[0m\n\u001b[1;32m      7\u001b[0m \u001b[0mtourist\u001b[0m \u001b[1;33m=\u001b[0m\u001b[0mfactory\u001b[0m\u001b[1;33m(\u001b[0m\u001b[0morigin\u001b[0m\u001b[1;33m)\u001b[0m\u001b[1;33m\u001b[0m\u001b[0m\n\u001b[0;32m----> 8\u001b[0;31m \u001b[0mprint\u001b[0m\u001b[1;33m(\u001b[0m\u001b[0mtourist\u001b[0m\u001b[1;33m(\u001b[0m\u001b[1;36m2\u001b[0m\u001b[1;33m)\u001b[0m\u001b[1;33m)\u001b[0m\u001b[1;33m\u001b[0m\u001b[0m\n\u001b[0m\u001b[1;32m      9\u001b[0m \u001b[0mprint\u001b[0m\u001b[1;33m(\u001b[0m\u001b[0mtourist\u001b[0m\u001b[1;33m(\u001b[0m\u001b[1;36m12\u001b[0m\u001b[1;33m)\u001b[0m\u001b[1;33m)\u001b[0m\u001b[1;33m\u001b[0m\u001b[0m\n\u001b[1;32m     10\u001b[0m \u001b[0mprint\u001b[0m\u001b[1;33m(\u001b[0m\u001b[0mtourist\u001b[0m\u001b[1;33m(\u001b[0m\u001b[1;36m20\u001b[0m\u001b[1;33m)\u001b[0m\u001b[1;33m)\u001b[0m\u001b[1;33m\u001b[0m\u001b[0m\n",
      "\u001b[0;32m<ipython-input-39-4e57bcb54e75>\u001b[0m in \u001b[0;36mgo\u001b[0;34m(step)\u001b[0m\n\u001b[1;32m      1\u001b[0m \u001b[1;32mdef\u001b[0m \u001b[0mfactory\u001b[0m\u001b[1;33m(\u001b[0m\u001b[0mpos\u001b[0m\u001b[1;33m)\u001b[0m\u001b[1;33m:\u001b[0m\u001b[1;33m\u001b[0m\u001b[0m\n\u001b[1;32m      2\u001b[0m     \u001b[1;32mdef\u001b[0m \u001b[0mgo\u001b[0m\u001b[1;33m(\u001b[0m\u001b[0mstep\u001b[0m\u001b[1;33m)\u001b[0m\u001b[1;33m:\u001b[0m\u001b[1;33m\u001b[0m\u001b[0m\n\u001b[0;32m----> 3\u001b[0;31m         \u001b[0mnew_pos\u001b[0m\u001b[1;33m=\u001b[0m\u001b[0mpos\u001b[0m\u001b[1;33m+\u001b[0m\u001b[0mstep\u001b[0m\u001b[1;33m\u001b[0m\u001b[0m\n\u001b[0m\u001b[1;32m      4\u001b[0m         \u001b[0mpos\u001b[0m \u001b[1;33m=\u001b[0m\u001b[0mnew_pos\u001b[0m\u001b[1;33m\u001b[0m\u001b[0m\n\u001b[1;32m      5\u001b[0m         \u001b[1;32mreturn\u001b[0m \u001b[0mnew_pos\u001b[0m\u001b[1;33m\u001b[0m\u001b[0m\n",
      "\u001b[0;31mUnboundLocalError\u001b[0m: local variable 'pos' referenced before assignment"
     ]
    }
   ],
   "source": [
    "origin=0\n",
    "def factory(pos):\n",
    "    def go(step):\n",
    "        new_pos=pos+step\n",
    "        pos =new_pos\n",
    "        return new_pos\n",
    "    return go\n",
    "tourist =factory(origin)\n",
    "print(tourist(2))\n",
    "print(tourist(12))\n",
    "print(tourist(20))"
   ]
  },
  {
   "cell_type": "code",
   "execution_count": 46,
   "metadata": {
    "collapsed": false
   },
   "outputs": [
    {
     "name": "stdout",
     "output_type": "stream",
     "text": [
      "2\n",
      "5\n",
      "10\n"
     ]
    }
   ],
   "source": [
    "origin=0\n",
    "def factory1(pos):\n",
    "    def go(step):\n",
    "        nonlocal pos   #not local\n",
    "        new_pos=pos+step\n",
    "        pos =new_pos\n",
    "        return new_pos\n",
    "    return go\n",
    "tourist1 =factory1(origin)\n",
    "print(tourist1(2))\n",
    "print(tourist1(3))\n",
    "print(tourist1(5))"
   ]
  },
  {
   "cell_type": "code",
   "execution_count": null,
   "metadata": {
    "collapsed": true
   },
   "outputs": [],
   "source": []
  },
  {
   "cell_type": "code",
   "execution_count": null,
   "metadata": {
    "collapsed": true
   },
   "outputs": [],
   "source": []
  },
  {
   "cell_type": "code",
   "execution_count": null,
   "metadata": {
    "collapsed": true
   },
   "outputs": [],
   "source": []
  },
  {
   "cell_type": "code",
   "execution_count": null,
   "metadata": {
    "collapsed": true
   },
   "outputs": [],
   "source": []
  },
  {
   "cell_type": "code",
   "execution_count": null,
   "metadata": {
    "collapsed": true
   },
   "outputs": [],
   "source": []
  },
  {
   "cell_type": "code",
   "execution_count": null,
   "metadata": {
    "collapsed": true
   },
   "outputs": [],
   "source": []
  },
  {
   "cell_type": "code",
   "execution_count": null,
   "metadata": {
    "collapsed": true
   },
   "outputs": [],
   "source": []
  },
  {
   "cell_type": "code",
   "execution_count": null,
   "metadata": {
    "collapsed": true
   },
   "outputs": [],
   "source": []
  },
  {
   "cell_type": "code",
   "execution_count": null,
   "metadata": {
    "collapsed": true
   },
   "outputs": [],
   "source": []
  },
  {
   "cell_type": "code",
   "execution_count": null,
   "metadata": {
    "collapsed": true
   },
   "outputs": [],
   "source": []
  },
  {
   "cell_type": "code",
   "execution_count": null,
   "metadata": {
    "collapsed": true
   },
   "outputs": [],
   "source": []
  },
  {
   "cell_type": "code",
   "execution_count": null,
   "metadata": {
    "collapsed": true
   },
   "outputs": [],
   "source": []
  },
  {
   "cell_type": "code",
   "execution_count": null,
   "metadata": {
    "collapsed": true
   },
   "outputs": [],
   "source": []
  }
 ],
 "metadata": {
  "kernelspec": {
   "display_name": "Python 3",
   "language": "python",
   "name": "python3"
  },
  "language_info": {
   "codemirror_mode": {
    "name": "ipython",
    "version": 3
   },
   "file_extension": ".py",
   "mimetype": "text/x-python",
   "name": "python",
   "nbconvert_exporter": "python",
   "pygments_lexer": "ipython3",
   "version": "3.5.2"
  }
 },
 "nbformat": 4,
 "nbformat_minor": 0
}
